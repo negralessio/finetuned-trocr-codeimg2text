{
 "cells": [
  {
   "cell_type": "markdown",
   "id": "450c5b98",
   "metadata": {
    "pycharm": {
     "name": "#%% md\n"
    }
   },
   "source": [
    "# About this Notebook\n",
    "Test-Notebook for the inference of the pretrained TrOCR-model."
   ]
  },
  {
   "cell_type": "markdown",
   "id": "705dce2a",
   "metadata": {
    "pycharm": {
     "name": "#%% md\n"
    }
   },
   "source": [
    "## Setup"
   ]
  },
  {
   "cell_type": "code",
   "execution_count": 7,
   "id": "a5a5bf80",
   "metadata": {
    "pycharm": {
     "name": "#%%\n"
    }
   },
   "outputs": [],
   "source": [
    "import pandas as pd\n",
    "import os\n",
    "from pathlib import Path\n",
    "\n",
    "# In case the setup of the src module doesn't work, use sys.path to find the imported class. If sys.path is used, the src. must be removed from the import statement.\n",
    "# import sys\n",
    "# module_path = os.path.abspath(os.path.join('..'))\n",
    "# if module_path not in sys.path:\n",
    "#     sys.path.append(Path(module_path).joinpath(\"src\").as_posix())\n",
    "\n",
    "from src.custom_model import CustomTrOCR"
   ]
  },
  {
   "cell_type": "markdown",
   "id": "f0a28a1a",
   "metadata": {
    "pycharm": {
     "name": "#%% md\n"
    }
   },
   "source": [
    "## Load data & models"
   ]
  },
  {
   "cell_type": "markdown",
   "id": "bd967c68",
   "metadata": {
    "pycharm": {
     "name": "#%% md\n"
    }
   },
   "source": [
    "#### Load data"
   ]
  },
  {
   "cell_type": "code",
   "execution_count": 2,
   "id": "59d771ed",
   "metadata": {
    "pycharm": {
     "name": "#%%\n"
    }
   },
   "outputs": [
    {
     "data": {
      "text/html": [
       "<div>\n",
       "<style scoped>\n",
       "    .dataframe tbody tr th:only-of-type {\n",
       "        vertical-align: middle;\n",
       "    }\n",
       "\n",
       "    .dataframe tbody tr th {\n",
       "        vertical-align: top;\n",
       "    }\n",
       "\n",
       "    .dataframe thead th {\n",
       "        text-align: right;\n",
       "    }\n",
       "</style>\n",
       "<table border=\"1\" class=\"dataframe\">\n",
       "  <thead>\n",
       "    <tr style=\"text-align: right;\">\n",
       "      <th></th>\n",
       "      <th>img_id</th>\n",
       "      <th>img_path</th>\n",
       "      <th>line_img_path</th>\n",
       "      <th>font</th>\n",
       "      <th>theme</th>\n",
       "      <th>line_number</th>\n",
       "      <th>x</th>\n",
       "      <th>y</th>\n",
       "      <th>height</th>\n",
       "      <th>width</th>\n",
       "      <th>character_width</th>\n",
       "      <th>code_width</th>\n",
       "      <th>text</th>\n",
       "    </tr>\n",
       "  </thead>\n",
       "  <tbody>\n",
       "    <tr>\n",
       "      <th>line1</th>\n",
       "      <td>img1</td>\n",
       "      <td>../data/raw/Python/7sDream~zhihu-py3/docs~conf...</td>\n",
       "      <td>../data/raw/Python/7sDream~zhihu-py3/docs~conf...</td>\n",
       "      <td>Andale Mono</td>\n",
       "      <td>Learn with Sumit Theme</td>\n",
       "      <td>1</td>\n",
       "      <td>326</td>\n",
       "      <td>57</td>\n",
       "      <td>19.0</td>\n",
       "      <td>992.0</td>\n",
       "      <td>8.409091</td>\n",
       "      <td>185.0</td>\n",
       "      <td>#!/usr/bin/env python3</td>\n",
       "    </tr>\n",
       "    <tr>\n",
       "      <th>line2</th>\n",
       "      <td>img1</td>\n",
       "      <td>../data/raw/Python/7sDream~zhihu-py3/docs~conf...</td>\n",
       "      <td>../data/raw/Python/7sDream~zhihu-py3/docs~conf...</td>\n",
       "      <td>Andale Mono</td>\n",
       "      <td>Learn with Sumit Theme</td>\n",
       "      <td>2</td>\n",
       "      <td>326</td>\n",
       "      <td>76</td>\n",
       "      <td>19.0</td>\n",
       "      <td>992.0</td>\n",
       "      <td>8.391304</td>\n",
       "      <td>193.0</td>\n",
       "      <td># -*- coding: utf-8 -*-</td>\n",
       "    </tr>\n",
       "    <tr>\n",
       "      <th>line3</th>\n",
       "      <td>img1</td>\n",
       "      <td>../data/raw/Python/7sDream~zhihu-py3/docs~conf...</td>\n",
       "      <td>../data/raw/Python/7sDream~zhihu-py3/docs~conf...</td>\n",
       "      <td>Andale Mono</td>\n",
       "      <td>Learn with Sumit Theme</td>\n",
       "      <td>3</td>\n",
       "      <td>326</td>\n",
       "      <td>95</td>\n",
       "      <td>19.0</td>\n",
       "      <td>992.0</td>\n",
       "      <td>8.000000</td>\n",
       "      <td>8.0</td>\n",
       "      <td>#</td>\n",
       "    </tr>\n",
       "    <tr>\n",
       "      <th>line4</th>\n",
       "      <td>img1</td>\n",
       "      <td>../data/raw/Python/7sDream~zhihu-py3/docs~conf...</td>\n",
       "      <td>../data/raw/Python/7sDream~zhihu-py3/docs~conf...</td>\n",
       "      <td>Andale Mono</td>\n",
       "      <td>Learn with Sumit Theme</td>\n",
       "      <td>4</td>\n",
       "      <td>326</td>\n",
       "      <td>114</td>\n",
       "      <td>19.0</td>\n",
       "      <td>992.0</td>\n",
       "      <td>8.403226</td>\n",
       "      <td>521.0</td>\n",
       "      <td># zhihu-py3 documentation build configuration ...</td>\n",
       "    </tr>\n",
       "    <tr>\n",
       "      <th>line5</th>\n",
       "      <td>img1</td>\n",
       "      <td>../data/raw/Python/7sDream~zhihu-py3/docs~conf...</td>\n",
       "      <td>../data/raw/Python/7sDream~zhihu-py3/docs~conf...</td>\n",
       "      <td>Andale Mono</td>\n",
       "      <td>Learn with Sumit Theme</td>\n",
       "      <td>5</td>\n",
       "      <td>326</td>\n",
       "      <td>133</td>\n",
       "      <td>19.0</td>\n",
       "      <td>992.0</td>\n",
       "      <td>8.395833</td>\n",
       "      <td>403.0</td>\n",
       "      <td># sphinx-quickstart on Sun Feb 22 23:01:19 2015.</td>\n",
       "    </tr>\n",
       "    <tr>\n",
       "      <th>...</th>\n",
       "      <td>...</td>\n",
       "      <td>...</td>\n",
       "      <td>...</td>\n",
       "      <td>...</td>\n",
       "      <td>...</td>\n",
       "      <td>...</td>\n",
       "      <td>...</td>\n",
       "      <td>...</td>\n",
       "      <td>...</td>\n",
       "      <td>...</td>\n",
       "      <td>...</td>\n",
       "      <td>...</td>\n",
       "      <td>...</td>\n",
       "    </tr>\n",
       "    <tr>\n",
       "      <th>line128</th>\n",
       "      <td>img5</td>\n",
       "      <td>../data/raw/Python/7sDream~zhihu-py3/zhihu~me....</td>\n",
       "      <td>../data/raw/Python/7sDream~zhihu-py3/zhihu~me....</td>\n",
       "      <td>Andale Mono</td>\n",
       "      <td>Learn with Sumit Theme</td>\n",
       "      <td>25</td>\n",
       "      <td>326</td>\n",
       "      <td>513</td>\n",
       "      <td>19.0</td>\n",
       "      <td>992.0</td>\n",
       "      <td>9.558824</td>\n",
       "      <td>325.0</td>\n",
       "      <td>取值        说明       默认值</td>\n",
       "    </tr>\n",
       "    <tr>\n",
       "      <th>line129</th>\n",
       "      <td>img5</td>\n",
       "      <td>../data/raw/Python/7sDream~zhihu-py3/zhihu~me....</td>\n",
       "      <td>../data/raw/Python/7sDream~zhihu-py3/zhihu~me....</td>\n",
       "      <td>Andale Mono</td>\n",
       "      <td>Learn with Sumit Theme</td>\n",
       "      <td>26</td>\n",
       "      <td>326</td>\n",
       "      <td>532</td>\n",
       "      <td>19.0</td>\n",
       "      <td>992.0</td>\n",
       "      <td>8.414634</td>\n",
       "      <td>345.0</td>\n",
       "      <td>===== ================ ======</td>\n",
       "    </tr>\n",
       "    <tr>\n",
       "      <th>line130</th>\n",
       "      <td>img5</td>\n",
       "      <td>../data/raw/Python/7sDream~zhihu-py3/zhihu~me....</td>\n",
       "      <td>../data/raw/Python/7sDream~zhihu-py3/zhihu~me....</td>\n",
       "      <td>Andale Mono</td>\n",
       "      <td>Learn with Sumit Theme</td>\n",
       "      <td>27</td>\n",
       "      <td>326</td>\n",
       "      <td>551</td>\n",
       "      <td>19.0</td>\n",
       "      <td>992.0</td>\n",
       "      <td>8.714286</td>\n",
       "      <td>305.0</td>\n",
       "      <td>up    赞同              √</td>\n",
       "    </tr>\n",
       "    <tr>\n",
       "      <th>line131</th>\n",
       "      <td>img5</td>\n",
       "      <td>../data/raw/Python/7sDream~zhihu-py3/zhihu~me....</td>\n",
       "      <td>../data/raw/Python/7sDream~zhihu-py3/zhihu~me....</td>\n",
       "      <td>Andale Mono</td>\n",
       "      <td>Learn with Sumit Theme</td>\n",
       "      <td>28</td>\n",
       "      <td>326</td>\n",
       "      <td>570</td>\n",
       "      <td>19.0</td>\n",
       "      <td>992.0</td>\n",
       "      <td>8.714286</td>\n",
       "      <td>305.0</td>\n",
       "      <td>down  反对              X</td>\n",
       "    </tr>\n",
       "    <tr>\n",
       "      <th>line132</th>\n",
       "      <td>img5</td>\n",
       "      <td>../data/raw/Python/7sDream~zhihu-py3/zhihu~me....</td>\n",
       "      <td>../data/raw/Python/7sDream~zhihu-py3/zhihu~me....</td>\n",
       "      <td>Andale Mono</td>\n",
       "      <td>Learn with Sumit Theme</td>\n",
       "      <td>29</td>\n",
       "      <td>326</td>\n",
       "      <td>589</td>\n",
       "      <td>19.0</td>\n",
       "      <td>992.0</td>\n",
       "      <td>9.931034</td>\n",
       "      <td>288.0</td>\n",
       "      <td>clear 既不赞同也不反对  X</td>\n",
       "    </tr>\n",
       "  </tbody>\n",
       "</table>\n",
       "<p>132 rows × 13 columns</p>\n",
       "</div>"
      ],
      "text/plain": [
       "        img_id                                           img_path  \\\n",
       "line1     img1  ../data/raw/Python/7sDream~zhihu-py3/docs~conf...   \n",
       "line2     img1  ../data/raw/Python/7sDream~zhihu-py3/docs~conf...   \n",
       "line3     img1  ../data/raw/Python/7sDream~zhihu-py3/docs~conf...   \n",
       "line4     img1  ../data/raw/Python/7sDream~zhihu-py3/docs~conf...   \n",
       "line5     img1  ../data/raw/Python/7sDream~zhihu-py3/docs~conf...   \n",
       "...        ...                                                ...   \n",
       "line128   img5  ../data/raw/Python/7sDream~zhihu-py3/zhihu~me....   \n",
       "line129   img5  ../data/raw/Python/7sDream~zhihu-py3/zhihu~me....   \n",
       "line130   img5  ../data/raw/Python/7sDream~zhihu-py3/zhihu~me....   \n",
       "line131   img5  ../data/raw/Python/7sDream~zhihu-py3/zhihu~me....   \n",
       "line132   img5  ../data/raw/Python/7sDream~zhihu-py3/zhihu~me....   \n",
       "\n",
       "                                             line_img_path         font  \\\n",
       "line1    ../data/raw/Python/7sDream~zhihu-py3/docs~conf...  Andale Mono   \n",
       "line2    ../data/raw/Python/7sDream~zhihu-py3/docs~conf...  Andale Mono   \n",
       "line3    ../data/raw/Python/7sDream~zhihu-py3/docs~conf...  Andale Mono   \n",
       "line4    ../data/raw/Python/7sDream~zhihu-py3/docs~conf...  Andale Mono   \n",
       "line5    ../data/raw/Python/7sDream~zhihu-py3/docs~conf...  Andale Mono   \n",
       "...                                                    ...          ...   \n",
       "line128  ../data/raw/Python/7sDream~zhihu-py3/zhihu~me....  Andale Mono   \n",
       "line129  ../data/raw/Python/7sDream~zhihu-py3/zhihu~me....  Andale Mono   \n",
       "line130  ../data/raw/Python/7sDream~zhihu-py3/zhihu~me....  Andale Mono   \n",
       "line131  ../data/raw/Python/7sDream~zhihu-py3/zhihu~me....  Andale Mono   \n",
       "line132  ../data/raw/Python/7sDream~zhihu-py3/zhihu~me....  Andale Mono   \n",
       "\n",
       "                          theme  line_number    x    y  height  width  \\\n",
       "line1    Learn with Sumit Theme            1  326   57    19.0  992.0   \n",
       "line2    Learn with Sumit Theme            2  326   76    19.0  992.0   \n",
       "line3    Learn with Sumit Theme            3  326   95    19.0  992.0   \n",
       "line4    Learn with Sumit Theme            4  326  114    19.0  992.0   \n",
       "line5    Learn with Sumit Theme            5  326  133    19.0  992.0   \n",
       "...                         ...          ...  ...  ...     ...    ...   \n",
       "line128  Learn with Sumit Theme           25  326  513    19.0  992.0   \n",
       "line129  Learn with Sumit Theme           26  326  532    19.0  992.0   \n",
       "line130  Learn with Sumit Theme           27  326  551    19.0  992.0   \n",
       "line131  Learn with Sumit Theme           28  326  570    19.0  992.0   \n",
       "line132  Learn with Sumit Theme           29  326  589    19.0  992.0   \n",
       "\n",
       "         character_width  code_width  \\\n",
       "line1           8.409091       185.0   \n",
       "line2           8.391304       193.0   \n",
       "line3           8.000000         8.0   \n",
       "line4           8.403226       521.0   \n",
       "line5           8.395833       403.0   \n",
       "...                  ...         ...   \n",
       "line128         9.558824       325.0   \n",
       "line129         8.414634       345.0   \n",
       "line130         8.714286       305.0   \n",
       "line131         8.714286       305.0   \n",
       "line132         9.931034       288.0   \n",
       "\n",
       "                                                      text  \n",
       "line1                               #!/usr/bin/env python3  \n",
       "line2                              # -*- coding: utf-8 -*-  \n",
       "line3                                                    #  \n",
       "line4    # zhihu-py3 documentation build configuration ...  \n",
       "line5     # sphinx-quickstart on Sun Feb 22 23:01:19 2015.  \n",
       "...                                                    ...  \n",
       "line128                             取值        说明       默认值  \n",
       "line129                      ===== ================ ======  \n",
       "line130                            up    赞同              √  \n",
       "line131                            down  反对              X  \n",
       "line132                                  clear 既不赞同也不反对  X  \n",
       "\n",
       "[132 rows x 13 columns]"
      ]
     },
     "execution_count": 2,
     "metadata": {},
     "output_type": "execute_result"
    }
   ],
   "source": [
    "cm = CustomTrOCR()\n",
    "data = cm.load_data(\"../data/extracted/lines_data_cw.json\")\n",
    "data"
   ]
  },
  {
   "cell_type": "markdown",
   "id": "1fbead95",
   "metadata": {
    "pycharm": {
     "name": "#%% md\n"
    }
   },
   "source": [
    "#### Load TrOCRProcessor & VisualEncoderDecoderModel from HuggingFace Hub (first time) and save them locally"
   ]
  },
  {
   "cell_type": "code",
   "execution_count": 3,
   "id": "aac1a6d2",
   "metadata": {
    "pycharm": {
     "name": "#%%\n"
    }
   },
   "outputs": [
    {
     "name": "stderr",
     "output_type": "stream",
     "text": [
      "Some weights of VisionEncoderDecoderModel were not initialized from the model checkpoint at microsoft/trocr-base-stage1 and are newly initialized: ['encoder.pooler.dense.weight', 'encoder.pooler.dense.bias']\n",
      "You should probably TRAIN this model on a down-stream task to be able to use it for predictions and inference.\n"
     ]
    }
   ],
   "source": [
    "# Load the model from huggingface\n",
    "cm.load_model('microsoft/trocr-base-stage1', source='huggingface')\n",
    "\n",
    "# Save the model to a directory\n",
    "cm.dump_model(\"../models/trocr_base_stage1\")"
   ]
  },
  {
   "cell_type": "markdown",
   "id": "2d9e9615",
   "metadata": {
    "pycharm": {
     "name": "#%% md\n"
    }
   },
   "source": [
    "#### Load processor & model from local directory"
   ]
  },
  {
   "cell_type": "code",
   "execution_count": 4,
   "id": "6f6debed",
   "metadata": {
    "pycharm": {
     "name": "#%%\n"
    }
   },
   "outputs": [],
   "source": [
    "# Load the model from local directory\n",
    "cm.load_model(\"../models/trocr_base_stage1\")"
   ]
  },
  {
   "cell_type": "markdown",
   "id": "9ca87f01",
   "metadata": {
    "pycharm": {
     "name": "#%% md\n"
    }
   },
   "source": [
    "## Inference"
   ]
  },
  {
   "cell_type": "markdown",
   "id": "c2277a3d",
   "metadata": {
    "pycharm": {
     "name": "#%% md\n"
    }
   },
   "source": [
    "#### Predict the text of some text images"
   ]
  },
  {
   "cell_type": "code",
   "execution_count": 5,
   "id": "fdb351d8",
   "metadata": {
    "pycharm": {
     "name": "#%%\n"
    }
   },
   "outputs": [
    {
     "data": {
      "text/html": [
       "<div>\n",
       "<style scoped>\n",
       "    .dataframe tbody tr th:only-of-type {\n",
       "        vertical-align: middle;\n",
       "    }\n",
       "\n",
       "    .dataframe tbody tr th {\n",
       "        vertical-align: top;\n",
       "    }\n",
       "\n",
       "    .dataframe thead th {\n",
       "        text-align: right;\n",
       "    }\n",
       "</style>\n",
       "<table border=\"1\" class=\"dataframe\">\n",
       "  <thead>\n",
       "    <tr style=\"text-align: right;\">\n",
       "      <th></th>\n",
       "      <th>img_id</th>\n",
       "      <th>img_path</th>\n",
       "      <th>line_img_path</th>\n",
       "      <th>font</th>\n",
       "      <th>theme</th>\n",
       "      <th>line_number</th>\n",
       "      <th>x</th>\n",
       "      <th>y</th>\n",
       "      <th>height</th>\n",
       "      <th>width</th>\n",
       "      <th>character_width</th>\n",
       "      <th>code_width</th>\n",
       "      <th>text</th>\n",
       "    </tr>\n",
       "  </thead>\n",
       "  <tbody>\n",
       "    <tr>\n",
       "      <th>line119</th>\n",
       "      <td>img5</td>\n",
       "      <td>../data/raw/Python/7sDream~zhihu-py3/zhihu~me....</td>\n",
       "      <td>../data/raw/Python/7sDream~zhihu-py3/zhihu~me....</td>\n",
       "      <td>Andale Mono</td>\n",
       "      <td>Learn with Sumit Theme</td>\n",
       "      <td>16</td>\n",
       "      <td>326</td>\n",
       "      <td>342</td>\n",
       "      <td>19.0</td>\n",
       "      <td>992.0</td>\n",
       "      <td>8.400000</td>\n",
       "      <td>420.0</td>\n",
       "      <td>super(Me, self).__init__(url, name, mo...</td>\n",
       "    </tr>\n",
       "    <tr>\n",
       "      <th>line14</th>\n",
       "      <td>img1</td>\n",
       "      <td>../data/raw/Python/7sDream~zhihu-py3/docs~conf...</td>\n",
       "      <td>../data/raw/Python/7sDream~zhihu-py3/docs~conf...</td>\n",
       "      <td>Andale Mono</td>\n",
       "      <td>Learn with Sumit Theme</td>\n",
       "      <td>14</td>\n",
       "      <td>326</td>\n",
       "      <td>304</td>\n",
       "      <td>19.0</td>\n",
       "      <td>992.0</td>\n",
       "      <td>8.392857</td>\n",
       "      <td>235.0</td>\n",
       "      <td># serve to show the default.</td>\n",
       "    </tr>\n",
       "    <tr>\n",
       "      <th>line24</th>\n",
       "      <td>img1</td>\n",
       "      <td>../data/raw/Python/7sDream~zhihu-py3/docs~conf...</td>\n",
       "      <td>../data/raw/Python/7sDream~zhihu-py3/docs~conf...</td>\n",
       "      <td>Andale Mono</td>\n",
       "      <td>Learn with Sumit Theme</td>\n",
       "      <td>24</td>\n",
       "      <td>326</td>\n",
       "      <td>494</td>\n",
       "      <td>19.0</td>\n",
       "      <td>992.0</td>\n",
       "      <td>8.400000</td>\n",
       "      <td>630.0</td>\n",
       "      <td># -- General configuration -------------------...</td>\n",
       "    </tr>\n",
       "  </tbody>\n",
       "</table>\n",
       "</div>"
      ],
      "text/plain": [
       "        img_id                                           img_path  \\\n",
       "line119   img5  ../data/raw/Python/7sDream~zhihu-py3/zhihu~me....   \n",
       "line14    img1  ../data/raw/Python/7sDream~zhihu-py3/docs~conf...   \n",
       "line24    img1  ../data/raw/Python/7sDream~zhihu-py3/docs~conf...   \n",
       "\n",
       "                                             line_img_path         font  \\\n",
       "line119  ../data/raw/Python/7sDream~zhihu-py3/zhihu~me....  Andale Mono   \n",
       "line14   ../data/raw/Python/7sDream~zhihu-py3/docs~conf...  Andale Mono   \n",
       "line24   ../data/raw/Python/7sDream~zhihu-py3/docs~conf...  Andale Mono   \n",
       "\n",
       "                          theme  line_number    x    y  height  width  \\\n",
       "line119  Learn with Sumit Theme           16  326  342    19.0  992.0   \n",
       "line14   Learn with Sumit Theme           14  326  304    19.0  992.0   \n",
       "line24   Learn with Sumit Theme           24  326  494    19.0  992.0   \n",
       "\n",
       "         character_width  code_width  \\\n",
       "line119         8.400000       420.0   \n",
       "line14          8.392857       235.0   \n",
       "line24          8.400000       630.0   \n",
       "\n",
       "                                                      text  \n",
       "line119          super(Me, self).__init__(url, name, mo...  \n",
       "line14                        # serve to show the default.  \n",
       "line24   # -- General configuration -------------------...  "
      ]
     },
     "execution_count": 5,
     "metadata": {},
     "output_type": "execute_result"
    }
   ],
   "source": [
    "# Get 3 test samples from the data\n",
    "test_data = data.sample(3)\n",
    "test_data"
   ]
  },
  {
   "cell_type": "code",
   "execution_count": 6,
   "id": "1acb10a4",
   "metadata": {
    "pycharm": {
     "name": "#%%\n"
    }
   },
   "outputs": [
    {
     "name": "stderr",
     "output_type": "stream",
     "text": [
      "The attention mask and the pad token id were not set. As a consequence, you may observe unexpected behavior. Please pass your input's `attention_mask` to obtain reliable results.\n",
      "Setting `pad_token_id` to `eos_token_id`:2 for open-end generation.\n",
      "c:\\Users\\nikol\\anaconda3\\envs\\trocr\\lib\\site-packages\\transformers\\generation_utils.py:1359: UserWarning: Neither `max_length` nor `max_new_tokens` has been set, `max_length` will default to 20 (`self.config.max_length`). Controlling `max_length` via the config is deprecated and `max_length` will be removed from the config in v5 of Transformers -- we recommend using `max_new_tokens` to control the maximum length of the generation.\n",
      "  warnings.warn(\n",
      "The attention mask and the pad token id were not set. As a consequence, you may observe unexpected behavior. Please pass your input's `attention_mask` to obtain reliable results.\n",
      "Setting `pad_token_id` to `eos_token_id`:2 for open-end generation.\n",
      "The attention mask and the pad token id were not set. As a consequence, you may observe unexpected behavior. Please pass your input's `attention_mask` to obtain reliable results.\n",
      "Setting `pad_token_id` to `eos_token_id`:2 for open-end generation.\n"
     ]
    },
    {
     "data": {
      "text/html": [
       "<div>\n",
       "<style scoped>\n",
       "    .dataframe tbody tr th:only-of-type {\n",
       "        vertical-align: middle;\n",
       "    }\n",
       "\n",
       "    .dataframe tbody tr th {\n",
       "        vertical-align: top;\n",
       "    }\n",
       "\n",
       "    .dataframe thead th {\n",
       "        text-align: right;\n",
       "    }\n",
       "</style>\n",
       "<table border=\"1\" class=\"dataframe\">\n",
       "  <thead>\n",
       "    <tr style=\"text-align: right;\">\n",
       "      <th></th>\n",
       "      <th>line_img_path</th>\n",
       "      <th>labels</th>\n",
       "      <th>predictions</th>\n",
       "    </tr>\n",
       "  </thead>\n",
       "  <tbody>\n",
       "    <tr>\n",
       "      <th>0</th>\n",
       "      <td>../data/raw/Python/7sDream~zhihu-py3/zhihu~me....</td>\n",
       "      <td>super(Me, self).__init__(url, name, mo...</td>\n",
       "      <td>www.super (He, self)._ init_ (unit, name, motto,</td>\n",
       "    </tr>\n",
       "    <tr>\n",
       "      <th>1</th>\n",
       "      <td>../data/raw/Python/7sDream~zhihu-py3/docs~conf...</td>\n",
       "      <td># serve to show the default.</td>\n",
       "      <td># serve to show the default.</td>\n",
       "    </tr>\n",
       "    <tr>\n",
       "      <th>2</th>\n",
       "      <td>../data/raw/Python/7sDream~zhihu-py3/docs~conf...</td>\n",
       "      <td># -- General configuration -------------------...</td>\n",
       "      <td>*-- - General configuration......................</td>\n",
       "    </tr>\n",
       "  </tbody>\n",
       "</table>\n",
       "</div>"
      ],
      "text/plain": [
       "                                       line_img_path  \\\n",
       "0  ../data/raw/Python/7sDream~zhihu-py3/zhihu~me....   \n",
       "1  ../data/raw/Python/7sDream~zhihu-py3/docs~conf...   \n",
       "2  ../data/raw/Python/7sDream~zhihu-py3/docs~conf...   \n",
       "\n",
       "                                              labels  \\\n",
       "0          super(Me, self).__init__(url, name, mo...   \n",
       "1                       # serve to show the default.   \n",
       "2  # -- General configuration -------------------...   \n",
       "\n",
       "                                         predictions  \n",
       "0   www.super (He, self)._ init_ (unit, name, motto,  \n",
       "1                       # serve to show the default.  \n",
       "2  *-- - General configuration......................  "
      ]
     },
     "execution_count": 6,
     "metadata": {},
     "output_type": "execute_result"
    }
   ],
   "source": [
    "# Get the image paths from the test data\n",
    "image_paths = test_data['line_img_path'].tolist()\n",
    "\n",
    "# Get the true labels from the test data\n",
    "labels = test_data['text'].tolist()\n",
    "\n",
    "# Get the predictions from the model\n",
    "predictions = cm.predict_batch(image_paths)\n",
    "\n",
    "# Create a dataframe with the image paths, labels and predictions\n",
    "df = pd.DataFrame({'line_img_path':image_paths, 'labels': labels, 'predictions': predictions})\n",
    "df"
   ]
  }
 ],
 "metadata": {
  "kernelspec": {
   "display_name": "Python 3.9.15 ('trocr')",
   "language": "python",
   "name": "python3"
  },
  "language_info": {
   "codemirror_mode": {
    "name": "ipython",
    "version": 3
   },
   "file_extension": ".py",
   "mimetype": "text/x-python",
   "name": "python",
   "nbconvert_exporter": "python",
   "pygments_lexer": "ipython3",
   "version": "3.9.15"
  },
  "vscode": {
   "interpreter": {
    "hash": "e8c1031928e3d5b5f3198551daa60294d6006460cd6cfc3c5cdbcd4893f26991"
   }
  }
 },
 "nbformat": 4,
 "nbformat_minor": 5
}