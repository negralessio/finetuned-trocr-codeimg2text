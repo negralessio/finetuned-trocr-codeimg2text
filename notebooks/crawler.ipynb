{
 "cells": [
  {
   "cell_type": "markdown",
   "id": "450c5b98",
   "metadata": {
    "pycharm": {
     "name": "#%% md\n"
    }
   },
   "source": [
    "# About this Notebook\n",
    "This notebook is used in order to obtain all important information about our training data in a table format. We extract the data by using a crawler-method that iterates through all possible directory and reads out all desired information and put them into a pandas dataframe. Afterwards, a second crawler-method iterates through every entry of that dataframe and extracts the information about every line of text in the file. This information is then added to the dataframe.\n",
    "\n",
    "Approach utilizes the DataExtractor class and can be split into the following steps:\n",
    "\n",
    "0. *de = DataExtractor():* Instanciate DataExtractor class, which is used to extract the data from the files.\n",
    "1. *de.extract_data():* Extract data about each image from json files and store in dataframe.\n",
    "2. *de.get_lines_data():* Extract data about each line of text from each dataframe row and store in second dataframe.\n",
    "3. *de.generate_line_images():* Crop each row of text from original images, store them in new folder in existing structure, add paths to second dataframe.\n",
    "4. *de.get_line_image_paths():* Optionally, the image cropping can be skipped (if already done) and the paths of the cropped images can be loaded directly from the second dataframe.\n",
    "\n",
    "To save or load the dataframes, the following methods can be used:\n",
    "\n",
    "* *de.to_json():* Save one or both dataframes as json files.\n",
    "* *de.from_json():* Load one or both dataframes from json files."
   ]
  },
  {
   "cell_type": "code",
   "execution_count": 1,
   "outputs": [],
   "source": [
    "%load_ext autoreload\n",
    "%autoreload 2"
   ],
   "metadata": {
    "collapsed": false,
    "pycharm": {
     "name": "#%%\n"
    }
   }
  },
  {
   "cell_type": "code",
   "execution_count": 2,
   "id": "a5a5bf80",
   "metadata": {
    "pycharm": {
     "name": "#%%\n"
    }
   },
   "outputs": [],
   "source": [
    "import pandas as pd\n",
    "import numpy as np\n",
    "from pathlib import Path\n",
    "import os\n",
    "import json\n",
    "import cv2\n",
    "\n",
    "# In case the setup of the src module doesn't work, use sys.path to find the imported class. If sys.path is used, the src. must be removed from the import statement.\n",
    "# import sys\n",
    "# module_path = os.path.abspath(os.path.join('..'))\n",
    "# if module_path not in sys.path:\n",
    "#     sys.path.append(Path(module_path).joinpath(\"src\").as_posix())\n",
    "\n",
    "from src.data_extraction import DataExtractor"
   ]
  },
  {
   "cell_type": "code",
   "execution_count": 3,
   "id": "59d771ed",
   "metadata": {
    "pycharm": {
     "name": "#%%\n"
    }
   },
   "outputs": [
    {
     "data": {
      "text/plain": "                                                  img_path  img_width  \\\nid                                                                      \nimg1     ../data/raw/CoffeeScript/abe33~atom-color-high...       1657   \nimg2     ../data/raw/CoffeeScript/abe33~atom-color-high...       1438   \nimg3     ../data/raw/CoffeeScript/abe33~atom-color-high...       1438   \nimg4     ../data/raw/CoffeeScript/abe33~atom-color-high...       1438   \nimg5     ../data/raw/CoffeeScript/abe33~atom-color-high...       1438   \n...                                                    ...        ...   \nimg6231  ../data/raw/TypeScript/yiminghe~async-validato...       1198   \nimg6232  ../data/raw/TypeScript/yiminghe~async-validato...       1198   \nimg6233  ../data/raw/TypeScript/yiminghe~async-validato...       1198   \nimg6234  ../data/raw/TypeScript/yiminghe~async-validato...       1198   \nimg6235  ../data/raw/TypeScript/yiminghe~async-validato...       1198   \n\n         img_height                 bbox  char_width  char_height  ln_start  \\\nid                                                                            \nimg1            818  [426, 57, 614, 616]   10.072727         22.0         1   \nimg2            818   [78, 57, 524, 616]   10.068966         22.0         1   \nimg3            818   [78, 57, 635, 594]   10.071429         22.0         1   \nimg4            818   [78, 57, 473, 616]   10.069366         22.0         1   \nimg5            818  [78, 57, 1038, 616]   10.072464         22.0         2   \n...             ...                  ...         ...          ...       ...   \nimg6231        1839  [75, 57, 687, 1760]    9.154509         22.0         1   \nimg6232        1839  [75, 57, 876, 1760]    9.152558         22.0         1   \nimg6233        1838  [75, 57, 723, 1100]    9.156047         22.0         1   \nimg6234        1838  [75, 57, 876, 1584]    9.155556         22.0         1   \nimg6235        1839  [75, 57, 467, 1760]    9.159545         22.0         1   \n\n         ln_end                                         lines_data  \\\nid                                                                   \nimg1       28.0  [{'x': 426, 'y': 57, 'line_number': 1, 'height...   \nimg2       28.0  [{'x': 78, 'y': 57, 'line_number': 1, 'height'...   \nimg3       27.0  [{'x': 78, 'y': 57, 'line_number': 1, 'height'...   \nimg4       28.0  [{'x': 78, 'y': 57, 'line_number': 1, 'height'...   \nimg5       28.0  [{'x': 78, 'y': 57, 'line_number': 1, 'height'...   \n...         ...                                                ...   \nimg6231    80.0  [{'x': 75, 'y': 57, 'line_number': 1, 'height'...   \nimg6232    80.0  [{'x': 75, 'y': 57, 'line_number': 1, 'height'...   \nimg6233    50.0  [{'x': 75, 'y': 57, 'line_number': 1, 'height'...   \nimg6234    72.0  [{'x': 75, 'y': 57, 'line_number': 1, 'height'...   \nimg6235    80.0  [{'x': 75, 'y': 57, 'line_number': 1, 'height'...   \n\n                font                   theme             timestamp  \\\nid                                                                   \nimg1     Andale Mono  Learn with Sumit Theme  2022/08/25, 15:52:20   \nimg2     Andale Mono  Learn with Sumit Theme  2022/08/25, 15:51:59   \nimg3     Andale Mono  Learn with Sumit Theme  2022/08/25, 15:51:48   \nimg4     Andale Mono  Learn with Sumit Theme  2022/08/25, 15:51:38   \nimg5     Andale Mono  Learn with Sumit Theme  2022/08/25, 15:52:08   \n...              ...                     ...                   ...   \nimg6231  Victor Mono        Shades of Purple  2022/08/28, 04:19:52   \nimg6232  Victor Mono        Shades of Purple  2022/08/28, 04:20:04   \nimg6233  Victor Mono        Shades of Purple  2022/08/28, 04:20:41   \nimg6234  Victor Mono        Shades of Purple  2022/08/28, 04:20:27   \nimg6235  Victor Mono        Shades of Purple  2022/08/28, 04:20:17   \n\n             language                  repository  \\\nid                                                  \nimg1     CoffeeScript  abe33~atom-color-highlight   \nimg2     CoffeeScript  abe33~atom-color-highlight   \nimg3     CoffeeScript  abe33~atom-color-highlight   \nimg4     CoffeeScript  abe33~atom-color-highlight   \nimg5     CoffeeScript  abe33~atom-color-highlight   \n...               ...                         ...   \nimg6231    TypeScript    yiminghe~async-validator   \nimg6232    TypeScript    yiminghe~async-validator   \nimg6233    TypeScript    yiminghe~async-validator   \nimg6234    TypeScript    yiminghe~async-validator   \nimg6235    TypeScript    yiminghe~async-validator   \n\n                                            file  \nid                                                \nimg1     lib~atom-color-highlight-element.coffee  \nimg2       lib~atom-color-highlight-model.coffee  \nimg3               lib~dot-marker-element.coffee  \nimg4                   lib~marker-element.coffee  \nimg5       spec~atom-color-highlight-spec.coffee  \n...                                          ...  \nimg6231                             src~index.ts  \nimg6232                         src~interface.ts  \nimg6233                        src~rule~range.ts  \nimg6234                          src~rule~url.ts  \nimg6235              __tests__~validator.spec.ts  \n\n[6235 rows x 15 columns]",
      "text/html": "<div>\n<style scoped>\n    .dataframe tbody tr th:only-of-type {\n        vertical-align: middle;\n    }\n\n    .dataframe tbody tr th {\n        vertical-align: top;\n    }\n\n    .dataframe thead th {\n        text-align: right;\n    }\n</style>\n<table border=\"1\" class=\"dataframe\">\n  <thead>\n    <tr style=\"text-align: right;\">\n      <th></th>\n      <th>img_path</th>\n      <th>img_width</th>\n      <th>img_height</th>\n      <th>bbox</th>\n      <th>char_width</th>\n      <th>char_height</th>\n      <th>ln_start</th>\n      <th>ln_end</th>\n      <th>lines_data</th>\n      <th>font</th>\n      <th>theme</th>\n      <th>timestamp</th>\n      <th>language</th>\n      <th>repository</th>\n      <th>file</th>\n    </tr>\n    <tr>\n      <th>id</th>\n      <th></th>\n      <th></th>\n      <th></th>\n      <th></th>\n      <th></th>\n      <th></th>\n      <th></th>\n      <th></th>\n      <th></th>\n      <th></th>\n      <th></th>\n      <th></th>\n      <th></th>\n      <th></th>\n      <th></th>\n    </tr>\n  </thead>\n  <tbody>\n    <tr>\n      <th>img1</th>\n      <td>../data/raw/CoffeeScript/abe33~atom-color-high...</td>\n      <td>1657</td>\n      <td>818</td>\n      <td>[426, 57, 614, 616]</td>\n      <td>10.072727</td>\n      <td>22.0</td>\n      <td>1</td>\n      <td>28.0</td>\n      <td>[{'x': 426, 'y': 57, 'line_number': 1, 'height...</td>\n      <td>Andale Mono</td>\n      <td>Learn with Sumit Theme</td>\n      <td>2022/08/25, 15:52:20</td>\n      <td>CoffeeScript</td>\n      <td>abe33~atom-color-highlight</td>\n      <td>lib~atom-color-highlight-element.coffee</td>\n    </tr>\n    <tr>\n      <th>img2</th>\n      <td>../data/raw/CoffeeScript/abe33~atom-color-high...</td>\n      <td>1438</td>\n      <td>818</td>\n      <td>[78, 57, 524, 616]</td>\n      <td>10.068966</td>\n      <td>22.0</td>\n      <td>1</td>\n      <td>28.0</td>\n      <td>[{'x': 78, 'y': 57, 'line_number': 1, 'height'...</td>\n      <td>Andale Mono</td>\n      <td>Learn with Sumit Theme</td>\n      <td>2022/08/25, 15:51:59</td>\n      <td>CoffeeScript</td>\n      <td>abe33~atom-color-highlight</td>\n      <td>lib~atom-color-highlight-model.coffee</td>\n    </tr>\n    <tr>\n      <th>img3</th>\n      <td>../data/raw/CoffeeScript/abe33~atom-color-high...</td>\n      <td>1438</td>\n      <td>818</td>\n      <td>[78, 57, 635, 594]</td>\n      <td>10.071429</td>\n      <td>22.0</td>\n      <td>1</td>\n      <td>27.0</td>\n      <td>[{'x': 78, 'y': 57, 'line_number': 1, 'height'...</td>\n      <td>Andale Mono</td>\n      <td>Learn with Sumit Theme</td>\n      <td>2022/08/25, 15:51:48</td>\n      <td>CoffeeScript</td>\n      <td>abe33~atom-color-highlight</td>\n      <td>lib~dot-marker-element.coffee</td>\n    </tr>\n    <tr>\n      <th>img4</th>\n      <td>../data/raw/CoffeeScript/abe33~atom-color-high...</td>\n      <td>1438</td>\n      <td>818</td>\n      <td>[78, 57, 473, 616]</td>\n      <td>10.069366</td>\n      <td>22.0</td>\n      <td>1</td>\n      <td>28.0</td>\n      <td>[{'x': 78, 'y': 57, 'line_number': 1, 'height'...</td>\n      <td>Andale Mono</td>\n      <td>Learn with Sumit Theme</td>\n      <td>2022/08/25, 15:51:38</td>\n      <td>CoffeeScript</td>\n      <td>abe33~atom-color-highlight</td>\n      <td>lib~marker-element.coffee</td>\n    </tr>\n    <tr>\n      <th>img5</th>\n      <td>../data/raw/CoffeeScript/abe33~atom-color-high...</td>\n      <td>1438</td>\n      <td>818</td>\n      <td>[78, 57, 1038, 616]</td>\n      <td>10.072464</td>\n      <td>22.0</td>\n      <td>2</td>\n      <td>28.0</td>\n      <td>[{'x': 78, 'y': 57, 'line_number': 1, 'height'...</td>\n      <td>Andale Mono</td>\n      <td>Learn with Sumit Theme</td>\n      <td>2022/08/25, 15:52:08</td>\n      <td>CoffeeScript</td>\n      <td>abe33~atom-color-highlight</td>\n      <td>spec~atom-color-highlight-spec.coffee</td>\n    </tr>\n    <tr>\n      <th>...</th>\n      <td>...</td>\n      <td>...</td>\n      <td>...</td>\n      <td>...</td>\n      <td>...</td>\n      <td>...</td>\n      <td>...</td>\n      <td>...</td>\n      <td>...</td>\n      <td>...</td>\n      <td>...</td>\n      <td>...</td>\n      <td>...</td>\n      <td>...</td>\n      <td>...</td>\n    </tr>\n    <tr>\n      <th>img6231</th>\n      <td>../data/raw/TypeScript/yiminghe~async-validato...</td>\n      <td>1198</td>\n      <td>1839</td>\n      <td>[75, 57, 687, 1760]</td>\n      <td>9.154509</td>\n      <td>22.0</td>\n      <td>1</td>\n      <td>80.0</td>\n      <td>[{'x': 75, 'y': 57, 'line_number': 1, 'height'...</td>\n      <td>Victor Mono</td>\n      <td>Shades of Purple</td>\n      <td>2022/08/28, 04:19:52</td>\n      <td>TypeScript</td>\n      <td>yiminghe~async-validator</td>\n      <td>src~index.ts</td>\n    </tr>\n    <tr>\n      <th>img6232</th>\n      <td>../data/raw/TypeScript/yiminghe~async-validato...</td>\n      <td>1198</td>\n      <td>1839</td>\n      <td>[75, 57, 876, 1760]</td>\n      <td>9.152558</td>\n      <td>22.0</td>\n      <td>1</td>\n      <td>80.0</td>\n      <td>[{'x': 75, 'y': 57, 'line_number': 1, 'height'...</td>\n      <td>Victor Mono</td>\n      <td>Shades of Purple</td>\n      <td>2022/08/28, 04:20:04</td>\n      <td>TypeScript</td>\n      <td>yiminghe~async-validator</td>\n      <td>src~interface.ts</td>\n    </tr>\n    <tr>\n      <th>img6233</th>\n      <td>../data/raw/TypeScript/yiminghe~async-validato...</td>\n      <td>1198</td>\n      <td>1838</td>\n      <td>[75, 57, 723, 1100]</td>\n      <td>9.156047</td>\n      <td>22.0</td>\n      <td>1</td>\n      <td>50.0</td>\n      <td>[{'x': 75, 'y': 57, 'line_number': 1, 'height'...</td>\n      <td>Victor Mono</td>\n      <td>Shades of Purple</td>\n      <td>2022/08/28, 04:20:41</td>\n      <td>TypeScript</td>\n      <td>yiminghe~async-validator</td>\n      <td>src~rule~range.ts</td>\n    </tr>\n    <tr>\n      <th>img6234</th>\n      <td>../data/raw/TypeScript/yiminghe~async-validato...</td>\n      <td>1198</td>\n      <td>1838</td>\n      <td>[75, 57, 876, 1584]</td>\n      <td>9.155556</td>\n      <td>22.0</td>\n      <td>1</td>\n      <td>72.0</td>\n      <td>[{'x': 75, 'y': 57, 'line_number': 1, 'height'...</td>\n      <td>Victor Mono</td>\n      <td>Shades of Purple</td>\n      <td>2022/08/28, 04:20:27</td>\n      <td>TypeScript</td>\n      <td>yiminghe~async-validator</td>\n      <td>src~rule~url.ts</td>\n    </tr>\n    <tr>\n      <th>img6235</th>\n      <td>../data/raw/TypeScript/yiminghe~async-validato...</td>\n      <td>1198</td>\n      <td>1839</td>\n      <td>[75, 57, 467, 1760]</td>\n      <td>9.159545</td>\n      <td>22.0</td>\n      <td>1</td>\n      <td>80.0</td>\n      <td>[{'x': 75, 'y': 57, 'line_number': 1, 'height'...</td>\n      <td>Victor Mono</td>\n      <td>Shades of Purple</td>\n      <td>2022/08/28, 04:20:17</td>\n      <td>TypeScript</td>\n      <td>yiminghe~async-validator</td>\n      <td>__tests__~validator.spec.ts</td>\n    </tr>\n  </tbody>\n</table>\n<p>6235 rows × 15 columns</p>\n</div>"
     },
     "execution_count": 3,
     "metadata": {},
     "output_type": "execute_result"
    }
   ],
   "source": [
    "de = DataExtractor(top_dir_path=\"../data/raw\")\n",
    "df = de.extract_data()\n",
    "df"
   ]
  },
  {
   "cell_type": "code",
   "execution_count": 4,
   "id": "35b508d0",
   "metadata": {
    "pycharm": {
     "name": "#%%\n"
    }
   },
   "outputs": [
    {
     "name": "stdout",
     "output_type": "stream",
     "text": [
      "Removed negatives in df_lines. Total: 346\n"
     ]
    },
    {
     "data": {
      "text/plain": "             img_id                                           img_path  \\\nid                                                                       \nline1          img1  ../data/raw/CoffeeScript/abe33~atom-color-high...   \nline2          img1  ../data/raw/CoffeeScript/abe33~atom-color-high...   \nline3          img1  ../data/raw/CoffeeScript/abe33~atom-color-high...   \nline4          img1  ../data/raw/CoffeeScript/abe33~atom-color-high...   \nline5          img1  ../data/raw/CoffeeScript/abe33~atom-color-high...   \n...             ...                                                ...   \nline293663  img6235  ../data/raw/TypeScript/yiminghe~async-validato...   \nline293664  img6235  ../data/raw/TypeScript/yiminghe~async-validato...   \nline293665  img6235  ../data/raw/TypeScript/yiminghe~async-validato...   \nline293666  img6235  ../data/raw/TypeScript/yiminghe~async-validato...   \nline293667  img6235  ../data/raw/TypeScript/yiminghe~async-validato...   \n\n                   font                   theme      language  \\\nid                                                              \nline1       Andale Mono  Learn with Sumit Theme  CoffeeScript   \nline2       Andale Mono  Learn with Sumit Theme  CoffeeScript   \nline3       Andale Mono  Learn with Sumit Theme  CoffeeScript   \nline4       Andale Mono  Learn with Sumit Theme  CoffeeScript   \nline5       Andale Mono  Learn with Sumit Theme  CoffeeScript   \n...                 ...                     ...           ...   \nline293663  Victor Mono        Shades of Purple    TypeScript   \nline293664  Victor Mono        Shades of Purple    TypeScript   \nline293665  Victor Mono        Shades of Purple    TypeScript   \nline293666  Victor Mono        Shades of Purple    TypeScript   \nline293667  Victor Mono        Shades of Purple    TypeScript   \n\n                            repository  \\\nid                                       \nline1       abe33~atom-color-highlight   \nline2       abe33~atom-color-highlight   \nline3       abe33~atom-color-highlight   \nline4       abe33~atom-color-highlight   \nline5       abe33~atom-color-highlight   \n...                                ...   \nline293663    yiminghe~async-validator   \nline293664    yiminghe~async-validator   \nline293665    yiminghe~async-validator   \nline293666    yiminghe~async-validator   \nline293667    yiminghe~async-validator   \n\n                                               file  line_number    x     y  \\\nid                                                                            \nline1       lib~atom-color-highlight-element.coffee          1.0  426    57   \nline2       lib~atom-color-highlight-element.coffee          2.0  426    79   \nline3       lib~atom-color-highlight-element.coffee          3.0  426   101   \nline4       lib~atom-color-highlight-element.coffee          4.0  426   123   \nline5       lib~atom-color-highlight-element.coffee          5.0  426   145   \n...                                             ...          ...  ...   ...   \nline293663              __tests__~validator.spec.ts         76.0   75  1707   \nline293664              __tests__~validator.spec.ts         77.0   75  1729   \nline293665              __tests__~validator.spec.ts         78.0   75  1751   \nline293666              __tests__~validator.spec.ts         79.0   75  1773   \nline293667              __tests__~validator.spec.ts         80.0   75  1795   \n\n            height  width  character_width  code_width  \\\nid                                                       \nline1         22.0  915.0        10.068966       292.0   \nline2         22.0  915.0        10.072727       554.0   \nline3          NaN    NaN              NaN         NaN   \nline4         22.0  915.0        10.071429       423.0   \nline5         22.0  915.0        10.081633       494.0   \n...            ...    ...              ...         ...   \nline293663    22.0  876.0         9.111111        82.0   \nline293664    22.0  876.0         9.159091       403.0   \nline293665    22.0  876.0         9.157895       348.0   \nline293666    22.0  876.0         9.166667       110.0   \nline293667    22.0  876.0         9.200000        92.0   \n\n                                                         text  \nid                                                             \nline1                           _ = require 'underscore-plus'  \nline2       {CompositeDisposable, Disposable} = require 'e...  \nline3                                                    None  \nline4              MarkerElement = require './marker-element'  \nline5       DotMarkerElement = require './dot-marker-element'  \n...                                                       ...  \nline293663                                                  {  \nline293664                 validator(rule, value, callback) {  \nline293665                         callback(new Error('e1'));  \nline293666                                                 },  \nline293667                                                 },  \n\n[293667 rows x 15 columns]",
      "text/html": "<div>\n<style scoped>\n    .dataframe tbody tr th:only-of-type {\n        vertical-align: middle;\n    }\n\n    .dataframe tbody tr th {\n        vertical-align: top;\n    }\n\n    .dataframe thead th {\n        text-align: right;\n    }\n</style>\n<table border=\"1\" class=\"dataframe\">\n  <thead>\n    <tr style=\"text-align: right;\">\n      <th></th>\n      <th>img_id</th>\n      <th>img_path</th>\n      <th>font</th>\n      <th>theme</th>\n      <th>language</th>\n      <th>repository</th>\n      <th>file</th>\n      <th>line_number</th>\n      <th>x</th>\n      <th>y</th>\n      <th>height</th>\n      <th>width</th>\n      <th>character_width</th>\n      <th>code_width</th>\n      <th>text</th>\n    </tr>\n    <tr>\n      <th>id</th>\n      <th></th>\n      <th></th>\n      <th></th>\n      <th></th>\n      <th></th>\n      <th></th>\n      <th></th>\n      <th></th>\n      <th></th>\n      <th></th>\n      <th></th>\n      <th></th>\n      <th></th>\n      <th></th>\n      <th></th>\n    </tr>\n  </thead>\n  <tbody>\n    <tr>\n      <th>line1</th>\n      <td>img1</td>\n      <td>../data/raw/CoffeeScript/abe33~atom-color-high...</td>\n      <td>Andale Mono</td>\n      <td>Learn with Sumit Theme</td>\n      <td>CoffeeScript</td>\n      <td>abe33~atom-color-highlight</td>\n      <td>lib~atom-color-highlight-element.coffee</td>\n      <td>1.0</td>\n      <td>426</td>\n      <td>57</td>\n      <td>22.0</td>\n      <td>915.0</td>\n      <td>10.068966</td>\n      <td>292.0</td>\n      <td>_ = require 'underscore-plus'</td>\n    </tr>\n    <tr>\n      <th>line2</th>\n      <td>img1</td>\n      <td>../data/raw/CoffeeScript/abe33~atom-color-high...</td>\n      <td>Andale Mono</td>\n      <td>Learn with Sumit Theme</td>\n      <td>CoffeeScript</td>\n      <td>abe33~atom-color-highlight</td>\n      <td>lib~atom-color-highlight-element.coffee</td>\n      <td>2.0</td>\n      <td>426</td>\n      <td>79</td>\n      <td>22.0</td>\n      <td>915.0</td>\n      <td>10.072727</td>\n      <td>554.0</td>\n      <td>{CompositeDisposable, Disposable} = require 'e...</td>\n    </tr>\n    <tr>\n      <th>line3</th>\n      <td>img1</td>\n      <td>../data/raw/CoffeeScript/abe33~atom-color-high...</td>\n      <td>Andale Mono</td>\n      <td>Learn with Sumit Theme</td>\n      <td>CoffeeScript</td>\n      <td>abe33~atom-color-highlight</td>\n      <td>lib~atom-color-highlight-element.coffee</td>\n      <td>3.0</td>\n      <td>426</td>\n      <td>101</td>\n      <td>NaN</td>\n      <td>NaN</td>\n      <td>NaN</td>\n      <td>NaN</td>\n      <td>None</td>\n    </tr>\n    <tr>\n      <th>line4</th>\n      <td>img1</td>\n      <td>../data/raw/CoffeeScript/abe33~atom-color-high...</td>\n      <td>Andale Mono</td>\n      <td>Learn with Sumit Theme</td>\n      <td>CoffeeScript</td>\n      <td>abe33~atom-color-highlight</td>\n      <td>lib~atom-color-highlight-element.coffee</td>\n      <td>4.0</td>\n      <td>426</td>\n      <td>123</td>\n      <td>22.0</td>\n      <td>915.0</td>\n      <td>10.071429</td>\n      <td>423.0</td>\n      <td>MarkerElement = require './marker-element'</td>\n    </tr>\n    <tr>\n      <th>line5</th>\n      <td>img1</td>\n      <td>../data/raw/CoffeeScript/abe33~atom-color-high...</td>\n      <td>Andale Mono</td>\n      <td>Learn with Sumit Theme</td>\n      <td>CoffeeScript</td>\n      <td>abe33~atom-color-highlight</td>\n      <td>lib~atom-color-highlight-element.coffee</td>\n      <td>5.0</td>\n      <td>426</td>\n      <td>145</td>\n      <td>22.0</td>\n      <td>915.0</td>\n      <td>10.081633</td>\n      <td>494.0</td>\n      <td>DotMarkerElement = require './dot-marker-element'</td>\n    </tr>\n    <tr>\n      <th>...</th>\n      <td>...</td>\n      <td>...</td>\n      <td>...</td>\n      <td>...</td>\n      <td>...</td>\n      <td>...</td>\n      <td>...</td>\n      <td>...</td>\n      <td>...</td>\n      <td>...</td>\n      <td>...</td>\n      <td>...</td>\n      <td>...</td>\n      <td>...</td>\n      <td>...</td>\n    </tr>\n    <tr>\n      <th>line293663</th>\n      <td>img6235</td>\n      <td>../data/raw/TypeScript/yiminghe~async-validato...</td>\n      <td>Victor Mono</td>\n      <td>Shades of Purple</td>\n      <td>TypeScript</td>\n      <td>yiminghe~async-validator</td>\n      <td>__tests__~validator.spec.ts</td>\n      <td>76.0</td>\n      <td>75</td>\n      <td>1707</td>\n      <td>22.0</td>\n      <td>876.0</td>\n      <td>9.111111</td>\n      <td>82.0</td>\n      <td>{</td>\n    </tr>\n    <tr>\n      <th>line293664</th>\n      <td>img6235</td>\n      <td>../data/raw/TypeScript/yiminghe~async-validato...</td>\n      <td>Victor Mono</td>\n      <td>Shades of Purple</td>\n      <td>TypeScript</td>\n      <td>yiminghe~async-validator</td>\n      <td>__tests__~validator.spec.ts</td>\n      <td>77.0</td>\n      <td>75</td>\n      <td>1729</td>\n      <td>22.0</td>\n      <td>876.0</td>\n      <td>9.159091</td>\n      <td>403.0</td>\n      <td>validator(rule, value, callback) {</td>\n    </tr>\n    <tr>\n      <th>line293665</th>\n      <td>img6235</td>\n      <td>../data/raw/TypeScript/yiminghe~async-validato...</td>\n      <td>Victor Mono</td>\n      <td>Shades of Purple</td>\n      <td>TypeScript</td>\n      <td>yiminghe~async-validator</td>\n      <td>__tests__~validator.spec.ts</td>\n      <td>78.0</td>\n      <td>75</td>\n      <td>1751</td>\n      <td>22.0</td>\n      <td>876.0</td>\n      <td>9.157895</td>\n      <td>348.0</td>\n      <td>callback(new Error('e1'));</td>\n    </tr>\n    <tr>\n      <th>line293666</th>\n      <td>img6235</td>\n      <td>../data/raw/TypeScript/yiminghe~async-validato...</td>\n      <td>Victor Mono</td>\n      <td>Shades of Purple</td>\n      <td>TypeScript</td>\n      <td>yiminghe~async-validator</td>\n      <td>__tests__~validator.spec.ts</td>\n      <td>79.0</td>\n      <td>75</td>\n      <td>1773</td>\n      <td>22.0</td>\n      <td>876.0</td>\n      <td>9.166667</td>\n      <td>110.0</td>\n      <td>},</td>\n    </tr>\n    <tr>\n      <th>line293667</th>\n      <td>img6235</td>\n      <td>../data/raw/TypeScript/yiminghe~async-validato...</td>\n      <td>Victor Mono</td>\n      <td>Shades of Purple</td>\n      <td>TypeScript</td>\n      <td>yiminghe~async-validator</td>\n      <td>__tests__~validator.spec.ts</td>\n      <td>80.0</td>\n      <td>75</td>\n      <td>1795</td>\n      <td>22.0</td>\n      <td>876.0</td>\n      <td>9.200000</td>\n      <td>92.0</td>\n      <td>},</td>\n    </tr>\n  </tbody>\n</table>\n<p>293667 rows × 15 columns</p>\n</div>"
     },
     "execution_count": 4,
     "metadata": {},
     "output_type": "execute_result"
    }
   ],
   "source": [
    "df_lines = de.extract_lines_data()\n",
    "de.to_json(attr=\"all\", file_name=[\"data.json\", \"lines_data_no_path.json\"], to_dir=\"../data/extracted\")\n",
    "df_lines"
   ]
  },
  {
   "cell_type": "code",
   "execution_count": 13,
   "id": "5264748d",
   "metadata": {
    "pycharm": {
     "name": "#%%\n"
    }
   },
   "outputs": [],
   "source": [
    "# Generate images for each line of code in the dataset, crop images using full width of each line of code, save resulting dataframe in json file\n",
    "#df_lines_fw = de.generate_line_images(save_dir=\"line_images_fw\", use_code_width=False)\n",
    "#de.to_json(attr=\"all\", file_name=[\"data.json\", \"lines_data_fw.json\"], to_dir=\"../data/extracted\")\n",
    "\n",
    "# Generate images for each line of code in the dataset, crop images using only the code width of each line of code, save resulting dataframe in json file\n",
    "df_lines_cw = de.generate_line_images(save_dir=\"line_images_cw\", use_code_width=True)\n",
    "de.to_json(attr=\"lines_data\", file_name=\"lines_data_cw.json\", to_dir=\"../data/extracted\")"
   ]
  },
  {
   "cell_type": "code",
   "execution_count": null,
   "id": "ccf51141",
   "metadata": {
    "pycharm": {
     "name": "#%%\n"
    }
   },
   "outputs": [],
   "source": [
    "# Optional (not very important method): Load line_image_paths of each code line WITHOUT the cropping of the images\n",
    "# df_lines = de.get_line_image_paths(save_dir=\"line_images_fw\")"
   ]
  },
  {
   "cell_type": "code",
   "execution_count": 14,
   "id": "1fa7af9a",
   "metadata": {
    "pycharm": {
     "name": "#%%\n"
    }
   },
   "outputs": [],
   "source": [
    "# Load data & lines_data from json files\n",
    "df_data, df_lines_cw = de.from_json(attr=\"all\", file_name=[\"data.json\", \"lines_data_cw.json\"], from_dir=\"../data/extracted\")"
   ]
  },
  {
   "cell_type": "code",
   "execution_count": 11,
   "id": "95b6f623",
   "metadata": {
    "pycharm": {
     "name": "#%%\n"
    }
   },
   "outputs": [
    {
     "data": {
      "text/plain": "'Andale Mono'"
     },
     "execution_count": 11,
     "metadata": {},
     "output_type": "execute_result"
    }
   ],
   "source": [
    "df_lines_cw.iloc[1, 2]"
   ]
  },
  {
   "cell_type": "code",
   "execution_count": 17,
   "id": "c3b6ca28",
   "metadata": {
    "pycharm": {
     "name": "#%%\n"
    }
   },
   "outputs": [
    {
     "data": {
      "text/plain": "      img_id                                           img_path  \\\nline1   img1  ../data/raw/CoffeeScript/abe33~atom-color-high...   \nline2   img1  ../data/raw/CoffeeScript/abe33~atom-color-high...   \nline3   img1  ../data/raw/CoffeeScript/abe33~atom-color-high...   \nline4   img1  ../data/raw/CoffeeScript/abe33~atom-color-high...   \nline5   img1  ../data/raw/CoffeeScript/abe33~atom-color-high...   \n\n                                           line_img_path         font  \\\nline1  ../data/raw/CoffeeScript/abe33~atom-color-high...  Andale Mono   \nline2  ../data/raw/CoffeeScript/abe33~atom-color-high...  Andale Mono   \nline3                                               None  Andale Mono   \nline4  ../data/raw/CoffeeScript/abe33~atom-color-high...  Andale Mono   \nline5  ../data/raw/CoffeeScript/abe33~atom-color-high...  Andale Mono   \n\n                        theme      language                  repository  \\\nline1  Learn with Sumit Theme  CoffeeScript  abe33~atom-color-highlight   \nline2  Learn with Sumit Theme  CoffeeScript  abe33~atom-color-highlight   \nline3  Learn with Sumit Theme  CoffeeScript  abe33~atom-color-highlight   \nline4  Learn with Sumit Theme  CoffeeScript  abe33~atom-color-highlight   \nline5  Learn with Sumit Theme  CoffeeScript  abe33~atom-color-highlight   \n\n                                          file  line_number    x    y  height  \\\nline1  lib~atom-color-highlight-element.coffee          1.0  426   57    22.0   \nline2  lib~atom-color-highlight-element.coffee          2.0  426   79    22.0   \nline3  lib~atom-color-highlight-element.coffee          3.0  426  101     NaN   \nline4  lib~atom-color-highlight-element.coffee          4.0  426  123    22.0   \nline5  lib~atom-color-highlight-element.coffee          5.0  426  145    22.0   \n\n       width  character_width  code_width  \\\nline1  915.0        10.068966       292.0   \nline2  915.0        10.072727       554.0   \nline3    NaN              NaN         NaN   \nline4  915.0        10.071429       423.0   \nline5  915.0        10.081633       494.0   \n\n                                                    text  \nline1                      _ = require 'underscore-plus'  \nline2  {CompositeDisposable, Disposable} = require 'e...  \nline3                                               None  \nline4         MarkerElement = require './marker-element'  \nline5  DotMarkerElement = require './dot-marker-element'  ",
      "text/html": "<div>\n<style scoped>\n    .dataframe tbody tr th:only-of-type {\n        vertical-align: middle;\n    }\n\n    .dataframe tbody tr th {\n        vertical-align: top;\n    }\n\n    .dataframe thead th {\n        text-align: right;\n    }\n</style>\n<table border=\"1\" class=\"dataframe\">\n  <thead>\n    <tr style=\"text-align: right;\">\n      <th></th>\n      <th>img_id</th>\n      <th>img_path</th>\n      <th>line_img_path</th>\n      <th>font</th>\n      <th>theme</th>\n      <th>language</th>\n      <th>repository</th>\n      <th>file</th>\n      <th>line_number</th>\n      <th>x</th>\n      <th>y</th>\n      <th>height</th>\n      <th>width</th>\n      <th>character_width</th>\n      <th>code_width</th>\n      <th>text</th>\n    </tr>\n  </thead>\n  <tbody>\n    <tr>\n      <th>line1</th>\n      <td>img1</td>\n      <td>../data/raw/CoffeeScript/abe33~atom-color-high...</td>\n      <td>../data/raw/CoffeeScript/abe33~atom-color-high...</td>\n      <td>Andale Mono</td>\n      <td>Learn with Sumit Theme</td>\n      <td>CoffeeScript</td>\n      <td>abe33~atom-color-highlight</td>\n      <td>lib~atom-color-highlight-element.coffee</td>\n      <td>1.0</td>\n      <td>426</td>\n      <td>57</td>\n      <td>22.0</td>\n      <td>915.0</td>\n      <td>10.068966</td>\n      <td>292.0</td>\n      <td>_ = require 'underscore-plus'</td>\n    </tr>\n    <tr>\n      <th>line2</th>\n      <td>img1</td>\n      <td>../data/raw/CoffeeScript/abe33~atom-color-high...</td>\n      <td>../data/raw/CoffeeScript/abe33~atom-color-high...</td>\n      <td>Andale Mono</td>\n      <td>Learn with Sumit Theme</td>\n      <td>CoffeeScript</td>\n      <td>abe33~atom-color-highlight</td>\n      <td>lib~atom-color-highlight-element.coffee</td>\n      <td>2.0</td>\n      <td>426</td>\n      <td>79</td>\n      <td>22.0</td>\n      <td>915.0</td>\n      <td>10.072727</td>\n      <td>554.0</td>\n      <td>{CompositeDisposable, Disposable} = require 'e...</td>\n    </tr>\n    <tr>\n      <th>line3</th>\n      <td>img1</td>\n      <td>../data/raw/CoffeeScript/abe33~atom-color-high...</td>\n      <td>None</td>\n      <td>Andale Mono</td>\n      <td>Learn with Sumit Theme</td>\n      <td>CoffeeScript</td>\n      <td>abe33~atom-color-highlight</td>\n      <td>lib~atom-color-highlight-element.coffee</td>\n      <td>3.0</td>\n      <td>426</td>\n      <td>101</td>\n      <td>NaN</td>\n      <td>NaN</td>\n      <td>NaN</td>\n      <td>NaN</td>\n      <td>None</td>\n    </tr>\n    <tr>\n      <th>line4</th>\n      <td>img1</td>\n      <td>../data/raw/CoffeeScript/abe33~atom-color-high...</td>\n      <td>../data/raw/CoffeeScript/abe33~atom-color-high...</td>\n      <td>Andale Mono</td>\n      <td>Learn with Sumit Theme</td>\n      <td>CoffeeScript</td>\n      <td>abe33~atom-color-highlight</td>\n      <td>lib~atom-color-highlight-element.coffee</td>\n      <td>4.0</td>\n      <td>426</td>\n      <td>123</td>\n      <td>22.0</td>\n      <td>915.0</td>\n      <td>10.071429</td>\n      <td>423.0</td>\n      <td>MarkerElement = require './marker-element'</td>\n    </tr>\n    <tr>\n      <th>line5</th>\n      <td>img1</td>\n      <td>../data/raw/CoffeeScript/abe33~atom-color-high...</td>\n      <td>../data/raw/CoffeeScript/abe33~atom-color-high...</td>\n      <td>Andale Mono</td>\n      <td>Learn with Sumit Theme</td>\n      <td>CoffeeScript</td>\n      <td>abe33~atom-color-highlight</td>\n      <td>lib~atom-color-highlight-element.coffee</td>\n      <td>5.0</td>\n      <td>426</td>\n      <td>145</td>\n      <td>22.0</td>\n      <td>915.0</td>\n      <td>10.081633</td>\n      <td>494.0</td>\n      <td>DotMarkerElement = require './dot-marker-element'</td>\n    </tr>\n  </tbody>\n</table>\n</div>"
     },
     "execution_count": 17,
     "metadata": {},
     "output_type": "execute_result"
    }
   ],
   "source": [
    "df_lines_cw.head(5)"
   ]
  }
 ],
 "metadata": {
  "kernelspec": {
   "display_name": "Python 3.9.15 ('trocr')",
   "language": "python",
   "name": "python3"
  },
  "language_info": {
   "codemirror_mode": {
    "name": "ipython",
    "version": 3
   },
   "file_extension": ".py",
   "mimetype": "text/x-python",
   "name": "python",
   "nbconvert_exporter": "python",
   "pygments_lexer": "ipython3",
   "version": "3.9.15"
  },
  "vscode": {
   "interpreter": {
    "hash": "e8c1031928e3d5b5f3198551daa60294d6006460cd6cfc3c5cdbcd4893f26991"
   }
  }
 },
 "nbformat": 4,
 "nbformat_minor": 5
}