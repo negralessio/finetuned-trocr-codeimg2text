{
 "cells": [
  {
   "cell_type": "code",
   "execution_count": 1,
   "id": "a4362cd5",
   "metadata": {
    "pycharm": {
     "name": "#%%\n"
    }
   },
   "outputs": [],
   "source": [
    "import os\n",
    "os.environ[\"CUDA_VISIBLE_DEVICES\"] = \"1\"  # use 2, 3, 4 or 5"
   ]
  },
  {
   "cell_type": "code",
   "execution_count": 2,
   "id": "9b2afb70",
   "metadata": {
    "pycharm": {
     "name": "#%%\n"
    }
   },
   "outputs": [],
   "source": [
    "import pandas as pd\n",
    "import os\n",
    "import seaborn as sns\n",
    "import cv2\n",
    "import matplotlib.pyplot as plt\n",
    "import numpy as np\n",
    "import pytesseract\n",
    "import evaluate\n",
    "from pathlib import Path\n",
    "sns.set_theme(style=\"whitegrid\")\n",
    "import datetime\n",
    "from Levenshtein import ratio\n",
    "\n",
    "import sys\n",
    "\n",
    "module_path = os.path.abspath(os.path.join('..'))\n",
    "if module_path not in sys.path:\n",
    "    sys.path.append(Path(module_path).joinpath(\"src\").as_posix())\n",
    "\n",
    "from custom_model import CustomTrOCR"
   ]
  },
  {
   "cell_type": "markdown",
   "id": "7f85d88a",
   "metadata": {
    "pycharm": {
     "name": "#%% md\n"
    }
   },
   "source": [
    "# Load Model"
   ]
  },
  {
   "cell_type": "code",
   "execution_count": 3,
   "id": "fc6c0d60",
   "metadata": {
    "pycharm": {
     "name": "#%%\n"
    }
   },
   "outputs": [
    {
     "name": "stdout",
     "output_type": "stream",
     "text": [
      "../models/Custom_Split_64b_10e_ep5\n",
      "../models/Custom_Split_64b_10e_ep3\n",
      "../models/Custom_Split_64b_10e_ep6\n",
      "../models/Custom_Split_64b_10e_ep8\n",
      "../models/trocr_base_printed\n",
      "../models/Custom_Split_64b_10e_ep4\n",
      "../models/Custom_Split_32b_5e_50subsample_ep0\n",
      "../models/Custom_Split_32b_5e_50subsample_ep4\n",
      "../models/Custom_Split_64b_10e_ep9\n",
      "../models/Custom_Split_32b_5e_50subsample_ep2\n",
      "../models/Custom_Split_64b_10e_ep0\n",
      "../models/Custom_Split_32b_5e_50subsample_ep3\n",
      "../models/trocr_base_handwritten\n",
      "../models/Custom_Split_64b_10e_ep1\n",
      "../models/Custom_Split_64b_10e_ep2\n",
      "../models/trocr_base_str\n",
      "../models/Custom_Split_64b_10e_ep7\n",
      "../models/trocr_base_stage1\n",
      "../models/Custom_Split_32b_5e_50subsample_ep1\n"
     ]
    }
   ],
   "source": [
    "# Take object of CustomTrOCR class\n",
    "cm = CustomTrOCR()\n",
    "\n",
    "# Enlist current models available in models dir\n",
    "cm.list_current_models()"
   ]
  },
  {
   "cell_type": "code",
   "execution_count": 4,
   "id": "cfe3a0fe",
   "metadata": {
    "pycharm": {
     "name": "#%%\n"
    }
   },
   "outputs": [],
   "source": [
    "# Load best model \n",
    "PATH_TO_BEST_MODEL = \"../models/Custom_Split_64b_10e_ep9\"\n",
    "\n",
    "# Load Model again (ved and processor)\n",
    "cm.load_model(PATH_TO_BEST_MODEL)"
   ]
  },
  {
   "cell_type": "markdown",
   "id": "43836ed6",
   "metadata": {
    "pycharm": {
     "name": "#%% md\n"
    }
   },
   "source": [
    "# Inference / Prediction on Test Set and Evaluation\n",
    "- The `predict_all()` function takes the test set and predicts the text, given the image path.  \n",
    "- The `evaluate_test_set()` function expects a dataframe with the label and predictions and computes CER and / or the Levensthein distance / edit distance.\n",
    "\n",
    "- If `predict_all()` is already computed, just load the dataframe from the corresponding directory, since predicting all can be expensive."
   ]
  },
  {
   "cell_type": "code",
   "execution_count": 5,
   "id": "8047700e",
   "metadata": {
    "pycharm": {
     "name": "#%%\n"
    }
   },
   "outputs": [],
   "source": [
    "def predict_all(df: pd.DataFrame,\n",
    "                cm: CustomTrOCR,\n",
    "                save_dir: str = \"../data/predictions/test_df_evaluated_all.json\") -> pd.DataFrame:\n",
    "    \"\"\"\n",
    "    Function that takes the test dataframe and predicts the text and saves the df to save_dir\n",
    "    \n",
    "    :param df Test Set (Hold Out Set)\n",
    "    :param save_dir Saving directory\n",
    "    :param cm Model to take\n",
    "    :return df DataFrame with prediction column\n",
    "    \"\"\"\n",
    "    \n",
    "    assert save_dir != \"../data/predictions/test_df_evaluated_all.json\", print(\"Please choose other save_dir!\")\n",
    "    \n",
    "    # Get the image paths from the test data\n",
    "    image_paths = df['line_img_path'].tolist()\n",
    "\n",
    "    # Get the true labels from the test data\n",
    "    labels = df['text'].tolist()\n",
    "\n",
    "    # Get the predictions from the model\n",
    "    predictions = cm.predict_batch(image_paths)\n",
    "\n",
    "    # Create a dataframe with the image paths, labels and predictions\n",
    "    df = pd.DataFrame({'line_img_path':image_paths, 'labels': labels, 'predictions': predictions})\n",
    "\n",
    "    # Save df\n",
    "    df.to_json(save_dir)\n",
    "    print(f\"Saved prediction of test dataframe in: {save_dir}\")\n",
    "    \n",
    "    return df\n",
    "\n",
    "\n",
    "\n",
    "def evaluate_test_set(df: pd.DataFrame,\n",
    "                      save_dir: str = \"../data/predictions/test_df_evaluated_all_w_metrices_XXX.json\",\n",
    "                      compute_cer: bool = True,\n",
    "                      compute_edit_distance: bool = True) -> pd.DataFrame:\n",
    "    \"\"\"\n",
    "    Applies CER and/or Levensthein Distance (Edit distance) on test set with prediction.\n",
    "    Saves df with the metric scores for each row to save_dir\n",
    "    \n",
    "    :param df DataFrame with labels and predictions column to compare\n",
    "    :param save_dir Saving Directory\n",
    "    :param compute_cer Bool whether to compute CER or not\n",
    "    :param computer_edit_distance Bool whether to compute Levensthein distance\n",
    "    :return Returns df with the metrics as columns\n",
    "    \"\"\"\n",
    "    \n",
    "    assert \"predictions\" in df.columns, print(\"Prediction column missing!\")\n",
    "    \n",
    "    # Compute cer between labels and predictions\n",
    "    if compute_cer:\n",
    "        cer_metric = evaluate.load(\"cer\")\n",
    "        df[\"cer\"] = df.apply(lambda x: cer_metric.compute(predictions=[x[\"predictions\"]],\n",
    "                                                          references=[x[\"labels\"]]), axis=1)\n",
    "        # Print average and std of CER\n",
    "        cer_mean = np.mean(df[\"cer\"])\n",
    "        cer_std = np.std(df[\"cer\"])\n",
    "        print(f\"Average CER: {cer_mean:.4f}\")\n",
    "        print(f\"Standard Deviation CER: {cer_std:.4f}\\n\")\n",
    "        \n",
    "    # Analog for Levensthein Distance\n",
    "    if compute_edit_distance:\n",
    "        df[\"edit_distance\"] = df.apply(lambda x: ratio(x[\"predictions\"], x[\"labels\"]), axis=1)\n",
    "        \n",
    "        # Print average and std of CER\n",
    "        ed_mean = np.mean(df[\"edit_distance\"])\n",
    "        ed_std = np.std(df[\"edit_distance\"])\n",
    "        print(f\"Average Edit Distance: {ed_mean:.4f}\")\n",
    "        print(f\"Standard Deviation Edit Distance: {ed_std:.4f}\\n\")\n",
    "        \n",
    "    df.to_json(save_dir)\n",
    "    print(f\"Saved prediction with metrics dataframe in: {save_dir}\")\n",
    "    \n",
    "    return df\n",
    "\n"
   ]
  },
  {
   "cell_type": "markdown",
   "id": "eaa62242",
   "metadata": {
    "pycharm": {
     "name": "#%% md\n"
    }
   },
   "source": [
    "## Call functions"
   ]
  },
  {
   "cell_type": "code",
   "execution_count": 13,
   "id": "f3e8649f",
   "metadata": {
    "pycharm": {
     "name": "#%%\n"
    }
   },
   "outputs": [],
   "source": [
    "# Load test data with prediction (yielded from predict_all() function)\n",
    "#test_df_w_prediction = pd.read_json(\"../data/predictions/test_df_evaluated_all.json\")\n",
    "\n",
    "# Take sample for testing?\n",
    "#test_df_w_prediction = test_df_w_prediction.sample(5)\n",
    "\n",
    "# Print information\n",
    "#print(f\"Shape of test_df_w_prediction: {test_df_w_prediction.shape}\")\n",
    "#test_df_w_prediction.head(5)"
   ]
  },
  {
   "cell_type": "code",
   "execution_count": 14,
   "id": "bb583f48",
   "metadata": {
    "pycharm": {
     "name": "#%%\n"
    }
   },
   "outputs": [
    {
     "data": {
      "text/html": [
       "<div>\n",
       "<style scoped>\n",
       "    .dataframe tbody tr th:only-of-type {\n",
       "        vertical-align: middle;\n",
       "    }\n",
       "\n",
       "    .dataframe tbody tr th {\n",
       "        vertical-align: top;\n",
       "    }\n",
       "\n",
       "    .dataframe thead th {\n",
       "        text-align: right;\n",
       "    }\n",
       "</style>\n",
       "<table border=\"1\" class=\"dataframe\">\n",
       "  <thead>\n",
       "    <tr style=\"text-align: right;\">\n",
       "      <th></th>\n",
       "      <th>line_img_path</th>\n",
       "      <th>labels</th>\n",
       "      <th>predictions</th>\n",
       "      <th>cer</th>\n",
       "      <th>edit_distance</th>\n",
       "    </tr>\n",
       "  </thead>\n",
       "  <tbody>\n",
       "    <tr>\n",
       "      <th>0</th>\n",
       "      <td>../data/raw/Kotlin/horizontalsystems~unstoppab...</td>\n",
       "      <td>private val feeChangeHeight: Long = if (te...</td>\n",
       "      <td>private val freeChangeHeight: Long = if (t...</td>\n",
       "      <td>0.135593</td>\n",
       "      <td>0.92562</td>\n",
       "    </tr>\n",
       "    <tr>\n",
       "      <th>1</th>\n",
       "      <td>../data/raw/CoffeeScript/EtienneLem~skeleton/e...</td>\n",
       "      <td>if stats.isDirectory()</td>\n",
       "      <td>if stats.isDirectory()</td>\n",
       "      <td>0.000000</td>\n",
       "      <td>1.00000</td>\n",
       "    </tr>\n",
       "    <tr>\n",
       "      <th>2</th>\n",
       "      <td>../data/raw/CoffeeScript/EtienneLem~skeleton/e...</td>\n",
       "      <td># Go through the loop again if it is a dir...</td>\n",
       "      <td># Go through the loop again if it is a dir...</td>\n",
       "      <td>0.000000</td>\n",
       "      <td>1.00000</td>\n",
       "    </tr>\n",
       "    <tr>\n",
       "      <th>3</th>\n",
       "      <td>../data/raw/CoffeeScript/EtienneLem~skeleton/e...</td>\n",
       "      <td>stats = fs.lstatSync(path)</td>\n",
       "      <td>stats = fs.lstatSync(path)</td>\n",
       "      <td>0.000000</td>\n",
       "      <td>1.00000</td>\n",
       "    </tr>\n",
       "    <tr>\n",
       "      <th>4</th>\n",
       "      <td>../data/raw/CoffeeScript/EtienneLem~skeleton/e...</td>\n",
       "      <td>path = \"#{dir}/#{file}\"</td>\n",
       "      <td>path = \"#{dir}/#{file}\"</td>\n",
       "      <td>0.000000</td>\n",
       "      <td>1.00000</td>\n",
       "    </tr>\n",
       "  </tbody>\n",
       "</table>\n",
       "</div>"
      ],
      "text/plain": [
       "                                       line_img_path  \\\n",
       "0  ../data/raw/Kotlin/horizontalsystems~unstoppab...   \n",
       "1  ../data/raw/CoffeeScript/EtienneLem~skeleton/e...   \n",
       "2  ../data/raw/CoffeeScript/EtienneLem~skeleton/e...   \n",
       "3  ../data/raw/CoffeeScript/EtienneLem~skeleton/e...   \n",
       "4  ../data/raw/CoffeeScript/EtienneLem~skeleton/e...   \n",
       "\n",
       "                                              labels  \\\n",
       "0      private val feeChangeHeight: Long = if (te...   \n",
       "1                             if stats.isDirectory()   \n",
       "2      # Go through the loop again if it is a dir...   \n",
       "3                         stats = fs.lstatSync(path)   \n",
       "4                            path = \"#{dir}/#{file}\"   \n",
       "\n",
       "                                         predictions       cer  edit_distance  \n",
       "0      private val freeChangeHeight: Long = if (t...  0.135593        0.92562  \n",
       "1                             if stats.isDirectory()  0.000000        1.00000  \n",
       "2      # Go through the loop again if it is a dir...  0.000000        1.00000  \n",
       "3                         stats = fs.lstatSync(path)  0.000000        1.00000  \n",
       "4                            path = \"#{dir}/#{file}\"  0.000000        1.00000  "
      ]
     },
     "execution_count": 14,
     "metadata": {},
     "output_type": "execute_result"
    }
   ],
   "source": [
    "# Compute CER and Levensthein of test df with already computed predictions\n",
    "#test_df_with_metrices = evaluate_test_set(df = test_df_w_prediction,\n",
    "#                                          save_dir = \"../data/predictions/test_df_evaluated_all_w_metrices_XXX.json\",\n",
    "#                                          compute_cer = True,\n",
    "#                                          compute_edit_distance = True)\n",
    "\n",
    "# Or Load if already computed:\n",
    "test_df_with_metrices = pd.read_json(\"../data/predictions/test_df_evaluated_all_w_metrices.json\")\n",
    "test_df_with_metrices.head(5)"
   ]
  },
  {
   "cell_type": "code",
   "execution_count": 15,
   "id": "20f6cfde",
   "metadata": {
    "pycharm": {
     "name": "#%%\n"
    }
   },
   "outputs": [
    {
     "data": {
      "text/html": [
       "<div>\n",
       "<style scoped>\n",
       "    .dataframe tbody tr th:only-of-type {\n",
       "        vertical-align: middle;\n",
       "    }\n",
       "\n",
       "    .dataframe tbody tr th {\n",
       "        vertical-align: top;\n",
       "    }\n",
       "\n",
       "    .dataframe thead th {\n",
       "        text-align: right;\n",
       "    }\n",
       "</style>\n",
       "<table border=\"1\" class=\"dataframe\">\n",
       "  <thead>\n",
       "    <tr style=\"text-align: right;\">\n",
       "      <th></th>\n",
       "      <th>line_img_path</th>\n",
       "      <th>labels</th>\n",
       "      <th>predictions</th>\n",
       "      <th>cer</th>\n",
       "      <th>edit_distance</th>\n",
       "    </tr>\n",
       "  </thead>\n",
       "  <tbody>\n",
       "    <tr>\n",
       "      <th>9143</th>\n",
       "      <td>../data/raw/Scala/findify~s3mock/src~main~scal...</td>\n",
       "      <td>}</td>\n",
       "      <td>&lt;/   →   ************: }</td>\n",
       "      <td>19.0</td>\n",
       "      <td>0.450000</td>\n",
       "    </tr>\n",
       "    <tr>\n",
       "      <th>9148</th>\n",
       "      <td>../data/raw/Scala/findify~s3mock/src~main~scal...</td>\n",
       "      <td>)</td>\n",
       "      <td>( div    class: (</td>\n",
       "      <td>14.0</td>\n",
       "      <td>0.424242</td>\n",
       "    </tr>\n",
       "    <tr>\n",
       "      <th>9153</th>\n",
       "      <td>../data/raw/Scala/findify~s3mock/src~main~scal...</td>\n",
       "      <td>)</td>\n",
       "      <td>( div    class: (</td>\n",
       "      <td>14.0</td>\n",
       "      <td>0.424242</td>\n",
       "    </tr>\n",
       "    <tr>\n",
       "      <th>9159</th>\n",
       "      <td>../data/raw/Scala/findify~s3mock/src~main~scal...</td>\n",
       "      <td>)</td>\n",
       "      <td>(   ) -&gt; (pattern.includes(</td>\n",
       "      <td>24.0</td>\n",
       "      <td>0.244898</td>\n",
       "    </tr>\n",
       "    <tr>\n",
       "      <th>9174</th>\n",
       "      <td>../data/raw/Scala/findify~s3mock/src~main~scal...</td>\n",
       "      <td>)</td>\n",
       "      <td>( div    class: (</td>\n",
       "      <td>14.0</td>\n",
       "      <td>0.424242</td>\n",
       "    </tr>\n",
       "  </tbody>\n",
       "</table>\n",
       "</div>"
      ],
      "text/plain": [
       "                                          line_img_path  \\\n",
       "9143  ../data/raw/Scala/findify~s3mock/src~main~scal...   \n",
       "9148  ../data/raw/Scala/findify~s3mock/src~main~scal...   \n",
       "9153  ../data/raw/Scala/findify~s3mock/src~main~scal...   \n",
       "9159  ../data/raw/Scala/findify~s3mock/src~main~scal...   \n",
       "9174  ../data/raw/Scala/findify~s3mock/src~main~scal...   \n",
       "\n",
       "                     labels                   predictions   cer  edit_distance  \n",
       "9143                      }      </   →   ************: }  19.0       0.450000  \n",
       "9148                      )             ( div    class: (  14.0       0.424242  \n",
       "9153                      )             ( div    class: (  14.0       0.424242  \n",
       "9159                      )   (   ) -> (pattern.includes(  24.0       0.244898  \n",
       "9174                      )             ( div    class: (  14.0       0.424242  "
      ]
     },
     "execution_count": 15,
     "metadata": {},
     "output_type": "execute_result"
    }
   ],
   "source": [
    "# Analyse bad objects\n",
    "test_df_with_metrices[test_df_with_metrices.cer > 10].head(5)"
   ]
  },
  {
   "cell_type": "code",
   "execution_count": 16,
   "id": "da54d72e",
   "metadata": {
    "pycharm": {
     "name": "#%%\n"
    }
   },
   "outputs": [
    {
     "data": {
      "text/html": [
       "<div>\n",
       "<style scoped>\n",
       "    .dataframe tbody tr th:only-of-type {\n",
       "        vertical-align: middle;\n",
       "    }\n",
       "\n",
       "    .dataframe tbody tr th {\n",
       "        vertical-align: top;\n",
       "    }\n",
       "\n",
       "    .dataframe thead th {\n",
       "        text-align: right;\n",
       "    }\n",
       "</style>\n",
       "<table border=\"1\" class=\"dataframe\">\n",
       "  <thead>\n",
       "    <tr style=\"text-align: right;\">\n",
       "      <th></th>\n",
       "      <th>count</th>\n",
       "      <th>mean</th>\n",
       "      <th>std</th>\n",
       "      <th>min</th>\n",
       "      <th>25%</th>\n",
       "      <th>50%</th>\n",
       "      <th>75%</th>\n",
       "      <th>max</th>\n",
       "    </tr>\n",
       "  </thead>\n",
       "  <tbody>\n",
       "    <tr>\n",
       "      <th>cer</th>\n",
       "      <td>44277.0000</td>\n",
       "      <td>0.2008</td>\n",
       "      <td>0.8132</td>\n",
       "      <td>0.0000</td>\n",
       "      <td>0.0000</td>\n",
       "      <td>0.0000</td>\n",
       "      <td>0.2000</td>\n",
       "      <td>102.0000</td>\n",
       "    </tr>\n",
       "    <tr>\n",
       "      <th>edit_distance</th>\n",
       "      <td>44277.0000</td>\n",
       "      <td>0.9194</td>\n",
       "      <td>0.1383</td>\n",
       "      <td>0.0000</td>\n",
       "      <td>0.8916</td>\n",
       "      <td>1.0000</td>\n",
       "      <td>1.0000</td>\n",
       "      <td>1.0000</td>\n",
       "    </tr>\n",
       "  </tbody>\n",
       "</table>\n",
       "</div>"
      ],
      "text/plain": [
       "                    count    mean     std     min     25%     50%     75%  \\\n",
       "cer            44277.0000  0.2008  0.8132  0.0000  0.0000  0.0000  0.2000   \n",
       "edit_distance  44277.0000  0.9194  0.1383  0.0000  0.8916  1.0000  1.0000   \n",
       "\n",
       "                    max  \n",
       "cer            102.0000  \n",
       "edit_distance    1.0000  "
      ]
     },
     "execution_count": 16,
     "metadata": {},
     "output_type": "execute_result"
    }
   ],
   "source": [
    "test_df_with_metrices.describe().applymap('{:.4f}'.format).transpose()"
   ]
  },
  {
   "cell_type": "markdown",
   "id": "3f1f8ee5",
   "metadata": {
    "pycharm": {
     "name": "#%% md\n"
    }
   },
   "source": [
    "## Compare with and without noise characters"
   ]
  },
  {
   "cell_type": "code",
   "execution_count": 20,
   "id": "79672520",
   "metadata": {
    "pycharm": {
     "name": "#%%\n"
    }
   },
   "outputs": [],
   "source": [
    "# Define Noise characters, i.e. objects containing atleast one of these are flagged\n",
    "NOISE_CHARACTERS: list = [\"|\", \"→\"]\n",
    "\n",
    "def is_noise_characters(x: str) -> bool:\n",
    "    \"\"\"\n",
    "    Checks whether the input string has a character that is in the NOISE_CHARACTERS list\n",
    "    :param x Input string to check\n",
    "    :return Bool True if String has noise character, else False\n",
    "    \"\"\"\n",
    "    for char in NOISE_CHARACTERS:\n",
    "        if char in x:\n",
    "            return True\n",
    "        \n",
    "    return False\n"
   ]
  },
  {
   "cell_type": "code",
   "execution_count": null,
   "id": "220c2d33",
   "metadata": {},
   "outputs": [],
   "source": [
    "# Append flag to df\n",
    "test_df_with_metrices_flag = test_df_with_metrices.copy()\n",
    "test_df_with_metrices_flag[\"flag_noise\"] = test_df_with_metrices[\"predictions\"].apply(lambda x: is_noise_characters(x))\n",
    "\n",
    "# Analysis of CER without objects that contain noise chars\n",
    "test_df_with_metrices_flag[test_df_with_metrices_flag.flag_noise == False].describe().applymap('{:.4f}'.format).transpose()"
   ]
  },
  {
   "cell_type": "markdown",
   "id": "1ae622a1",
   "metadata": {
    "pycharm": {
     "name": "#%% md\n"
    }
   },
   "source": [
    "_______\n",
    "# Compare other base models from HuggingFace"
   ]
  },
  {
   "cell_type": "code",
   "execution_count": 18,
   "id": "e600a08a",
   "metadata": {
    "pycharm": {
     "name": "#%%\n"
    }
   },
   "outputs": [
    {
     "data": {
      "text/html": [
       "<div>\n",
       "<style scoped>\n",
       "    .dataframe tbody tr th:only-of-type {\n",
       "        vertical-align: middle;\n",
       "    }\n",
       "\n",
       "    .dataframe tbody tr th {\n",
       "        vertical-align: top;\n",
       "    }\n",
       "\n",
       "    .dataframe thead th {\n",
       "        text-align: right;\n",
       "    }\n",
       "</style>\n",
       "<table border=\"1\" class=\"dataframe\">\n",
       "  <thead>\n",
       "    <tr style=\"text-align: right;\">\n",
       "      <th></th>\n",
       "      <th>line_img_path</th>\n",
       "      <th>font</th>\n",
       "      <th>theme</th>\n",
       "      <th>language</th>\n",
       "      <th>line_number</th>\n",
       "      <th>text</th>\n",
       "      <th>text_size</th>\n",
       "      <th>contains_chinese</th>\n",
       "    </tr>\n",
       "  </thead>\n",
       "  <tbody>\n",
       "    <tr>\n",
       "      <th>line287530</th>\n",
       "      <td>../data/raw/Kotlin/horizontalsystems~unstoppab...</td>\n",
       "      <td>Crystal</td>\n",
       "      <td>(Actual) Obsidian</td>\n",
       "      <td>Kotlin</td>\n",
       "      <td>52.0</td>\n",
       "      <td>private val feeChangeHeight: Long = if (te...</td>\n",
       "      <td>59</td>\n",
       "      <td>False</td>\n",
       "    </tr>\n",
       "    <tr>\n",
       "      <th>line153994</th>\n",
       "      <td>../data/raw/CoffeeScript/EtienneLem~skeleton/e...</td>\n",
       "      <td>Crystal</td>\n",
       "      <td>(Actual) Obsidian</td>\n",
       "      <td>CoffeeScript</td>\n",
       "      <td>11.0</td>\n",
       "      <td>if stats.isDirectory()</td>\n",
       "      <td>22</td>\n",
       "      <td>False</td>\n",
       "    </tr>\n",
       "    <tr>\n",
       "      <th>line153993</th>\n",
       "      <td>../data/raw/CoffeeScript/EtienneLem~skeleton/e...</td>\n",
       "      <td>Crystal</td>\n",
       "      <td>(Actual) Obsidian</td>\n",
       "      <td>CoffeeScript</td>\n",
       "      <td>10.0</td>\n",
       "      <td># Go through the loop again if it is a dir...</td>\n",
       "      <td>48</td>\n",
       "      <td>False</td>\n",
       "    </tr>\n",
       "    <tr>\n",
       "      <th>line153991</th>\n",
       "      <td>../data/raw/CoffeeScript/EtienneLem~skeleton/e...</td>\n",
       "      <td>Crystal</td>\n",
       "      <td>(Actual) Obsidian</td>\n",
       "      <td>CoffeeScript</td>\n",
       "      <td>8.0</td>\n",
       "      <td>stats = fs.lstatSync(path)</td>\n",
       "      <td>26</td>\n",
       "      <td>False</td>\n",
       "    </tr>\n",
       "    <tr>\n",
       "      <th>line153990</th>\n",
       "      <td>../data/raw/CoffeeScript/EtienneLem~skeleton/e...</td>\n",
       "      <td>Crystal</td>\n",
       "      <td>(Actual) Obsidian</td>\n",
       "      <td>CoffeeScript</td>\n",
       "      <td>7.0</td>\n",
       "      <td>path = \"#{dir}/#{file}\"</td>\n",
       "      <td>23</td>\n",
       "      <td>False</td>\n",
       "    </tr>\n",
       "  </tbody>\n",
       "</table>\n",
       "</div>"
      ],
      "text/plain": [
       "                                                line_img_path     font  \\\n",
       "line287530  ../data/raw/Kotlin/horizontalsystems~unstoppab...  Crystal   \n",
       "line153994  ../data/raw/CoffeeScript/EtienneLem~skeleton/e...  Crystal   \n",
       "line153993  ../data/raw/CoffeeScript/EtienneLem~skeleton/e...  Crystal   \n",
       "line153991  ../data/raw/CoffeeScript/EtienneLem~skeleton/e...  Crystal   \n",
       "line153990  ../data/raw/CoffeeScript/EtienneLem~skeleton/e...  Crystal   \n",
       "\n",
       "                        theme      language  line_number  \\\n",
       "line287530  (Actual) Obsidian        Kotlin         52.0   \n",
       "line153994  (Actual) Obsidian  CoffeeScript         11.0   \n",
       "line153993  (Actual) Obsidian  CoffeeScript         10.0   \n",
       "line153991  (Actual) Obsidian  CoffeeScript          8.0   \n",
       "line153990  (Actual) Obsidian  CoffeeScript          7.0   \n",
       "\n",
       "                                                         text  text_size  \\\n",
       "line287530      private val feeChangeHeight: Long = if (te...         59   \n",
       "line153994                             if stats.isDirectory()         22   \n",
       "line153993      # Go through the loop again if it is a dir...         48   \n",
       "line153991                         stats = fs.lstatSync(path)         26   \n",
       "line153990                            path = \"#{dir}/#{file}\"         23   \n",
       "\n",
       "            contains_chinese  \n",
       "line287530             False  \n",
       "line153994             False  \n",
       "line153993             False  \n",
       "line153991             False  \n",
       "line153990             False  "
      ]
     },
     "execution_count": 18,
     "metadata": {},
     "output_type": "execute_result"
    }
   ],
   "source": [
    "# Read test df\n",
    "test_df = pd.read_json(\"../data/extracted/training/Custom_Split_64b_10e/test_df\")\n",
    "test_df.head(5)"
   ]
  },
  {
   "cell_type": "code",
   "execution_count": 19,
   "id": "93983232",
   "metadata": {
    "pycharm": {
     "name": "#%%\n"
    }
   },
   "outputs": [],
   "source": [
    "# Take object of CustomTrOCR class\n",
    "cm_base_printed = CustomTrOCR()\n",
    "cm_base_printed.load_model(\"../models/trocr_base_printed\")\n",
    "# Ignore if its already downloaded\n",
    "#cm_base_printed.dump_model(dir_path = \"../models/trocr_base_printed\")\n",
    "\n",
    "#df_evaluated_base = predict_all(df=test_df, \n",
    "#                                cm=cm_base_stage,\n",
    "#                                save_dir=\"../data/predictions/test_df_printed_evaluated.json\")"
   ]
  },
  {
   "cell_type": "markdown",
   "id": "e2f021b9",
   "metadata": {
    "pycharm": {
     "name": "#%% md\n"
    }
   },
   "source": [
    "## Analog for handwritten, str, base stage1\n",
    "Load either from huggingface (or if already downloaded) from local dir"
   ]
  },
  {
   "cell_type": "code",
   "execution_count": 20,
   "id": "325515d6",
   "metadata": {
    "pycharm": {
     "name": "#%%\n"
    }
   },
   "outputs": [],
   "source": [
    "#############################################################\n",
    "#### Skip if already computed; Load from predictions dir ####\n",
    "#############################################################\n",
    "\n",
    "#cm_base_handwritten = CustomTrOCR()\n",
    "#cm_base_handwritten.load_model(\"../models/trocr_base_handwritten\")\n",
    "#df_evaluated_handwritten = predict_all(df=test_df, \n",
    "#                                cm=cm_base_handwritten,\n",
    "#                                save_dir=\"../data/predictions/test_df_handwritten_evaluated.json\")\n",
    "#cm_base_str = CustomTrOCR()\n",
    "#cm_base_str.load_model(\"../models/trocr_base_str\")\n",
    "#df_evaluated_str = predict_all(df=test_df, \n",
    "#                                cm=cm_base_str,\n",
    "#                                save_dir=\"../data/predictions/test_df_str_evaluated.json\")\n",
    "#cm_base_base = CustomTrOCR()\n",
    "#cm_base_base.load_model(\"../models/trocr_base_stage1\")\n",
    "#df_evaluated_str = predict_all(df=test_df, \n",
    "#                                cm=cm_base_base,\n",
    "#                                save_dir=\"../data/predictions/test_df_base_evaluated.json\")"
   ]
  },
  {
   "cell_type": "markdown",
   "id": "c5e7bda9",
   "metadata": {
    "pycharm": {
     "name": "#%% md\n"
    }
   },
   "source": [
    "_______\n",
    "## Analysis of Base Models\n",
    "- df_evaluated_printed\n",
    "- df_evaluated_handwritten\n",
    "- df_evaluated_str\n",
    "- df_evaluated_base\n"
   ]
  },
  {
   "cell_type": "code",
   "execution_count": 21,
   "id": "3f4659a6",
   "metadata": {
    "pycharm": {
     "name": "#%%\n"
    }
   },
   "outputs": [],
   "source": [
    "#############################################################\n",
    "#### Skip if already computed; Load from predictions dir ####\n",
    "#############################################################\n",
    "\n",
    "#test_df_printed_with_metrices = evaluate_test_set(df = df_evaluated_printed,\n",
    "#                                          save_dir = \"../data/predictions/test_df_printed_evaluated_cer.json\",\n",
    "#                                          compute_cer = True,\n",
    "#                                          compute_edit_distance = False)\n",
    "\n",
    "#test_df_handwritten_with_metrices = evaluate_test_set(df = df_evaluated_handwritten,\n",
    "#                                          save_dir = \"../data/predictions/test_df_handwritten_evaluated_cer.json\",\n",
    "#                                          compute_cer = True,\n",
    "#                                          compute_edit_distance = False)\n",
    "\n",
    "#test_df_str_with_metrices = evaluate_test_set(df = df_evaluated_str,\n",
    "#                                          save_dir = \"../data/predictions/test_df_str_evaluated_cer.json\",\n",
    "#                                          compute_cer = True,\n",
    "#                                          compute_edit_distance = False)\n",
    "\n",
    "#test_df_base_with_metrices = evaluate_test_set(df = df_evaluated_base,\n",
    "#                                          save_dir = \"../data/predictions/test_df_base_evaluated_cer.json\",\n",
    "#                                          compute_cer = True,\n",
    "#                                          compute_edit_distance = False)"
   ]
  },
  {
   "cell_type": "markdown",
   "id": "f3db9208",
   "metadata": {
    "pycharm": {
     "name": "#%% md\n"
    }
   },
   "source": [
    "________\n",
    "# CER Analysis of base models\n",
    "In this section we analyse the CER value of the base models and take the results for our elaboration."
   ]
  },
  {
   "cell_type": "markdown",
   "id": "54aa3689",
   "metadata": {
    "pycharm": {
     "name": "#%% md\n"
    }
   },
   "source": [
    "____\n",
    "## Base Model: Printed"
   ]
  },
  {
   "cell_type": "code",
   "execution_count": 22,
   "id": "1fb77495",
   "metadata": {
    "pycharm": {
     "name": "#%%\n"
    }
   },
   "outputs": [
    {
     "data": {
      "text/html": [
       "<div>\n",
       "<style scoped>\n",
       "    .dataframe tbody tr th:only-of-type {\n",
       "        vertical-align: middle;\n",
       "    }\n",
       "\n",
       "    .dataframe tbody tr th {\n",
       "        vertical-align: top;\n",
       "    }\n",
       "\n",
       "    .dataframe thead th {\n",
       "        text-align: right;\n",
       "    }\n",
       "</style>\n",
       "<table border=\"1\" class=\"dataframe\">\n",
       "  <thead>\n",
       "    <tr style=\"text-align: right;\">\n",
       "      <th></th>\n",
       "      <th>count</th>\n",
       "      <th>mean</th>\n",
       "      <th>std</th>\n",
       "      <th>min</th>\n",
       "      <th>25%</th>\n",
       "      <th>50%</th>\n",
       "      <th>75%</th>\n",
       "      <th>max</th>\n",
       "    </tr>\n",
       "  </thead>\n",
       "  <tbody>\n",
       "    <tr>\n",
       "      <th>cer</th>\n",
       "      <td>44277.0000</td>\n",
       "      <td>0.9483</td>\n",
       "      <td>0.8573</td>\n",
       "      <td>0.0000</td>\n",
       "      <td>0.7778</td>\n",
       "      <td>0.8772</td>\n",
       "      <td>1.0000</td>\n",
       "      <td>37.0000</td>\n",
       "    </tr>\n",
       "  </tbody>\n",
       "</table>\n",
       "</div>"
      ],
      "text/plain": [
       "          count    mean     std     min     25%     50%     75%      max\n",
       "cer  44277.0000  0.9483  0.8573  0.0000  0.7778  0.8772  1.0000  37.0000"
      ]
     },
     "execution_count": 22,
     "metadata": {},
     "output_type": "execute_result"
    }
   ],
   "source": [
    "test_df_printed_with_metrices = pd.read_json(\"../data/predictions/test_df_printed_evaluated_cer.json\")\n",
    "test_df_printed_with_metrices.describe().applymap('{:.4f}'.format).transpose()"
   ]
  },
  {
   "cell_type": "code",
   "execution_count": 23,
   "id": "307bc270",
   "metadata": {
    "pycharm": {
     "name": "#%%\n"
    }
   },
   "outputs": [
    {
     "data": {
      "text/html": [
       "<div>\n",
       "<style scoped>\n",
       "    .dataframe tbody tr th:only-of-type {\n",
       "        vertical-align: middle;\n",
       "    }\n",
       "\n",
       "    .dataframe tbody tr th {\n",
       "        vertical-align: top;\n",
       "    }\n",
       "\n",
       "    .dataframe thead th {\n",
       "        text-align: right;\n",
       "    }\n",
       "</style>\n",
       "<table border=\"1\" class=\"dataframe\">\n",
       "  <thead>\n",
       "    <tr style=\"text-align: right;\">\n",
       "      <th></th>\n",
       "      <th>count</th>\n",
       "      <th>mean</th>\n",
       "      <th>std</th>\n",
       "      <th>min</th>\n",
       "      <th>25%</th>\n",
       "      <th>50%</th>\n",
       "      <th>75%</th>\n",
       "      <th>max</th>\n",
       "    </tr>\n",
       "  </thead>\n",
       "  <tbody>\n",
       "    <tr>\n",
       "      <th>cer</th>\n",
       "      <td>43797.0000</td>\n",
       "      <td>0.9486</td>\n",
       "      <td>0.8617</td>\n",
       "      <td>0.0000</td>\n",
       "      <td>0.7750</td>\n",
       "      <td>0.8762</td>\n",
       "      <td>1.0000</td>\n",
       "      <td>37.0000</td>\n",
       "    </tr>\n",
       "  </tbody>\n",
       "</table>\n",
       "</div>"
      ],
      "text/plain": [
       "          count    mean     std     min     25%     50%     75%      max\n",
       "cer  43797.0000  0.9486  0.8617  0.0000  0.7750  0.8762  1.0000  37.0000"
      ]
     },
     "execution_count": 23,
     "metadata": {},
     "output_type": "execute_result"
    }
   ],
   "source": [
    "test_df_printed_with_metrices_flagged = test_df_printed_with_metrices.copy()\n",
    "test_df_printed_with_metrices_flagged[\"flag_noise\"] = test_df_printed_with_metrices_flagged[\"predictions\"].apply(lambda x: is_noise_characters(x))\n",
    "\n",
    "# Analysis of CER without objects that contain noise chars\n",
    "test_df_printed_with_metrices_flagged[test_df_printed_with_metrices_flagged.flag_noise == False].describe().applymap('{:.4f}'.format).transpose()"
   ]
  },
  {
   "cell_type": "markdown",
   "id": "1fa74589",
   "metadata": {
    "pycharm": {
     "name": "#%% md\n"
    }
   },
   "source": [
    "____\n",
    "## Base Model: Handwritten"
   ]
  },
  {
   "cell_type": "code",
   "execution_count": 24,
   "id": "cd8905fc",
   "metadata": {
    "pycharm": {
     "name": "#%%\n"
    }
   },
   "outputs": [
    {
     "data": {
      "text/html": [
       "<div>\n",
       "<style scoped>\n",
       "    .dataframe tbody tr th:only-of-type {\n",
       "        vertical-align: middle;\n",
       "    }\n",
       "\n",
       "    .dataframe tbody tr th {\n",
       "        vertical-align: top;\n",
       "    }\n",
       "\n",
       "    .dataframe thead th {\n",
       "        text-align: right;\n",
       "    }\n",
       "</style>\n",
       "<table border=\"1\" class=\"dataframe\">\n",
       "  <thead>\n",
       "    <tr style=\"text-align: right;\">\n",
       "      <th></th>\n",
       "      <th>count</th>\n",
       "      <th>mean</th>\n",
       "      <th>std</th>\n",
       "      <th>min</th>\n",
       "      <th>25%</th>\n",
       "      <th>50%</th>\n",
       "      <th>75%</th>\n",
       "      <th>max</th>\n",
       "    </tr>\n",
       "  </thead>\n",
       "  <tbody>\n",
       "    <tr>\n",
       "      <th>cer</th>\n",
       "      <td>44277.0000</td>\n",
       "      <td>1.0931</td>\n",
       "      <td>1.2170</td>\n",
       "      <td>0.0000</td>\n",
       "      <td>0.6418</td>\n",
       "      <td>0.8485</td>\n",
       "      <td>1.0741</td>\n",
       "      <td>101.0000</td>\n",
       "    </tr>\n",
       "  </tbody>\n",
       "</table>\n",
       "</div>"
      ],
      "text/plain": [
       "          count    mean     std     min     25%     50%     75%       max\n",
       "cer  44277.0000  1.0931  1.2170  0.0000  0.6418  0.8485  1.0741  101.0000"
      ]
     },
     "execution_count": 24,
     "metadata": {},
     "output_type": "execute_result"
    }
   ],
   "source": [
    "test_df_handwritten_with_metrices = pd.read_json(\"../data/predictions/test_df_handwritten_evaluated_cer.json\")\n",
    "test_df_handwritten_with_metrices.describe().applymap('{:.4f}'.format).transpose()"
   ]
  },
  {
   "cell_type": "code",
   "execution_count": 25,
   "id": "c687289a",
   "metadata": {
    "pycharm": {
     "name": "#%%\n"
    }
   },
   "outputs": [
    {
     "data": {
      "text/html": [
       "<div>\n",
       "<style scoped>\n",
       "    .dataframe tbody tr th:only-of-type {\n",
       "        vertical-align: middle;\n",
       "    }\n",
       "\n",
       "    .dataframe tbody tr th {\n",
       "        vertical-align: top;\n",
       "    }\n",
       "\n",
       "    .dataframe thead th {\n",
       "        text-align: right;\n",
       "    }\n",
       "</style>\n",
       "<table border=\"1\" class=\"dataframe\">\n",
       "  <thead>\n",
       "    <tr style=\"text-align: right;\">\n",
       "      <th></th>\n",
       "      <th>count</th>\n",
       "      <th>mean</th>\n",
       "      <th>std</th>\n",
       "      <th>min</th>\n",
       "      <th>25%</th>\n",
       "      <th>50%</th>\n",
       "      <th>75%</th>\n",
       "      <th>max</th>\n",
       "    </tr>\n",
       "  </thead>\n",
       "  <tbody>\n",
       "    <tr>\n",
       "      <th>cer</th>\n",
       "      <td>44277.0000</td>\n",
       "      <td>1.0931</td>\n",
       "      <td>1.2170</td>\n",
       "      <td>0.0000</td>\n",
       "      <td>0.6418</td>\n",
       "      <td>0.8485</td>\n",
       "      <td>1.0741</td>\n",
       "      <td>101.0000</td>\n",
       "    </tr>\n",
       "  </tbody>\n",
       "</table>\n",
       "</div>"
      ],
      "text/plain": [
       "          count    mean     std     min     25%     50%     75%       max\n",
       "cer  44277.0000  1.0931  1.2170  0.0000  0.6418  0.8485  1.0741  101.0000"
      ]
     },
     "execution_count": 25,
     "metadata": {},
     "output_type": "execute_result"
    }
   ],
   "source": [
    "test_df_handwritten_with_metrices_flagged = test_df_handwritten_with_metrices.copy()\n",
    "test_df_handwritten_with_metrices_flagged[\"flag_noise\"] = test_df_handwritten_with_metrices_flagged[\"predictions\"].apply(lambda x: is_noise_characters(x))\n",
    "\n",
    "# Analysis of CER without objects that contain noise chars\n",
    "test_df_handwritten_with_metrices_flagged[test_df_handwritten_with_metrices_flagged.flag_noise == False].describe().applymap('{:.4f}'.format).transpose()"
   ]
  },
  {
   "cell_type": "markdown",
   "id": "9017b77a",
   "metadata": {
    "pycharm": {
     "name": "#%% md\n"
    }
   },
   "source": [
    "_____\n",
    "## Base Model: STR"
   ]
  },
  {
   "cell_type": "code",
   "execution_count": 26,
   "id": "f23baa23",
   "metadata": {
    "pycharm": {
     "name": "#%%\n"
    }
   },
   "outputs": [
    {
     "data": {
      "text/html": [
       "<div>\n",
       "<style scoped>\n",
       "    .dataframe tbody tr th:only-of-type {\n",
       "        vertical-align: middle;\n",
       "    }\n",
       "\n",
       "    .dataframe tbody tr th {\n",
       "        vertical-align: top;\n",
       "    }\n",
       "\n",
       "    .dataframe thead th {\n",
       "        text-align: right;\n",
       "    }\n",
       "</style>\n",
       "<table border=\"1\" class=\"dataframe\">\n",
       "  <thead>\n",
       "    <tr style=\"text-align: right;\">\n",
       "      <th></th>\n",
       "      <th>count</th>\n",
       "      <th>mean</th>\n",
       "      <th>std</th>\n",
       "      <th>min</th>\n",
       "      <th>25%</th>\n",
       "      <th>50%</th>\n",
       "      <th>75%</th>\n",
       "      <th>max</th>\n",
       "    </tr>\n",
       "  </thead>\n",
       "  <tbody>\n",
       "    <tr>\n",
       "      <th>cer</th>\n",
       "      <td>44277.0000</td>\n",
       "      <td>1.0150</td>\n",
       "      <td>0.6953</td>\n",
       "      <td>0.0000</td>\n",
       "      <td>0.8125</td>\n",
       "      <td>0.9630</td>\n",
       "      <td>1.0000</td>\n",
       "      <td>12.0000</td>\n",
       "    </tr>\n",
       "  </tbody>\n",
       "</table>\n",
       "</div>"
      ],
      "text/plain": [
       "          count    mean     std     min     25%     50%     75%      max\n",
       "cer  44277.0000  1.0150  0.6953  0.0000  0.8125  0.9630  1.0000  12.0000"
      ]
     },
     "execution_count": 26,
     "metadata": {},
     "output_type": "execute_result"
    }
   ],
   "source": [
    "test_df_str_with_metrices = pd.read_json(\"../data/predictions/test_df_str_evaluated_cer.json\")\n",
    "test_df_str_with_metrices.describe().applymap('{:.4f}'.format).transpose()"
   ]
  },
  {
   "cell_type": "code",
   "execution_count": 27,
   "id": "df7ab8eb",
   "metadata": {
    "pycharm": {
     "name": "#%%\n"
    }
   },
   "outputs": [
    {
     "data": {
      "text/html": [
       "<div>\n",
       "<style scoped>\n",
       "    .dataframe tbody tr th:only-of-type {\n",
       "        vertical-align: middle;\n",
       "    }\n",
       "\n",
       "    .dataframe tbody tr th {\n",
       "        vertical-align: top;\n",
       "    }\n",
       "\n",
       "    .dataframe thead th {\n",
       "        text-align: right;\n",
       "    }\n",
       "</style>\n",
       "<table border=\"1\" class=\"dataframe\">\n",
       "  <thead>\n",
       "    <tr style=\"text-align: right;\">\n",
       "      <th></th>\n",
       "      <th>count</th>\n",
       "      <th>mean</th>\n",
       "      <th>std</th>\n",
       "      <th>min</th>\n",
       "      <th>25%</th>\n",
       "      <th>50%</th>\n",
       "      <th>75%</th>\n",
       "      <th>max</th>\n",
       "    </tr>\n",
       "  </thead>\n",
       "  <tbody>\n",
       "    <tr>\n",
       "      <th>cer</th>\n",
       "      <td>44277.0000</td>\n",
       "      <td>1.0150</td>\n",
       "      <td>0.6953</td>\n",
       "      <td>0.0000</td>\n",
       "      <td>0.8125</td>\n",
       "      <td>0.9630</td>\n",
       "      <td>1.0000</td>\n",
       "      <td>12.0000</td>\n",
       "    </tr>\n",
       "  </tbody>\n",
       "</table>\n",
       "</div>"
      ],
      "text/plain": [
       "          count    mean     std     min     25%     50%     75%      max\n",
       "cer  44277.0000  1.0150  0.6953  0.0000  0.8125  0.9630  1.0000  12.0000"
      ]
     },
     "execution_count": 27,
     "metadata": {},
     "output_type": "execute_result"
    }
   ],
   "source": [
    "test_df_str_with_metrices_flagged = test_df_str_with_metrices.copy()\n",
    "test_df_str_with_metrices_flagged[\"flag_noise\"] = test_df_str_with_metrices_flagged[\"predictions\"].apply(lambda x: is_noise_characters(x))\n",
    "\n",
    "# Analysis of CER without objects that contain noise chars\n",
    "test_df_str_with_metrices_flagged[test_df_str_with_metrices_flagged.flag_noise == False].describe().applymap('{:.4f}'.format).transpose()"
   ]
  },
  {
   "cell_type": "markdown",
   "id": "ec537547",
   "metadata": {
    "pycharm": {
     "name": "#%% md\n"
    }
   },
   "source": [
    "____\n",
    "## Base Model: Base Stage1"
   ]
  },
  {
   "cell_type": "code",
   "execution_count": 28,
   "id": "50a0f9f4",
   "metadata": {
    "pycharm": {
     "name": "#%%\n"
    }
   },
   "outputs": [
    {
     "data": {
      "text/html": [
       "<div>\n",
       "<style scoped>\n",
       "    .dataframe tbody tr th:only-of-type {\n",
       "        vertical-align: middle;\n",
       "    }\n",
       "\n",
       "    .dataframe tbody tr th {\n",
       "        vertical-align: top;\n",
       "    }\n",
       "\n",
       "    .dataframe thead th {\n",
       "        text-align: right;\n",
       "    }\n",
       "</style>\n",
       "<table border=\"1\" class=\"dataframe\">\n",
       "  <thead>\n",
       "    <tr style=\"text-align: right;\">\n",
       "      <th></th>\n",
       "      <th>count</th>\n",
       "      <th>mean</th>\n",
       "      <th>std</th>\n",
       "      <th>min</th>\n",
       "      <th>25%</th>\n",
       "      <th>50%</th>\n",
       "      <th>75%</th>\n",
       "      <th>max</th>\n",
       "    </tr>\n",
       "  </thead>\n",
       "  <tbody>\n",
       "    <tr>\n",
       "      <th>cer</th>\n",
       "      <td>44277.0000</td>\n",
       "      <td>0.7127</td>\n",
       "      <td>2.2413</td>\n",
       "      <td>0.0000</td>\n",
       "      <td>0.1000</td>\n",
       "      <td>0.2759</td>\n",
       "      <td>0.7213</td>\n",
       "      <td>84.0000</td>\n",
       "    </tr>\n",
       "  </tbody>\n",
       "</table>\n",
       "</div>"
      ],
      "text/plain": [
       "          count    mean     std     min     25%     50%     75%      max\n",
       "cer  44277.0000  0.7127  2.2413  0.0000  0.1000  0.2759  0.7213  84.0000"
      ]
     },
     "execution_count": 28,
     "metadata": {},
     "output_type": "execute_result"
    }
   ],
   "source": [
    "test_df_base_with_metrices = pd.read_json(\"../data/predictions/test_df_base_evaluated_cer.json\")\n",
    "test_df_base_with_metrices.describe().applymap('{:.4f}'.format).transpose()"
   ]
  },
  {
   "cell_type": "code",
   "execution_count": 29,
   "id": "aa52a1ed",
   "metadata": {
    "pycharm": {
     "name": "#%%\n"
    }
   },
   "outputs": [
    {
     "data": {
      "text/html": [
       "<div>\n",
       "<style scoped>\n",
       "    .dataframe tbody tr th:only-of-type {\n",
       "        vertical-align: middle;\n",
       "    }\n",
       "\n",
       "    .dataframe tbody tr th {\n",
       "        vertical-align: top;\n",
       "    }\n",
       "\n",
       "    .dataframe thead th {\n",
       "        text-align: right;\n",
       "    }\n",
       "</style>\n",
       "<table border=\"1\" class=\"dataframe\">\n",
       "  <thead>\n",
       "    <tr style=\"text-align: right;\">\n",
       "      <th></th>\n",
       "      <th>count</th>\n",
       "      <th>mean</th>\n",
       "      <th>std</th>\n",
       "      <th>min</th>\n",
       "      <th>25%</th>\n",
       "      <th>50%</th>\n",
       "      <th>75%</th>\n",
       "      <th>max</th>\n",
       "    </tr>\n",
       "  </thead>\n",
       "  <tbody>\n",
       "    <tr>\n",
       "      <th>cer</th>\n",
       "      <td>42307.0000</td>\n",
       "      <td>0.7197</td>\n",
       "      <td>2.2872</td>\n",
       "      <td>0.0000</td>\n",
       "      <td>0.0952</td>\n",
       "      <td>0.2667</td>\n",
       "      <td>0.7264</td>\n",
       "      <td>84.0000</td>\n",
       "    </tr>\n",
       "  </tbody>\n",
       "</table>\n",
       "</div>"
      ],
      "text/plain": [
       "          count    mean     std     min     25%     50%     75%      max\n",
       "cer  42307.0000  0.7197  2.2872  0.0000  0.0952  0.2667  0.7264  84.0000"
      ]
     },
     "execution_count": 29,
     "metadata": {},
     "output_type": "execute_result"
    }
   ],
   "source": [
    "test_df_base_with_metrices_flagged = test_df_base_with_metrices.copy()\n",
    "test_df_base_with_metrices_flagged[\"flag_noise\"] = test_df_base_with_metrices_flagged[\"predictions\"].apply(lambda x: is_noise_characters(x))\n",
    "\n",
    "# Analysis of CER without objects that contain noise chars\n",
    "test_df_base_with_metrices_flagged[test_df_base_with_metrices_flagged.flag_noise == False].describe().applymap('{:.4f}'.format).transpose()"
   ]
  },
  {
   "cell_type": "markdown",
   "id": "9e2926c9",
   "metadata": {
    "pycharm": {
     "name": "#%% md\n"
    }
   },
   "source": [
    "___\n",
    "# Comparison with Tesseract"
   ]
  },
  {
   "cell_type": "code",
   "execution_count": 30,
   "id": "b6b19691",
   "metadata": {
    "pycharm": {
     "name": "#%%\n"
    }
   },
   "outputs": [],
   "source": [
    "# Read Hold Out Set (Test DF)\n",
    "#test_df = pd.read_json(\"../data/extracted/training/Custom_Split_64b_10e/test_df\")\n",
    "\n",
    "# Filter\n",
    "#df_evaluated_tesseract = test_df.copy()\n",
    "#df_evaluated_tesseract = df_evaluated_tesseract[[\"line_img_path\", \"text\"]]\n",
    "#df_evaluated_tesseract.head(2)"
   ]
  },
  {
   "cell_type": "code",
   "execution_count": 31,
   "id": "a7e3b0ed",
   "metadata": {
    "pycharm": {
     "name": "#%%\n"
    }
   },
   "outputs": [],
   "source": [
    "def tesseract_ocr(code_image):\n",
    "    return pytesseract.image_to_string(code_image)"
   ]
  },
  {
   "cell_type": "code",
   "execution_count": 32,
   "id": "47d42423",
   "metadata": {
    "pycharm": {
     "name": "#%%\n"
    }
   },
   "outputs": [],
   "source": [
    "# Inference\n",
    "#df_evaluated_tesseract[\"predictions\"] = df_evaluated_tesseract[\"line_img_path\"].apply(lambda x: tesseract_ocr(x))\n",
    "#df_evaluated_tesseract.to_json(\"../data/predictions/test_df_tesseract_evaluated.json\")\n",
    "\n",
    "#df_evaluated_tesseract.head(3)"
   ]
  },
  {
   "cell_type": "code",
   "execution_count": 36,
   "id": "db4e759b",
   "metadata": {
    "pycharm": {
     "name": "#%%\n"
    }
   },
   "outputs": [],
   "source": [
    "# CER Evaluation\n",
    "#cer_metric = evaluate.load(\"cer\")\n",
    "#df_evaluated_tesseract[\"cer\"] = df_evaluated_tesseract.apply(lambda x: cer_metric.compute(predictions=[x[\"predictions\"]],\n",
    "#                                                          references=[x[\"text\"]]), axis=1)\n",
    "# Save df\n",
    "#df_evaluated_tesseract.to_json(\"../data/predictions/test_df_tesseract_evaluated_cer.json\")"
   ]
  },
  {
   "cell_type": "code",
   "execution_count": null,
   "id": "04699e47",
   "metadata": {
    "pycharm": {
     "name": "#%%\n"
    }
   },
   "outputs": [],
   "source": [
    "#img = cv2.imread(df_evaluated_tesseract.iloc[4,0])\n",
    "#plt.grid(None)\n",
    "#plt.imshow(img)"
   ]
  },
  {
   "cell_type": "code",
   "execution_count": 34,
   "id": "4ccec0bf",
   "metadata": {
    "pycharm": {
     "name": "#%%\n"
    }
   },
   "outputs": [
    {
     "data": {
      "text/html": [
       "<div>\n",
       "<style scoped>\n",
       "    .dataframe tbody tr th:only-of-type {\n",
       "        vertical-align: middle;\n",
       "    }\n",
       "\n",
       "    .dataframe tbody tr th {\n",
       "        vertical-align: top;\n",
       "    }\n",
       "\n",
       "    .dataframe thead th {\n",
       "        text-align: right;\n",
       "    }\n",
       "</style>\n",
       "<table border=\"1\" class=\"dataframe\">\n",
       "  <thead>\n",
       "    <tr style=\"text-align: right;\">\n",
       "      <th></th>\n",
       "      <th>count</th>\n",
       "      <th>mean</th>\n",
       "      <th>std</th>\n",
       "      <th>min</th>\n",
       "      <th>25%</th>\n",
       "      <th>50%</th>\n",
       "      <th>75%</th>\n",
       "      <th>max</th>\n",
       "    </tr>\n",
       "  </thead>\n",
       "  <tbody>\n",
       "    <tr>\n",
       "      <th>cer</th>\n",
       "      <td>44277.0000</td>\n",
       "      <td>0.4434</td>\n",
       "      <td>0.4625</td>\n",
       "      <td>0.0000</td>\n",
       "      <td>0.0000</td>\n",
       "      <td>0.1765</td>\n",
       "      <td>0.9375</td>\n",
       "      <td>14.0000</td>\n",
       "    </tr>\n",
       "  </tbody>\n",
       "</table>\n",
       "</div>"
      ],
      "text/plain": [
       "          count    mean     std     min     25%     50%     75%      max\n",
       "cer  44277.0000  0.4434  0.4625  0.0000  0.0000  0.1765  0.9375  14.0000"
      ]
     },
     "execution_count": 34,
     "metadata": {},
     "output_type": "execute_result"
    }
   ],
   "source": [
    "# Read if already trained\n",
    "test_df_tesseract_with_metrices = pd.read_json(\"../data/predictions/test_df_tesseract_evaluated_cer.json\")\n",
    "test_df_tesseract_with_metrices.describe().applymap('{:.4f}'.format).transpose()"
   ]
  },
  {
   "cell_type": "code",
   "execution_count": 35,
   "id": "1795d8f4",
   "metadata": {
    "pycharm": {
     "name": "#%%\n"
    }
   },
   "outputs": [
    {
     "data": {
      "text/html": [
       "<div>\n",
       "<style scoped>\n",
       "    .dataframe tbody tr th:only-of-type {\n",
       "        vertical-align: middle;\n",
       "    }\n",
       "\n",
       "    .dataframe tbody tr th {\n",
       "        vertical-align: top;\n",
       "    }\n",
       "\n",
       "    .dataframe thead th {\n",
       "        text-align: right;\n",
       "    }\n",
       "</style>\n",
       "<table border=\"1\" class=\"dataframe\">\n",
       "  <thead>\n",
       "    <tr style=\"text-align: right;\">\n",
       "      <th></th>\n",
       "      <th>count</th>\n",
       "      <th>mean</th>\n",
       "      <th>std</th>\n",
       "      <th>min</th>\n",
       "      <th>25%</th>\n",
       "      <th>50%</th>\n",
       "      <th>75%</th>\n",
       "      <th>max</th>\n",
       "    </tr>\n",
       "  </thead>\n",
       "  <tbody>\n",
       "    <tr>\n",
       "      <th>cer</th>\n",
       "      <td>42688.0000</td>\n",
       "      <td>0.4455</td>\n",
       "      <td>0.4645</td>\n",
       "      <td>0.0000</td>\n",
       "      <td>0.0000</td>\n",
       "      <td>0.1750</td>\n",
       "      <td>0.9474</td>\n",
       "      <td>14.0000</td>\n",
       "    </tr>\n",
       "  </tbody>\n",
       "</table>\n",
       "</div>"
      ],
      "text/plain": [
       "          count    mean     std     min     25%     50%     75%      max\n",
       "cer  42688.0000  0.4455  0.4645  0.0000  0.0000  0.1750  0.9474  14.0000"
      ]
     },
     "execution_count": 35,
     "metadata": {},
     "output_type": "execute_result"
    }
   ],
   "source": [
    "test_df_tesseract_with_metrices_flagged = test_df_tesseract_with_metrices.copy()\n",
    "test_df_tesseract_with_metrices_flagged[\"flag_noise\"] = test_df_tesseract_with_metrices_flagged[\"predictions\"].apply(lambda x: is_noise_characters(x))\n",
    "\n",
    "# Analysis of CER without objects that contain noise chars\n",
    "test_df_tesseract_with_metrices_flagged[test_df_tesseract_with_metrices_flagged.flag_noise == False].describe().applymap('{:.4f}'.format).transpose()"
   ]
  },
  {
   "cell_type": "markdown",
   "id": "00bee279",
   "metadata": {
    "pycharm": {
     "name": "#%% md\n"
    }
   },
   "source": [
    "## Binarized Test Image Test\n",
    "Test custom fined model on binarized images "
   ]
  },
  {
   "cell_type": "code",
   "execution_count": 6,
   "id": "9ed3c2a7",
   "metadata": {},
   "outputs": [
    {
     "data": {
      "text/html": [
       "<div>\n",
       "<style scoped>\n",
       "    .dataframe tbody tr th:only-of-type {\n",
       "        vertical-align: middle;\n",
       "    }\n",
       "\n",
       "    .dataframe tbody tr th {\n",
       "        vertical-align: top;\n",
       "    }\n",
       "\n",
       "    .dataframe thead th {\n",
       "        text-align: right;\n",
       "    }\n",
       "</style>\n",
       "<table border=\"1\" class=\"dataframe\">\n",
       "  <thead>\n",
       "    <tr style=\"text-align: right;\">\n",
       "      <th></th>\n",
       "      <th>line_img_path</th>\n",
       "      <th>font</th>\n",
       "      <th>theme</th>\n",
       "      <th>language</th>\n",
       "      <th>line_number</th>\n",
       "      <th>text</th>\n",
       "      <th>text_size</th>\n",
       "      <th>contains_chinese</th>\n",
       "    </tr>\n",
       "  </thead>\n",
       "  <tbody>\n",
       "    <tr>\n",
       "      <th>line287530</th>\n",
       "      <td>../data/raw/Kotlin/horizontalsystems~unstoppab...</td>\n",
       "      <td>Crystal</td>\n",
       "      <td>(Actual) Obsidian</td>\n",
       "      <td>Kotlin</td>\n",
       "      <td>52.0</td>\n",
       "      <td>private val feeChangeHeight: Long = if (te...</td>\n",
       "      <td>59</td>\n",
       "      <td>False</td>\n",
       "    </tr>\n",
       "    <tr>\n",
       "      <th>line153994</th>\n",
       "      <td>../data/raw/CoffeeScript/EtienneLem~skeleton/e...</td>\n",
       "      <td>Crystal</td>\n",
       "      <td>(Actual) Obsidian</td>\n",
       "      <td>CoffeeScript</td>\n",
       "      <td>11.0</td>\n",
       "      <td>if stats.isDirectory()</td>\n",
       "      <td>22</td>\n",
       "      <td>False</td>\n",
       "    </tr>\n",
       "  </tbody>\n",
       "</table>\n",
       "</div>"
      ],
      "text/plain": [
       "                                                line_img_path     font  \\\n",
       "line287530  ../data/raw/Kotlin/horizontalsystems~unstoppab...  Crystal   \n",
       "line153994  ../data/raw/CoffeeScript/EtienneLem~skeleton/e...  Crystal   \n",
       "\n",
       "                        theme      language  line_number  \\\n",
       "line287530  (Actual) Obsidian        Kotlin         52.0   \n",
       "line153994  (Actual) Obsidian  CoffeeScript         11.0   \n",
       "\n",
       "                                                         text  text_size  \\\n",
       "line287530      private val feeChangeHeight: Long = if (te...         59   \n",
       "line153994                             if stats.isDirectory()         22   \n",
       "\n",
       "            contains_chinese  \n",
       "line287530             False  \n",
       "line153994             False  "
      ]
     },
     "execution_count": 6,
     "metadata": {},
     "output_type": "execute_result"
    }
   ],
   "source": [
    "# Replace with path to bw image\n",
    "test_df = pd.read_json(\"../data/extracted/training/Custom_Split_64b_10e/test_df\")\n",
    "test_df.head(2)"
   ]
  },
  {
   "cell_type": "code",
   "execution_count": 7,
   "id": "4ba5ec50",
   "metadata": {
    "pycharm": {
     "name": "#%%\n"
    }
   },
   "outputs": [
    {
     "data": {
      "text/plain": [
       "'../data/raw/Kotlin/horizontalsystems~unstoppable-wallet-android/app~src~main~java~io~horizontalsystems~bankwallet~core~adapters~zcash~ZcashAdapter.kt/line_images_cw/line52.0.png'"
      ]
     },
     "execution_count": 7,
     "metadata": {},
     "output_type": "execute_result"
    }
   ],
   "source": [
    "test_df.iloc[0,0]"
   ]
  },
  {
   "cell_type": "code",
   "execution_count": 8,
   "id": "bd30c6ab",
   "metadata": {
    "pycharm": {
     "name": "#%%\n"
    }
   },
   "outputs": [
    {
     "name": "stderr",
     "output_type": "stream",
     "text": [
      "/tmp/ipykernel_55460/3604187897.py:2: FutureWarning: The default value of regex will change from True to False in a future version.\n",
      "  test_df[\"line_img_path\"] = test_df[\"line_img_path\"].str.replace(\".png\", \"_bw.png\")\n"
     ]
    },
    {
     "data": {
      "text/plain": [
       "'../data/raw/Kotlin/horizontalsystems~unstoppable-wallet-android/app~src~main~java~io~horizontalsystems~bankwallet~core~adapters~zcash~ZcashAdapter.kt/line_images_cw/line52.0_bw.png'"
      ]
     },
     "execution_count": 8,
     "metadata": {},
     "output_type": "execute_result"
    }
   ],
   "source": [
    "# Convert to _bw image path\n",
    "test_df[\"line_img_path\"] = test_df[\"line_img_path\"].str.replace(\".png\", \"_bw.png\")\n",
    "test_df.iloc[0,0]"
   ]
  },
  {
   "cell_type": "code",
   "execution_count": 9,
   "id": "16df0561",
   "metadata": {
    "pycharm": {
     "name": "#%%\n"
    }
   },
   "outputs": [
    {
     "name": "stderr",
     "output_type": "stream",
     "text": [
      "/home/negrini/Desktop/trocr/trocr_env39/lib/python3.9/site-packages/transformers/generation_utils.py:1359: UserWarning: Neither `max_length` nor `max_new_tokens` has been set, `max_length` will default to 20 (`self.config.max_length`). Controlling `max_length` via the config is deprecated and `max_length` will be removed from the config in v5 of Transformers -- we recommend using `max_new_tokens` to control the maximum length of the generation.\n",
      "  warnings.warn(\n"
     ]
    },
    {
     "name": "stdout",
     "output_type": "stream",
     "text": [
      "Saved prediction of test dataframe in: ../data/predictions/test_df_binarized_evaluated.json\n"
     ]
    }
   ],
   "source": [
    "test_df_evaluated = predict_all(df=test_df, \n",
    "                                cm=cm, \n",
    "                                save_dir=\"../data/predictions/test_df_binarized_evaluated.json\")"
   ]
  },
  {
   "cell_type": "code",
   "execution_count": 23,
   "id": "92dac532",
   "metadata": {},
   "outputs": [
    {
     "data": {
      "text/plain": [
       "<matplotlib.image.AxesImage at 0x7f71ae8c07f0>"
      ]
     },
     "execution_count": 23,
     "metadata": {},
     "output_type": "execute_result"
    },
    {
     "data": {
      "image/png": "[encoded data removed]",
      "text/plain": [
       "<Figure size 640x480 with 1 Axes>"
      ]
     },
     "metadata": {},
     "output_type": "display_data"
    }
   ],
   "source": [
    "img = cv2.imread(test_df_evaluated.iloc[12,0])\n",
    "plt.grid(None)\n",
    "plt.imshow(img)"
   ]
  },
  {
   "cell_type": "code",
   "execution_count": 10,
   "id": "192991ce",
   "metadata": {
    "pycharm": {
     "name": "#%%\n"
    }
   },
   "outputs": [
    {
     "name": "stdout",
     "output_type": "stream",
     "text": [
      "Average CER: 0.1882\n",
      "Standard Deviation CER: 0.8172\n",
      "\n",
      "Saved prediction with metrics dataframe in: ../data/predictions/test_df_binarized_evaluated_cer.json\n"
     ]
    }
   ],
   "source": [
    "test_df_evaluated_cer = evaluate_test_set(df = test_df_evaluated,\n",
    "                                          save_dir = \"../data/predictions/test_df_binarized_evaluated_cer.json\",\n",
    "                                          compute_cer = True,\n",
    "                                          compute_edit_distance = False)"
   ]
  },
  {
   "cell_type": "code",
   "execution_count": 11,
   "id": "90b87c4c",
   "metadata": {
    "pycharm": {
     "name": "#%%\n"
    }
   },
   "outputs": [
    {
     "name": "stdout",
     "output_type": "stream",
     "text": [
      "Average Edit Distance: 0.9069\n",
      "Standard Deviation Edit Distance: 0.1562\n",
      "\n",
      "Saved prediction with metrics dataframe in: ../data/predictions/test_df_binarized_evaluated_leven.json\n"
     ]
    }
   ],
   "source": [
    "test_df_evaluated_leven = evaluate_test_set(df = test_df_evaluated,\n",
    "                                          save_dir = \"../data/predictions/test_df_binarized_evaluated_leven.json\",\n",
    "                                          compute_cer = False,\n",
    "                                          compute_edit_distance = True)"
   ]
  },
  {
   "cell_type": "code",
   "execution_count": 18,
   "id": "12713374",
   "metadata": {},
   "outputs": [
    {
     "data": {
      "text/html": [
       "<div>\n",
       "<style scoped>\n",
       "    .dataframe tbody tr th:only-of-type {\n",
       "        vertical-align: middle;\n",
       "    }\n",
       "\n",
       "    .dataframe tbody tr th {\n",
       "        vertical-align: top;\n",
       "    }\n",
       "\n",
       "    .dataframe thead th {\n",
       "        text-align: right;\n",
       "    }\n",
       "</style>\n",
       "<table border=\"1\" class=\"dataframe\">\n",
       "  <thead>\n",
       "    <tr style=\"text-align: right;\">\n",
       "      <th></th>\n",
       "      <th>count</th>\n",
       "      <th>mean</th>\n",
       "      <th>std</th>\n",
       "      <th>min</th>\n",
       "      <th>25%</th>\n",
       "      <th>50%</th>\n",
       "      <th>75%</th>\n",
       "      <th>max</th>\n",
       "    </tr>\n",
       "  </thead>\n",
       "  <tbody>\n",
       "    <tr>\n",
       "      <th>cer</th>\n",
       "      <td>44277.0000</td>\n",
       "      <td>0.1882</td>\n",
       "      <td>0.8172</td>\n",
       "      <td>0.0000</td>\n",
       "      <td>0.0000</td>\n",
       "      <td>0.0000</td>\n",
       "      <td>0.2000</td>\n",
       "      <td>38.0000</td>\n",
       "    </tr>\n",
       "    <tr>\n",
       "      <th>edit_distance</th>\n",
       "      <td>44277.0000</td>\n",
       "      <td>0.9069</td>\n",
       "      <td>0.1562</td>\n",
       "      <td>0.0000</td>\n",
       "      <td>0.8732</td>\n",
       "      <td>0.9897</td>\n",
       "      <td>1.0000</td>\n",
       "      <td>1.0000</td>\n",
       "    </tr>\n",
       "  </tbody>\n",
       "</table>\n",
       "</div>"
      ],
      "text/plain": [
       "                    count    mean     std     min     25%     50%     75%  \\\n",
       "cer            44277.0000  0.1882  0.8172  0.0000  0.0000  0.0000  0.2000   \n",
       "edit_distance  44277.0000  0.9069  0.1562  0.0000  0.8732  0.9897  1.0000   \n",
       "\n",
       "                   max  \n",
       "cer            38.0000  \n",
       "edit_distance   1.0000  "
      ]
     },
     "execution_count": 18,
     "metadata": {},
     "output_type": "execute_result"
    }
   ],
   "source": [
    "test_df_evaluated_cer.describe().applymap('{:.4f}'.format).transpose()"
   ]
  },
  {
   "cell_type": "code",
   "execution_count": 21,
   "id": "7409f1f8",
   "metadata": {
    "pycharm": {
     "name": "#%%\n"
    }
   },
   "outputs": [
    {
     "data": {
      "text/html": [
       "<div>\n",
       "<style scoped>\n",
       "    .dataframe tbody tr th:only-of-type {\n",
       "        vertical-align: middle;\n",
       "    }\n",
       "\n",
       "    .dataframe tbody tr th {\n",
       "        vertical-align: top;\n",
       "    }\n",
       "\n",
       "    .dataframe thead th {\n",
       "        text-align: right;\n",
       "    }\n",
       "</style>\n",
       "<table border=\"1\" class=\"dataframe\">\n",
       "  <thead>\n",
       "    <tr style=\"text-align: right;\">\n",
       "      <th></th>\n",
       "      <th>count</th>\n",
       "      <th>mean</th>\n",
       "      <th>std</th>\n",
       "      <th>min</th>\n",
       "      <th>25%</th>\n",
       "      <th>50%</th>\n",
       "      <th>75%</th>\n",
       "      <th>max</th>\n",
       "    </tr>\n",
       "  </thead>\n",
       "  <tbody>\n",
       "    <tr>\n",
       "      <th>cer</th>\n",
       "      <td>38096.0000</td>\n",
       "      <td>0.1436</td>\n",
       "      <td>0.8209</td>\n",
       "      <td>0.0000</td>\n",
       "      <td>0.0000</td>\n",
       "      <td>0.0000</td>\n",
       "      <td>0.0833</td>\n",
       "      <td>38.0000</td>\n",
       "    </tr>\n",
       "    <tr>\n",
       "      <th>edit_distance</th>\n",
       "      <td>38096.0000</td>\n",
       "      <td>0.9223</td>\n",
       "      <td>0.1504</td>\n",
       "      <td>0.0000</td>\n",
       "      <td>0.9155</td>\n",
       "      <td>1.0000</td>\n",
       "      <td>1.0000</td>\n",
       "      <td>1.0000</td>\n",
       "    </tr>\n",
       "  </tbody>\n",
       "</table>\n",
       "</div>"
      ],
      "text/plain": [
       "                    count    mean     std     min     25%     50%     75%  \\\n",
       "cer            38096.0000  0.1436  0.8209  0.0000  0.0000  0.0000  0.0833   \n",
       "edit_distance  38096.0000  0.9223  0.1504  0.0000  0.9155  1.0000  1.0000   \n",
       "\n",
       "                   max  \n",
       "cer            38.0000  \n",
       "edit_distance   1.0000  "
      ]
     },
     "execution_count": 21,
     "metadata": {},
     "output_type": "execute_result"
    }
   ],
   "source": [
    "test_df_evaluated_cer_flagged = test_df_evaluated_cer.copy()\n",
    "test_df_evaluated_cer_flagged[\"flag_noise\"] = test_df_evaluated_cer_flagged[\"predictions\"].apply(lambda x: is_noise_characters(x))\n",
    "\n",
    "# Analysis of CER without objects that contain noise chars\n",
    "test_df_evaluated_cer_flagged[test_df_evaluated_cer_flagged.flag_noise == False].describe().applymap('{:.4f}'.format).transpose()"
   ]
  }
 ],
 "metadata": {
  "kernelspec": {
   "display_name": "Python 3 (ipykernel)",
   "language": "python",
   "name": "python3"
  },
  "language_info": {
   "codemirror_mode": {
    "name": "ipython",
    "version": 3
   },
   "file_extension": ".py",
   "mimetype": "text/x-python",
   "name": "python",
   "nbconvert_exporter": "python",
   "pygments_lexer": "ipython3",
   "version": "3.9.16"
  }
 },
 "nbformat": 4,
 "nbformat_minor": 5
}