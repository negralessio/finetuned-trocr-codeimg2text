{
 "cells": [
  {
   "cell_type": "markdown",
   "id": "450c5b98",
   "metadata": {
    "pycharm": {
     "name": "#%% md\n"
    }
   },
   "source": [
    "# About this Notebook\n",
    "This notebook is used in order to obtain all important information about our training data in a table format. We extract the data by using a crawler-method that iterates through all possible directory and reads out all desired information and put them into a pandas dataframe. Afterwards, a second crawler-method iterates through every entry of that dataframe and extracts the information about every line of text in the file. This information is then added to the dataframe.\n",
    "\n",
    "*BLACK WHITE VERSION *\n",
    "Change file_path in generate_line_images(.) in data_extraction.py to file_path = Path(dir_path).joinpath(\"line\" + str(row[\"line_number\"]) + \"_bw.png\") # Delete '_bw'.\n",
    "\n",
    "Approach utilizes the DataExtractor class and can be split into the following steps:\n",
    "\n",
    "0. *de = DataExtractor():* Instanciate DataExtractor class, which is used to extract the data from the files.\n",
    "1. *de.extract_data():* Extract data about each image from json files and store in dataframe.\n",
    "2. *de.get_lines_data():* Extract data about each line of text from each dataframe row and store in second dataframe.\n",
    "3. *de.generate_line_images():* Crop each row of text from original images, store them in new folder in existing structure, add paths to second dataframe.\n",
    "4. *de.get_line_image_paths():* Optionally, the image cropping can be skipped (if already done) and the paths of the cropped images can be loaded directly from the second dataframe.\n",
    "\n",
    "To save or load the dataframes, the following methods can be used:\n",
    "\n",
    "* *de.to_json():* Save one or both dataframes as json files.\n",
    "* *de.from_json():* Load one or both dataframes from json files."
   ]
  },
  {
   "cell_type": "code",
   "execution_count": 1,
   "outputs": [],
   "source": [
    "import pandas as pd\n",
    "import numpy as np\n",
    "from pathlib import Path\n",
    "import os\n",
    "import json\n",
    "import cv2\n",
    "\n",
    "# In case the setup of the src module doesn't work, use sys.path to find the imported class. If sys.path is used, the src. must be removed from the import statement.\n",
    "import sys\n",
    "module_path = os.path.abspath(os.path.join('..'))\n",
    "if module_path not in sys.path:\n",
    "     sys.path.append(Path(module_path).joinpath(\"src\").as_posix())\n",
    "\n",
    "from data_extraction import DataExtractor"
   ],
   "metadata": {
    "collapsed": false,
    "pycharm": {
     "name": "#%%\n"
    }
   }
  },
  {
   "cell_type": "code",
   "execution_count": 2,
   "outputs": [
    {
     "data": {
      "text/plain": "                                                   img_path  img_width  \\\nid                                                                       \nimg1      ../data/raw/PHP/phpDocumentor~TypeResolver/tes...       1917   \nimg2      ../data/raw/PHP/phpDocumentor~TypeResolver/tes...       1917   \nimg3      ../data/raw/PHP/phpDocumentor~TypeResolver/src...       1917   \nimg4      ../data/raw/PHP/phpDocumentor~TypeResolver/src...       1917   \nimg5      ../data/raw/PHP/phpDocumentor~TypeResolver/tes...       1917   \n...                                                     ...        ...   \nimg11213  ../data/raw/Shell/webdevops~Dockerfile/docker~...        766   \nimg11214  ../data/raw/Shell/webdevops~Dockerfile/docker~...        766   \nimg11215  ../data/raw/Shell/webdevops~Dockerfile/docker~...        766   \nimg11216  ../data/raw/Shell/webdevops~Dockerfile/docker~...        766   \nimg11217  ../data/raw/Shell/webdevops~Dockerfile/docker~...        766   \n\n          img_height                  bbox  char_width  char_height  ln_start  \\\nid                                                                              \nimg1             997   [382, 84, 751, 320]    9.265409         20.0       150   \nimg2             997   [122, 65, 686, 660]    9.272727         20.0         1   \nimg3             997   [382, 65, 686, 660]    9.267857         20.0         1   \nimg4             997  [382, 65, 1093, 660]    9.269231         20.0         1   \nimg5             997   [382, 65, 686, 660]    9.266714         20.0         1   \n...              ...                   ...         ...          ...       ...   \nimg11213         942    [56, 57, 411, 855]    4.897698         15.0         1   \nimg11214         942    [56, 57, 184, 855]    4.897959         15.0         1   \nimg11215         942    [56, 69, 181, 840]    4.903226         15.0        74   \nimg11216         942    [56, 57, 181, 855]    4.892857         15.0         1   \nimg11217         942    [74, 57, 181, 840]    7.956522         24.0         1   \n\n          ln_end                                         lines_data  \\\nid                                                                    \nimg1       166.0  [{'x': 382, 'y': 64, 'line_number': 150, 'heig...   \nimg2        33.0  [{'x': 122, 'y': 65, 'line_number': 1, 'height...   \nimg3        33.0  [{'x': 382, 'y': 65, 'line_number': 1, 'height...   \nimg4        33.0  [{'x': 382, 'y': 65, 'line_number': 1, 'height...   \nimg5        33.0  [{'x': 382, 'y': 65, 'line_number': 1, 'height...   \n...          ...                                                ...   \nimg11213    57.0  [{'x': 56, 'y': 57, 'line_number': 1, 'height'...   \nimg11214    57.0  [{'x': 56, 'y': 57, 'line_number': 1, 'height'...   \nimg11215   104.2  [{'x': 56, 'y': 54, 'line_number': -0.9, 'heig...   \nimg11216    49.1  [{'x': 56, 'y': 57, 'line_number': 1, 'height'...   \nimg11217    35.0  [{'x': 74, 'y': 57, 'line_number': 1, 'height'...   \n\n                   font       theme             timestamp language  \\\nid                                                                   \nimg1               Hack  RailsCasts  2022/08/27, 02:05:27      PHP   \nimg2               Hack  RailsCasts  2022/08/27, 02:05:41      PHP   \nimg3               Hack  RailsCasts  2022/08/27, 02:05:55      PHP   \nimg4               Hack  RailsCasts  2022/08/27, 02:06:09      PHP   \nimg5               Hack  RailsCasts  2022/08/27, 02:06:23      PHP   \n...                 ...         ...                   ...      ...   \nimg11213  ProggyCleanTT   Chameleon  2022/08/28, 02:18:11    Shell   \nimg11214  ProggyCleanTT   Chameleon  2022/08/28, 02:18:26    Shell   \nimg11215  ProggyCleanTT   Chameleon  2022/08/28, 02:18:37    Shell   \nimg11216  ProggyCleanTT   Chameleon  2022/08/28, 02:18:53    Shell   \nimg11217  ProggyCleanTT   Chameleon  2022/08/28, 02:19:25    Shell   \n\n                          repository  \\\nid                                     \nimg1      phpDocumentor~TypeResolver   \nimg2      phpDocumentor~TypeResolver   \nimg3      phpDocumentor~TypeResolver   \nimg4      phpDocumentor~TypeResolver   \nimg5      phpDocumentor~TypeResolver   \n...                              ...   \nimg11213        webdevops~Dockerfile   \nimg11214        webdevops~Dockerfile   \nimg11215        webdevops~Dockerfile   \nimg11216        webdevops~Dockerfile   \nimg11217        webdevops~Dockerfile   \n\n                                                       file  \nid                                                           \nimg1                tests~unit~IntegerRangeResolverTest.php  \nimg2                       tests~unit~FqsenResolverTest.php  \nimg3                                   src~TypeResolver.php  \nimg4                                  src~Types~Object_.php  \nimg5                  tests~unit~CollectionResolverTest.php  \n...                                                     ...  \nimg11213  docker~php-nginx-dev~debian-8~conf~provision~e...  \nimg11214  docker~php-apache-dev~7.1~conf~provision~entry...  \nimg11215  docker~php-apache-dev~7.3~conf~provision~entry...  \nimg11216  docker~php-apache-dev~centos-7-php7~conf~provi...  \nimg11217  docker~php-nginx-dev~ubuntu-15.04~conf~provisi...  \n\n[11217 rows x 15 columns]",
      "text/html": "<div>\n<style scoped>\n    .dataframe tbody tr th:only-of-type {\n        vertical-align: middle;\n    }\n\n    .dataframe tbody tr th {\n        vertical-align: top;\n    }\n\n    .dataframe thead th {\n        text-align: right;\n    }\n</style>\n<table border=\"1\" class=\"dataframe\">\n  <thead>\n    <tr style=\"text-align: right;\">\n      <th></th>\n      <th>img_path</th>\n      <th>img_width</th>\n      <th>img_height</th>\n      <th>bbox</th>\n      <th>char_width</th>\n      <th>char_height</th>\n      <th>ln_start</th>\n      <th>ln_end</th>\n      <th>lines_data</th>\n      <th>font</th>\n      <th>theme</th>\n      <th>timestamp</th>\n      <th>language</th>\n      <th>repository</th>\n      <th>file</th>\n    </tr>\n    <tr>\n      <th>id</th>\n      <th></th>\n      <th></th>\n      <th></th>\n      <th></th>\n      <th></th>\n      <th></th>\n      <th></th>\n      <th></th>\n      <th></th>\n      <th></th>\n      <th></th>\n      <th></th>\n      <th></th>\n      <th></th>\n      <th></th>\n    </tr>\n  </thead>\n  <tbody>\n    <tr>\n      <th>img1</th>\n      <td>../data/raw/PHP/phpDocumentor~TypeResolver/tes...</td>\n      <td>1917</td>\n      <td>997</td>\n      <td>[382, 84, 751, 320]</td>\n      <td>9.265409</td>\n      <td>20.0</td>\n      <td>150</td>\n      <td>166.0</td>\n      <td>[{'x': 382, 'y': 64, 'line_number': 150, 'heig...</td>\n      <td>Hack</td>\n      <td>RailsCasts</td>\n      <td>2022/08/27, 02:05:27</td>\n      <td>PHP</td>\n      <td>phpDocumentor~TypeResolver</td>\n      <td>tests~unit~IntegerRangeResolverTest.php</td>\n    </tr>\n    <tr>\n      <th>img2</th>\n      <td>../data/raw/PHP/phpDocumentor~TypeResolver/tes...</td>\n      <td>1917</td>\n      <td>997</td>\n      <td>[122, 65, 686, 660]</td>\n      <td>9.272727</td>\n      <td>20.0</td>\n      <td>1</td>\n      <td>33.0</td>\n      <td>[{'x': 122, 'y': 65, 'line_number': 1, 'height...</td>\n      <td>Hack</td>\n      <td>RailsCasts</td>\n      <td>2022/08/27, 02:05:41</td>\n      <td>PHP</td>\n      <td>phpDocumentor~TypeResolver</td>\n      <td>tests~unit~FqsenResolverTest.php</td>\n    </tr>\n    <tr>\n      <th>img3</th>\n      <td>../data/raw/PHP/phpDocumentor~TypeResolver/src...</td>\n      <td>1917</td>\n      <td>997</td>\n      <td>[382, 65, 686, 660]</td>\n      <td>9.267857</td>\n      <td>20.0</td>\n      <td>1</td>\n      <td>33.0</td>\n      <td>[{'x': 382, 'y': 65, 'line_number': 1, 'height...</td>\n      <td>Hack</td>\n      <td>RailsCasts</td>\n      <td>2022/08/27, 02:05:55</td>\n      <td>PHP</td>\n      <td>phpDocumentor~TypeResolver</td>\n      <td>src~TypeResolver.php</td>\n    </tr>\n    <tr>\n      <th>img4</th>\n      <td>../data/raw/PHP/phpDocumentor~TypeResolver/src...</td>\n      <td>1917</td>\n      <td>997</td>\n      <td>[382, 65, 1093, 660]</td>\n      <td>9.269231</td>\n      <td>20.0</td>\n      <td>1</td>\n      <td>33.0</td>\n      <td>[{'x': 382, 'y': 65, 'line_number': 1, 'height...</td>\n      <td>Hack</td>\n      <td>RailsCasts</td>\n      <td>2022/08/27, 02:06:09</td>\n      <td>PHP</td>\n      <td>phpDocumentor~TypeResolver</td>\n      <td>src~Types~Object_.php</td>\n    </tr>\n    <tr>\n      <th>img5</th>\n      <td>../data/raw/PHP/phpDocumentor~TypeResolver/tes...</td>\n      <td>1917</td>\n      <td>997</td>\n      <td>[382, 65, 686, 660]</td>\n      <td>9.266714</td>\n      <td>20.0</td>\n      <td>1</td>\n      <td>33.0</td>\n      <td>[{'x': 382, 'y': 65, 'line_number': 1, 'height...</td>\n      <td>Hack</td>\n      <td>RailsCasts</td>\n      <td>2022/08/27, 02:06:23</td>\n      <td>PHP</td>\n      <td>phpDocumentor~TypeResolver</td>\n      <td>tests~unit~CollectionResolverTest.php</td>\n    </tr>\n    <tr>\n      <th>...</th>\n      <td>...</td>\n      <td>...</td>\n      <td>...</td>\n      <td>...</td>\n      <td>...</td>\n      <td>...</td>\n      <td>...</td>\n      <td>...</td>\n      <td>...</td>\n      <td>...</td>\n      <td>...</td>\n      <td>...</td>\n      <td>...</td>\n      <td>...</td>\n      <td>...</td>\n    </tr>\n    <tr>\n      <th>img11213</th>\n      <td>../data/raw/Shell/webdevops~Dockerfile/docker~...</td>\n      <td>766</td>\n      <td>942</td>\n      <td>[56, 57, 411, 855]</td>\n      <td>4.897698</td>\n      <td>15.0</td>\n      <td>1</td>\n      <td>57.0</td>\n      <td>[{'x': 56, 'y': 57, 'line_number': 1, 'height'...</td>\n      <td>ProggyCleanTT</td>\n      <td>Chameleon</td>\n      <td>2022/08/28, 02:18:11</td>\n      <td>Shell</td>\n      <td>webdevops~Dockerfile</td>\n      <td>docker~php-nginx-dev~debian-8~conf~provision~e...</td>\n    </tr>\n    <tr>\n      <th>img11214</th>\n      <td>../data/raw/Shell/webdevops~Dockerfile/docker~...</td>\n      <td>766</td>\n      <td>942</td>\n      <td>[56, 57, 184, 855]</td>\n      <td>4.897959</td>\n      <td>15.0</td>\n      <td>1</td>\n      <td>57.0</td>\n      <td>[{'x': 56, 'y': 57, 'line_number': 1, 'height'...</td>\n      <td>ProggyCleanTT</td>\n      <td>Chameleon</td>\n      <td>2022/08/28, 02:18:26</td>\n      <td>Shell</td>\n      <td>webdevops~Dockerfile</td>\n      <td>docker~php-apache-dev~7.1~conf~provision~entry...</td>\n    </tr>\n    <tr>\n      <th>img11215</th>\n      <td>../data/raw/Shell/webdevops~Dockerfile/docker~...</td>\n      <td>766</td>\n      <td>942</td>\n      <td>[56, 69, 181, 840]</td>\n      <td>4.903226</td>\n      <td>15.0</td>\n      <td>74</td>\n      <td>104.2</td>\n      <td>[{'x': 56, 'y': 54, 'line_number': -0.9, 'heig...</td>\n      <td>ProggyCleanTT</td>\n      <td>Chameleon</td>\n      <td>2022/08/28, 02:18:37</td>\n      <td>Shell</td>\n      <td>webdevops~Dockerfile</td>\n      <td>docker~php-apache-dev~7.3~conf~provision~entry...</td>\n    </tr>\n    <tr>\n      <th>img11216</th>\n      <td>../data/raw/Shell/webdevops~Dockerfile/docker~...</td>\n      <td>766</td>\n      <td>942</td>\n      <td>[56, 57, 181, 855]</td>\n      <td>4.892857</td>\n      <td>15.0</td>\n      <td>1</td>\n      <td>49.1</td>\n      <td>[{'x': 56, 'y': 57, 'line_number': 1, 'height'...</td>\n      <td>ProggyCleanTT</td>\n      <td>Chameleon</td>\n      <td>2022/08/28, 02:18:53</td>\n      <td>Shell</td>\n      <td>webdevops~Dockerfile</td>\n      <td>docker~php-apache-dev~centos-7-php7~conf~provi...</td>\n    </tr>\n    <tr>\n      <th>img11217</th>\n      <td>../data/raw/Shell/webdevops~Dockerfile/docker~...</td>\n      <td>766</td>\n      <td>942</td>\n      <td>[74, 57, 181, 840]</td>\n      <td>7.956522</td>\n      <td>24.0</td>\n      <td>1</td>\n      <td>35.0</td>\n      <td>[{'x': 74, 'y': 57, 'line_number': 1, 'height'...</td>\n      <td>ProggyCleanTT</td>\n      <td>Chameleon</td>\n      <td>2022/08/28, 02:19:25</td>\n      <td>Shell</td>\n      <td>webdevops~Dockerfile</td>\n      <td>docker~php-nginx-dev~ubuntu-15.04~conf~provisi...</td>\n    </tr>\n  </tbody>\n</table>\n<p>11217 rows × 15 columns</p>\n</div>"
     },
     "execution_count": 2,
     "metadata": {},
     "output_type": "execute_result"
    }
   ],
   "source": [
    "de = DataExtractor(top_dir_path=\"../data/raw\")\n",
    "df = de.extract_data()\n",
    "df"
   ],
   "metadata": {
    "collapsed": false,
    "pycharm": {
     "name": "#%%\n"
    }
   }
  },
  {
   "cell_type": "code",
   "execution_count": 3,
   "outputs": [
    {
     "name": "stderr",
     "output_type": "stream",
     "text": [
      "/tmp/ipykernel_109265/165101864.py:2: FutureWarning: The default value of regex will change from True to False in a future version.\n",
      "  df[\"img_path\"] = df[\"img_path\"].str.replace(\"img.png\", \"bw.png\")\n"
     ]
    },
    {
     "data": {
      "text/plain": "                                               img_path  img_width  \\\nid                                                                   \nimg1  ../data/raw/PHP/phpDocumentor~TypeResolver/tes...       1917   \nimg2  ../data/raw/PHP/phpDocumentor~TypeResolver/tes...       1917   \nimg3  ../data/raw/PHP/phpDocumentor~TypeResolver/src...       1917   \nimg4  ../data/raw/PHP/phpDocumentor~TypeResolver/src...       1917   \nimg5  ../data/raw/PHP/phpDocumentor~TypeResolver/tes...       1917   \n\n      img_height                  bbox  char_width  char_height  ln_start  \\\nid                                                                          \nimg1         997   [382, 84, 751, 320]    9.265409         20.0       150   \nimg2         997   [122, 65, 686, 660]    9.272727         20.0         1   \nimg3         997   [382, 65, 686, 660]    9.267857         20.0         1   \nimg4         997  [382, 65, 1093, 660]    9.269231         20.0         1   \nimg5         997   [382, 65, 686, 660]    9.266714         20.0         1   \n\n      ln_end                                         lines_data  font  \\\nid                                                                      \nimg1   166.0  [{'x': 382, 'y': 64, 'line_number': 150, 'heig...  Hack   \nimg2    33.0  [{'x': 122, 'y': 65, 'line_number': 1, 'height...  Hack   \nimg3    33.0  [{'x': 382, 'y': 65, 'line_number': 1, 'height...  Hack   \nimg4    33.0  [{'x': 382, 'y': 65, 'line_number': 1, 'height...  Hack   \nimg5    33.0  [{'x': 382, 'y': 65, 'line_number': 1, 'height...  Hack   \n\n           theme             timestamp language                  repository  \\\nid                                                                            \nimg1  RailsCasts  2022/08/27, 02:05:27      PHP  phpDocumentor~TypeResolver   \nimg2  RailsCasts  2022/08/27, 02:05:41      PHP  phpDocumentor~TypeResolver   \nimg3  RailsCasts  2022/08/27, 02:05:55      PHP  phpDocumentor~TypeResolver   \nimg4  RailsCasts  2022/08/27, 02:06:09      PHP  phpDocumentor~TypeResolver   \nimg5  RailsCasts  2022/08/27, 02:06:23      PHP  phpDocumentor~TypeResolver   \n\n                                         file  \nid                                             \nimg1  tests~unit~IntegerRangeResolverTest.php  \nimg2         tests~unit~FqsenResolverTest.php  \nimg3                     src~TypeResolver.php  \nimg4                    src~Types~Object_.php  \nimg5    tests~unit~CollectionResolverTest.php  ",
      "text/html": "<div>\n<style scoped>\n    .dataframe tbody tr th:only-of-type {\n        vertical-align: middle;\n    }\n\n    .dataframe tbody tr th {\n        vertical-align: top;\n    }\n\n    .dataframe thead th {\n        text-align: right;\n    }\n</style>\n<table border=\"1\" class=\"dataframe\">\n  <thead>\n    <tr style=\"text-align: right;\">\n      <th></th>\n      <th>img_path</th>\n      <th>img_width</th>\n      <th>img_height</th>\n      <th>bbox</th>\n      <th>char_width</th>\n      <th>char_height</th>\n      <th>ln_start</th>\n      <th>ln_end</th>\n      <th>lines_data</th>\n      <th>font</th>\n      <th>theme</th>\n      <th>timestamp</th>\n      <th>language</th>\n      <th>repository</th>\n      <th>file</th>\n    </tr>\n    <tr>\n      <th>id</th>\n      <th></th>\n      <th></th>\n      <th></th>\n      <th></th>\n      <th></th>\n      <th></th>\n      <th></th>\n      <th></th>\n      <th></th>\n      <th></th>\n      <th></th>\n      <th></th>\n      <th></th>\n      <th></th>\n      <th></th>\n    </tr>\n  </thead>\n  <tbody>\n    <tr>\n      <th>img1</th>\n      <td>../data/raw/PHP/phpDocumentor~TypeResolver/tes...</td>\n      <td>1917</td>\n      <td>997</td>\n      <td>[382, 84, 751, 320]</td>\n      <td>9.265409</td>\n      <td>20.0</td>\n      <td>150</td>\n      <td>166.0</td>\n      <td>[{'x': 382, 'y': 64, 'line_number': 150, 'heig...</td>\n      <td>Hack</td>\n      <td>RailsCasts</td>\n      <td>2022/08/27, 02:05:27</td>\n      <td>PHP</td>\n      <td>phpDocumentor~TypeResolver</td>\n      <td>tests~unit~IntegerRangeResolverTest.php</td>\n    </tr>\n    <tr>\n      <th>img2</th>\n      <td>../data/raw/PHP/phpDocumentor~TypeResolver/tes...</td>\n      <td>1917</td>\n      <td>997</td>\n      <td>[122, 65, 686, 660]</td>\n      <td>9.272727</td>\n      <td>20.0</td>\n      <td>1</td>\n      <td>33.0</td>\n      <td>[{'x': 122, 'y': 65, 'line_number': 1, 'height...</td>\n      <td>Hack</td>\n      <td>RailsCasts</td>\n      <td>2022/08/27, 02:05:41</td>\n      <td>PHP</td>\n      <td>phpDocumentor~TypeResolver</td>\n      <td>tests~unit~FqsenResolverTest.php</td>\n    </tr>\n    <tr>\n      <th>img3</th>\n      <td>../data/raw/PHP/phpDocumentor~TypeResolver/src...</td>\n      <td>1917</td>\n      <td>997</td>\n      <td>[382, 65, 686, 660]</td>\n      <td>9.267857</td>\n      <td>20.0</td>\n      <td>1</td>\n      <td>33.0</td>\n      <td>[{'x': 382, 'y': 65, 'line_number': 1, 'height...</td>\n      <td>Hack</td>\n      <td>RailsCasts</td>\n      <td>2022/08/27, 02:05:55</td>\n      <td>PHP</td>\n      <td>phpDocumentor~TypeResolver</td>\n      <td>src~TypeResolver.php</td>\n    </tr>\n    <tr>\n      <th>img4</th>\n      <td>../data/raw/PHP/phpDocumentor~TypeResolver/src...</td>\n      <td>1917</td>\n      <td>997</td>\n      <td>[382, 65, 1093, 660]</td>\n      <td>9.269231</td>\n      <td>20.0</td>\n      <td>1</td>\n      <td>33.0</td>\n      <td>[{'x': 382, 'y': 65, 'line_number': 1, 'height...</td>\n      <td>Hack</td>\n      <td>RailsCasts</td>\n      <td>2022/08/27, 02:06:09</td>\n      <td>PHP</td>\n      <td>phpDocumentor~TypeResolver</td>\n      <td>src~Types~Object_.php</td>\n    </tr>\n    <tr>\n      <th>img5</th>\n      <td>../data/raw/PHP/phpDocumentor~TypeResolver/tes...</td>\n      <td>1917</td>\n      <td>997</td>\n      <td>[382, 65, 686, 660]</td>\n      <td>9.266714</td>\n      <td>20.0</td>\n      <td>1</td>\n      <td>33.0</td>\n      <td>[{'x': 382, 'y': 65, 'line_number': 1, 'height...</td>\n      <td>Hack</td>\n      <td>RailsCasts</td>\n      <td>2022/08/27, 02:06:23</td>\n      <td>PHP</td>\n      <td>phpDocumentor~TypeResolver</td>\n      <td>tests~unit~CollectionResolverTest.php</td>\n    </tr>\n  </tbody>\n</table>\n</div>"
     },
     "execution_count": 3,
     "metadata": {},
     "output_type": "execute_result"
    }
   ],
   "source": [
    "# Replace colorful image with black white image, i.e. \"img.png\" -> \"bw.png\"\n",
    "df[\"img_path\"] = df[\"img_path\"].str.replace(\"img.png\", \"bw.png\")\n",
    "\n",
    "# Save df as class attribute\n",
    "de.data = df\n",
    "\n",
    "# Preview\n",
    "de.data.head(5)"
   ],
   "metadata": {
    "collapsed": false,
    "pycharm": {
     "name": "#%%\n"
    }
   }
  },
  {
   "cell_type": "code",
   "execution_count": 4,
   "outputs": [
    {
     "data": {
      "text/plain": "'../data/raw/PHP/timber~starter-theme/single.php/bw.png'"
     },
     "execution_count": 4,
     "metadata": {},
     "output_type": "execute_result"
    }
   ],
   "source": [
    "# Check\n",
    "de.data.iloc[125,0]"
   ],
   "metadata": {
    "collapsed": false,
    "pycharm": {
     "name": "#%%\n"
    }
   }
  },
  {
   "cell_type": "code",
   "execution_count": 5,
   "outputs": [
    {
     "name": "stdout",
     "output_type": "stream",
     "text": [
      "Removed negatives x-values in df_lines. Total: 561\n"
     ]
    },
    {
     "data": {
      "text/plain": "              img_id                                           img_path  \\\nid                                                                        \nline1           img1  ../data/raw/PHP/phpDocumentor~TypeResolver/tes...   \nline2           img1  ../data/raw/PHP/phpDocumentor~TypeResolver/tes...   \nline3           img1  ../data/raw/PHP/phpDocumentor~TypeResolver/tes...   \nline4           img1  ../data/raw/PHP/phpDocumentor~TypeResolver/tes...   \nline5           img1  ../data/raw/PHP/phpDocumentor~TypeResolver/tes...   \n...              ...                                                ...   \nline534492  img11217  ../data/raw/Shell/webdevops~Dockerfile/docker~...   \nline534493  img11217  ../data/raw/Shell/webdevops~Dockerfile/docker~...   \nline534494  img11217  ../data/raw/Shell/webdevops~Dockerfile/docker~...   \nline534495  img11217  ../data/raw/Shell/webdevops~Dockerfile/docker~...   \nline534496  img11217  ../data/raw/Shell/webdevops~Dockerfile/docker~...   \n\n                     font       theme language                  repository  \\\nid                                                                           \nline1                Hack  RailsCasts      PHP  phpDocumentor~TypeResolver   \nline2                Hack  RailsCasts      PHP  phpDocumentor~TypeResolver   \nline3                Hack  RailsCasts      PHP  phpDocumentor~TypeResolver   \nline4                Hack  RailsCasts      PHP  phpDocumentor~TypeResolver   \nline5                Hack  RailsCasts      PHP  phpDocumentor~TypeResolver   \n...                   ...         ...      ...                         ...   \nline534492  ProggyCleanTT   Chameleon    Shell        webdevops~Dockerfile   \nline534493  ProggyCleanTT   Chameleon    Shell        webdevops~Dockerfile   \nline534494  ProggyCleanTT   Chameleon    Shell        webdevops~Dockerfile   \nline534495  ProggyCleanTT   Chameleon    Shell        webdevops~Dockerfile   \nline534496  ProggyCleanTT   Chameleon    Shell        webdevops~Dockerfile   \n\n                                                         file  line_number  \\\nid                                                                           \nline1                 tests~unit~IntegerRangeResolverTest.php        150.0   \nline2                 tests~unit~IntegerRangeResolverTest.php        151.0   \nline3                 tests~unit~IntegerRangeResolverTest.php        152.0   \nline4                 tests~unit~IntegerRangeResolverTest.php        153.0   \nline5                 tests~unit~IntegerRangeResolverTest.php        154.0   \n...                                                       ...          ...   \nline534492  docker~php-nginx-dev~ubuntu-15.04~conf~provisi...         31.0   \nline534493  docker~php-nginx-dev~ubuntu-15.04~conf~provisi...         32.0   \nline534494  docker~php-nginx-dev~ubuntu-15.04~conf~provisi...         33.0   \nline534495  docker~php-nginx-dev~ubuntu-15.04~conf~provisi...         34.0   \nline534496  docker~php-nginx-dev~ubuntu-15.04~conf~provisi...         35.0   \n\n              x    y  height   width  character_width  code_width  \\\nid                                                                  \nline1       382   64    20.0  1415.0         9.269231       482.0   \nline2       382   84    20.0  1415.0         9.264151       491.0   \nline3       382  104    20.0  1415.0         9.272727       510.0   \nline4       382  124    20.0  1415.0         9.269231       482.0   \nline5       382  144    20.0  1415.0         9.333333        56.0   \n...         ...  ...     ...     ...              ...         ...   \nline534492   74  777    24.0   713.0         7.962963       181.0   \nline534493   74  801     NaN     NaN              NaN         NaN   \nline534494   74  825    24.0   713.0         7.964286       181.0   \nline534495   74  849    24.0   713.0         7.962963       181.0   \nline534496   74  873    24.0   713.0        10.437500       181.0   \n\n                                                         text  \nid                                                             \nline1            * @uses \\phpDocumentor\\Reflection\\Types\\C...  \nline2            * @uses \\phpDocumentor\\Reflection\\Types\\C...  \nline3            * @uses \\phpDocumentor\\Reflection\\Types\\C...  \nline4            * @uses \\phpDocumentor\\Reflection\\Types\\S...  \nline5                                                       *  \n...                                                       ...  \nline534492                        /usr/local/etc/php/conf.d/\"  \nline534493                                               None  \nline534494                       function phpModuleRemove() {  \nline534495                            if [ \"$#\" -ne 1 ]; then  \nline534496          echo \"You must specify the name of the...  \n\n[534496 rows x 15 columns]",
      "text/html": "<div>\n<style scoped>\n    .dataframe tbody tr th:only-of-type {\n        vertical-align: middle;\n    }\n\n    .dataframe tbody tr th {\n        vertical-align: top;\n    }\n\n    .dataframe thead th {\n        text-align: right;\n    }\n</style>\n<table border=\"1\" class=\"dataframe\">\n  <thead>\n    <tr style=\"text-align: right;\">\n      <th></th>\n      <th>img_id</th>\n      <th>img_path</th>\n      <th>font</th>\n      <th>theme</th>\n      <th>language</th>\n      <th>repository</th>\n      <th>file</th>\n      <th>line_number</th>\n      <th>x</th>\n      <th>y</th>\n      <th>height</th>\n      <th>width</th>\n      <th>character_width</th>\n      <th>code_width</th>\n      <th>text</th>\n    </tr>\n    <tr>\n      <th>id</th>\n      <th></th>\n      <th></th>\n      <th></th>\n      <th></th>\n      <th></th>\n      <th></th>\n      <th></th>\n      <th></th>\n      <th></th>\n      <th></th>\n      <th></th>\n      <th></th>\n      <th></th>\n      <th></th>\n      <th></th>\n    </tr>\n  </thead>\n  <tbody>\n    <tr>\n      <th>line1</th>\n      <td>img1</td>\n      <td>../data/raw/PHP/phpDocumentor~TypeResolver/tes...</td>\n      <td>Hack</td>\n      <td>RailsCasts</td>\n      <td>PHP</td>\n      <td>phpDocumentor~TypeResolver</td>\n      <td>tests~unit~IntegerRangeResolverTest.php</td>\n      <td>150.0</td>\n      <td>382</td>\n      <td>64</td>\n      <td>20.0</td>\n      <td>1415.0</td>\n      <td>9.269231</td>\n      <td>482.0</td>\n      <td>* @uses \\phpDocumentor\\Reflection\\Types\\C...</td>\n    </tr>\n    <tr>\n      <th>line2</th>\n      <td>img1</td>\n      <td>../data/raw/PHP/phpDocumentor~TypeResolver/tes...</td>\n      <td>Hack</td>\n      <td>RailsCasts</td>\n      <td>PHP</td>\n      <td>phpDocumentor~TypeResolver</td>\n      <td>tests~unit~IntegerRangeResolverTest.php</td>\n      <td>151.0</td>\n      <td>382</td>\n      <td>84</td>\n      <td>20.0</td>\n      <td>1415.0</td>\n      <td>9.264151</td>\n      <td>491.0</td>\n      <td>* @uses \\phpDocumentor\\Reflection\\Types\\C...</td>\n    </tr>\n    <tr>\n      <th>line3</th>\n      <td>img1</td>\n      <td>../data/raw/PHP/phpDocumentor~TypeResolver/tes...</td>\n      <td>Hack</td>\n      <td>RailsCasts</td>\n      <td>PHP</td>\n      <td>phpDocumentor~TypeResolver</td>\n      <td>tests~unit~IntegerRangeResolverTest.php</td>\n      <td>152.0</td>\n      <td>382</td>\n      <td>104</td>\n      <td>20.0</td>\n      <td>1415.0</td>\n      <td>9.272727</td>\n      <td>510.0</td>\n      <td>* @uses \\phpDocumentor\\Reflection\\Types\\C...</td>\n    </tr>\n    <tr>\n      <th>line4</th>\n      <td>img1</td>\n      <td>../data/raw/PHP/phpDocumentor~TypeResolver/tes...</td>\n      <td>Hack</td>\n      <td>RailsCasts</td>\n      <td>PHP</td>\n      <td>phpDocumentor~TypeResolver</td>\n      <td>tests~unit~IntegerRangeResolverTest.php</td>\n      <td>153.0</td>\n      <td>382</td>\n      <td>124</td>\n      <td>20.0</td>\n      <td>1415.0</td>\n      <td>9.269231</td>\n      <td>482.0</td>\n      <td>* @uses \\phpDocumentor\\Reflection\\Types\\S...</td>\n    </tr>\n    <tr>\n      <th>line5</th>\n      <td>img1</td>\n      <td>../data/raw/PHP/phpDocumentor~TypeResolver/tes...</td>\n      <td>Hack</td>\n      <td>RailsCasts</td>\n      <td>PHP</td>\n      <td>phpDocumentor~TypeResolver</td>\n      <td>tests~unit~IntegerRangeResolverTest.php</td>\n      <td>154.0</td>\n      <td>382</td>\n      <td>144</td>\n      <td>20.0</td>\n      <td>1415.0</td>\n      <td>9.333333</td>\n      <td>56.0</td>\n      <td>*</td>\n    </tr>\n    <tr>\n      <th>...</th>\n      <td>...</td>\n      <td>...</td>\n      <td>...</td>\n      <td>...</td>\n      <td>...</td>\n      <td>...</td>\n      <td>...</td>\n      <td>...</td>\n      <td>...</td>\n      <td>...</td>\n      <td>...</td>\n      <td>...</td>\n      <td>...</td>\n      <td>...</td>\n      <td>...</td>\n    </tr>\n    <tr>\n      <th>line534492</th>\n      <td>img11217</td>\n      <td>../data/raw/Shell/webdevops~Dockerfile/docker~...</td>\n      <td>ProggyCleanTT</td>\n      <td>Chameleon</td>\n      <td>Shell</td>\n      <td>webdevops~Dockerfile</td>\n      <td>docker~php-nginx-dev~ubuntu-15.04~conf~provisi...</td>\n      <td>31.0</td>\n      <td>74</td>\n      <td>777</td>\n      <td>24.0</td>\n      <td>713.0</td>\n      <td>7.962963</td>\n      <td>181.0</td>\n      <td>/usr/local/etc/php/conf.d/\"</td>\n    </tr>\n    <tr>\n      <th>line534493</th>\n      <td>img11217</td>\n      <td>../data/raw/Shell/webdevops~Dockerfile/docker~...</td>\n      <td>ProggyCleanTT</td>\n      <td>Chameleon</td>\n      <td>Shell</td>\n      <td>webdevops~Dockerfile</td>\n      <td>docker~php-nginx-dev~ubuntu-15.04~conf~provisi...</td>\n      <td>32.0</td>\n      <td>74</td>\n      <td>801</td>\n      <td>NaN</td>\n      <td>NaN</td>\n      <td>NaN</td>\n      <td>NaN</td>\n      <td>None</td>\n    </tr>\n    <tr>\n      <th>line534494</th>\n      <td>img11217</td>\n      <td>../data/raw/Shell/webdevops~Dockerfile/docker~...</td>\n      <td>ProggyCleanTT</td>\n      <td>Chameleon</td>\n      <td>Shell</td>\n      <td>webdevops~Dockerfile</td>\n      <td>docker~php-nginx-dev~ubuntu-15.04~conf~provisi...</td>\n      <td>33.0</td>\n      <td>74</td>\n      <td>825</td>\n      <td>24.0</td>\n      <td>713.0</td>\n      <td>7.964286</td>\n      <td>181.0</td>\n      <td>function phpModuleRemove() {</td>\n    </tr>\n    <tr>\n      <th>line534495</th>\n      <td>img11217</td>\n      <td>../data/raw/Shell/webdevops~Dockerfile/docker~...</td>\n      <td>ProggyCleanTT</td>\n      <td>Chameleon</td>\n      <td>Shell</td>\n      <td>webdevops~Dockerfile</td>\n      <td>docker~php-nginx-dev~ubuntu-15.04~conf~provisi...</td>\n      <td>34.0</td>\n      <td>74</td>\n      <td>849</td>\n      <td>24.0</td>\n      <td>713.0</td>\n      <td>7.962963</td>\n      <td>181.0</td>\n      <td>if [ \"$#\" -ne 1 ]; then</td>\n    </tr>\n    <tr>\n      <th>line534496</th>\n      <td>img11217</td>\n      <td>../data/raw/Shell/webdevops~Dockerfile/docker~...</td>\n      <td>ProggyCleanTT</td>\n      <td>Chameleon</td>\n      <td>Shell</td>\n      <td>webdevops~Dockerfile</td>\n      <td>docker~php-nginx-dev~ubuntu-15.04~conf~provisi...</td>\n      <td>35.0</td>\n      <td>74</td>\n      <td>873</td>\n      <td>24.0</td>\n      <td>713.0</td>\n      <td>10.437500</td>\n      <td>181.0</td>\n      <td>echo \"You must specify the name of the...</td>\n    </tr>\n  </tbody>\n</table>\n<p>534496 rows × 15 columns</p>\n</div>"
     },
     "execution_count": 5,
     "metadata": {},
     "output_type": "execute_result"
    }
   ],
   "source": [
    "df_lines = de.extract_lines_data()\n",
    "de.to_json(attr=\"all\", file_name=[\"data_bw.json\", \"lines_data_no_path_bw.json\"], to_dir=\"../data/extracted\")\n",
    "df_lines"
   ],
   "metadata": {
    "collapsed": false,
    "pycharm": {
     "name": "#%%\n"
    }
   }
  },
  {
   "cell_type": "code",
   "execution_count": 6,
   "outputs": [
    {
     "data": {
      "text/plain": "'../data/raw/PHP/hwi~HWIOAuthBundle/src~OAuth~ResourceOwner~EveOnlineResourceOwner.php/bw.png'"
     },
     "execution_count": 6,
     "metadata": {},
     "output_type": "execute_result"
    }
   ],
   "source": [
    "# Check\n",
    "df_lines.iloc[301, 1]"
   ],
   "metadata": {
    "collapsed": false,
    "pycharm": {
     "name": "#%%\n"
    }
   }
  },
  {
   "cell_type": "code",
   "execution_count": 7,
   "outputs": [
    {
     "data": {
      "text/plain": "      img_id                                           img_path  font  \\\nid                                                                      \nline1   img1  ../data/raw/PHP/phpDocumentor~TypeResolver/tes...  Hack   \nline2   img1  ../data/raw/PHP/phpDocumentor~TypeResolver/tes...  Hack   \nline3   img1  ../data/raw/PHP/phpDocumentor~TypeResolver/tes...  Hack   \nline4   img1  ../data/raw/PHP/phpDocumentor~TypeResolver/tes...  Hack   \nline5   img1  ../data/raw/PHP/phpDocumentor~TypeResolver/tes...  Hack   \n\n            theme language                  repository  \\\nid                                                       \nline1  RailsCasts      PHP  phpDocumentor~TypeResolver   \nline2  RailsCasts      PHP  phpDocumentor~TypeResolver   \nline3  RailsCasts      PHP  phpDocumentor~TypeResolver   \nline4  RailsCasts      PHP  phpDocumentor~TypeResolver   \nline5  RailsCasts      PHP  phpDocumentor~TypeResolver   \n\n                                          file  line_number    x    y  height  \\\nid                                                                              \nline1  tests~unit~IntegerRangeResolverTest.php        150.0  382   64    20.0   \nline2  tests~unit~IntegerRangeResolverTest.php        151.0  382   84    20.0   \nline3  tests~unit~IntegerRangeResolverTest.php        152.0  382  104    20.0   \nline4  tests~unit~IntegerRangeResolverTest.php        153.0  382  124    20.0   \nline5  tests~unit~IntegerRangeResolverTest.php        154.0  382  144    20.0   \n\n        width  character_width  code_width  \\\nid                                           \nline1  1415.0         9.269231       482.0   \nline2  1415.0         9.264151       491.0   \nline3  1415.0         9.272727       510.0   \nline4  1415.0         9.269231       482.0   \nline5  1415.0         9.333333        56.0   \n\n                                                    text  \nid                                                        \nline1       * @uses \\phpDocumentor\\Reflection\\Types\\C...  \nline2       * @uses \\phpDocumentor\\Reflection\\Types\\C...  \nline3       * @uses \\phpDocumentor\\Reflection\\Types\\C...  \nline4       * @uses \\phpDocumentor\\Reflection\\Types\\S...  \nline5                                                  *  ",
      "text/html": "<div>\n<style scoped>\n    .dataframe tbody tr th:only-of-type {\n        vertical-align: middle;\n    }\n\n    .dataframe tbody tr th {\n        vertical-align: top;\n    }\n\n    .dataframe thead th {\n        text-align: right;\n    }\n</style>\n<table border=\"1\" class=\"dataframe\">\n  <thead>\n    <tr style=\"text-align: right;\">\n      <th></th>\n      <th>img_id</th>\n      <th>img_path</th>\n      <th>font</th>\n      <th>theme</th>\n      <th>language</th>\n      <th>repository</th>\n      <th>file</th>\n      <th>line_number</th>\n      <th>x</th>\n      <th>y</th>\n      <th>height</th>\n      <th>width</th>\n      <th>character_width</th>\n      <th>code_width</th>\n      <th>text</th>\n    </tr>\n    <tr>\n      <th>id</th>\n      <th></th>\n      <th></th>\n      <th></th>\n      <th></th>\n      <th></th>\n      <th></th>\n      <th></th>\n      <th></th>\n      <th></th>\n      <th></th>\n      <th></th>\n      <th></th>\n      <th></th>\n      <th></th>\n      <th></th>\n    </tr>\n  </thead>\n  <tbody>\n    <tr>\n      <th>line1</th>\n      <td>img1</td>\n      <td>../data/raw/PHP/phpDocumentor~TypeResolver/tes...</td>\n      <td>Hack</td>\n      <td>RailsCasts</td>\n      <td>PHP</td>\n      <td>phpDocumentor~TypeResolver</td>\n      <td>tests~unit~IntegerRangeResolverTest.php</td>\n      <td>150.0</td>\n      <td>382</td>\n      <td>64</td>\n      <td>20.0</td>\n      <td>1415.0</td>\n      <td>9.269231</td>\n      <td>482.0</td>\n      <td>* @uses \\phpDocumentor\\Reflection\\Types\\C...</td>\n    </tr>\n    <tr>\n      <th>line2</th>\n      <td>img1</td>\n      <td>../data/raw/PHP/phpDocumentor~TypeResolver/tes...</td>\n      <td>Hack</td>\n      <td>RailsCasts</td>\n      <td>PHP</td>\n      <td>phpDocumentor~TypeResolver</td>\n      <td>tests~unit~IntegerRangeResolverTest.php</td>\n      <td>151.0</td>\n      <td>382</td>\n      <td>84</td>\n      <td>20.0</td>\n      <td>1415.0</td>\n      <td>9.264151</td>\n      <td>491.0</td>\n      <td>* @uses \\phpDocumentor\\Reflection\\Types\\C...</td>\n    </tr>\n    <tr>\n      <th>line3</th>\n      <td>img1</td>\n      <td>../data/raw/PHP/phpDocumentor~TypeResolver/tes...</td>\n      <td>Hack</td>\n      <td>RailsCasts</td>\n      <td>PHP</td>\n      <td>phpDocumentor~TypeResolver</td>\n      <td>tests~unit~IntegerRangeResolverTest.php</td>\n      <td>152.0</td>\n      <td>382</td>\n      <td>104</td>\n      <td>20.0</td>\n      <td>1415.0</td>\n      <td>9.272727</td>\n      <td>510.0</td>\n      <td>* @uses \\phpDocumentor\\Reflection\\Types\\C...</td>\n    </tr>\n    <tr>\n      <th>line4</th>\n      <td>img1</td>\n      <td>../data/raw/PHP/phpDocumentor~TypeResolver/tes...</td>\n      <td>Hack</td>\n      <td>RailsCasts</td>\n      <td>PHP</td>\n      <td>phpDocumentor~TypeResolver</td>\n      <td>tests~unit~IntegerRangeResolverTest.php</td>\n      <td>153.0</td>\n      <td>382</td>\n      <td>124</td>\n      <td>20.0</td>\n      <td>1415.0</td>\n      <td>9.269231</td>\n      <td>482.0</td>\n      <td>* @uses \\phpDocumentor\\Reflection\\Types\\S...</td>\n    </tr>\n    <tr>\n      <th>line5</th>\n      <td>img1</td>\n      <td>../data/raw/PHP/phpDocumentor~TypeResolver/tes...</td>\n      <td>Hack</td>\n      <td>RailsCasts</td>\n      <td>PHP</td>\n      <td>phpDocumentor~TypeResolver</td>\n      <td>tests~unit~IntegerRangeResolverTest.php</td>\n      <td>154.0</td>\n      <td>382</td>\n      <td>144</td>\n      <td>20.0</td>\n      <td>1415.0</td>\n      <td>9.333333</td>\n      <td>56.0</td>\n      <td>*</td>\n    </tr>\n  </tbody>\n</table>\n</div>"
     },
     "execution_count": 7,
     "metadata": {},
     "output_type": "execute_result"
    }
   ],
   "source": [
    "de.lines_data.head(5)"
   ],
   "metadata": {
    "collapsed": false,
    "pycharm": {
     "name": "#%%\n"
    }
   }
  },
  {
   "cell_type": "code",
   "execution_count": 8,
   "outputs": [
    {
     "data": {
      "text/plain": "'../data/raw/PHP/phpDocumentor~TypeResolver/tests~unit~IntegerRangeResolverTest.php/bw.png'"
     },
     "execution_count": 8,
     "metadata": {},
     "output_type": "execute_result"
    }
   ],
   "source": [
    "de.lines_data.head(5).iloc[0, 1]"
   ],
   "metadata": {
    "collapsed": false,
    "pycharm": {
     "name": "#%%\n"
    }
   }
  },
  {
   "cell_type": "code",
   "execution_count": 9,
   "outputs": [],
   "source": [
    "# Generate images for each line of code in the dataset, crop images using full width of each line of code, save resulting dataframe in json file\n",
    "#df_lines_fw = de.generate_line_images(save_dir=\"line_images_fw\", use_code_width=False)\n",
    "#de.to_json(attr=\"all\", file_name=[\"data.json\", \"lines_data_fw.json\"], to_dir=\"../data/extracted\")\n",
    "\n",
    "# Generate images for each line of code in the dataset, crop images using only the code width of each line of code, save resulting dataframe in json file\n",
    "df_lines_cw_bw = de.generate_line_images(save_dir=\"line_images_cw\", use_code_width=True)\n",
    "de.to_json(attr=\"lines_data\", file_name=\"lines_data_cw_bw.json\", to_dir=\"../data/extracted\")"
   ],
   "metadata": {
    "collapsed": false,
    "pycharm": {
     "name": "#%%\n"
    }
   }
  },
  {
   "cell_type": "code",
   "execution_count": 10,
   "outputs": [],
   "source": [
    "# Optional (not very important method): Load line_image_paths of each code line WITHOUT the cropping of the images\n",
    "# df_lines = de.get_line_image_paths(save_dir=\"line_images_fw\")"
   ],
   "metadata": {
    "collapsed": false,
    "pycharm": {
     "name": "#%%\n"
    }
   }
  },
  {
   "cell_type": "code",
   "execution_count": 11,
   "outputs": [],
   "source": [
    "# Load data & lines_data from json files\n",
    "df_data, df_lines_cw_bw = de.from_json(attr=\"all\", file_name=[\"data_bw.json\", \"lines_data_cw_bw.json\"], from_dir=\"../data/extracted\")\n"
   ],
   "metadata": {
    "collapsed": false,
    "pycharm": {
     "name": "#%%\n"
    }
   }
  },
  {
   "cell_type": "code",
   "execution_count": 12,
   "outputs": [
    {
     "data": {
      "text/plain": "'../data/raw/PHP/phpDocumentor~TypeResolver/tests~unit~IntegerRangeResolverTest.php/line_images_cw/line151.0_bw.png'"
     },
     "execution_count": 12,
     "metadata": {},
     "output_type": "execute_result"
    }
   ],
   "source": [
    "df_lines_cw_bw.iloc[1, 2]"
   ],
   "metadata": {
    "collapsed": false,
    "pycharm": {
     "name": "#%%\n"
    }
   }
  },
  {
   "cell_type": "code",
   "execution_count": 13,
   "outputs": [
    {
     "data": {
      "text/plain": "      img_id                                           img_path  \\\nline1   img1  ../data/raw/PHP/phpDocumentor~TypeResolver/tes...   \nline2   img1  ../data/raw/PHP/phpDocumentor~TypeResolver/tes...   \nline3   img1  ../data/raw/PHP/phpDocumentor~TypeResolver/tes...   \nline4   img1  ../data/raw/PHP/phpDocumentor~TypeResolver/tes...   \nline5   img1  ../data/raw/PHP/phpDocumentor~TypeResolver/tes...   \n\n                                           line_img_path  font       theme  \\\nline1  ../data/raw/PHP/phpDocumentor~TypeResolver/tes...  Hack  RailsCasts   \nline2  ../data/raw/PHP/phpDocumentor~TypeResolver/tes...  Hack  RailsCasts   \nline3  ../data/raw/PHP/phpDocumentor~TypeResolver/tes...  Hack  RailsCasts   \nline4  ../data/raw/PHP/phpDocumentor~TypeResolver/tes...  Hack  RailsCasts   \nline5  ../data/raw/PHP/phpDocumentor~TypeResolver/tes...  Hack  RailsCasts   \n\n      language                  repository  \\\nline1      PHP  phpDocumentor~TypeResolver   \nline2      PHP  phpDocumentor~TypeResolver   \nline3      PHP  phpDocumentor~TypeResolver   \nline4      PHP  phpDocumentor~TypeResolver   \nline5      PHP  phpDocumentor~TypeResolver   \n\n                                          file  line_number    x    y  height  \\\nline1  tests~unit~IntegerRangeResolverTest.php        150.0  382   64    20.0   \nline2  tests~unit~IntegerRangeResolverTest.php        151.0  382   84    20.0   \nline3  tests~unit~IntegerRangeResolverTest.php        152.0  382  104    20.0   \nline4  tests~unit~IntegerRangeResolverTest.php        153.0  382  124    20.0   \nline5  tests~unit~IntegerRangeResolverTest.php        154.0  382  144    20.0   \n\n        width  character_width  code_width  \\\nline1  1415.0         9.269231       482.0   \nline2  1415.0         9.264151       491.0   \nline3  1415.0         9.272727       510.0   \nline4  1415.0         9.269231       482.0   \nline5  1415.0         9.333333        56.0   \n\n                                                    text  \nline1       * @uses \\phpDocumentor\\Reflection\\Types\\C...  \nline2       * @uses \\phpDocumentor\\Reflection\\Types\\C...  \nline3       * @uses \\phpDocumentor\\Reflection\\Types\\C...  \nline4       * @uses \\phpDocumentor\\Reflection\\Types\\S...  \nline5                                                  *  ",
      "text/html": "<div>\n<style scoped>\n    .dataframe tbody tr th:only-of-type {\n        vertical-align: middle;\n    }\n\n    .dataframe tbody tr th {\n        vertical-align: top;\n    }\n\n    .dataframe thead th {\n        text-align: right;\n    }\n</style>\n<table border=\"1\" class=\"dataframe\">\n  <thead>\n    <tr style=\"text-align: right;\">\n      <th></th>\n      <th>img_id</th>\n      <th>img_path</th>\n      <th>line_img_path</th>\n      <th>font</th>\n      <th>theme</th>\n      <th>language</th>\n      <th>repository</th>\n      <th>file</th>\n      <th>line_number</th>\n      <th>x</th>\n      <th>y</th>\n      <th>height</th>\n      <th>width</th>\n      <th>character_width</th>\n      <th>code_width</th>\n      <th>text</th>\n    </tr>\n  </thead>\n  <tbody>\n    <tr>\n      <th>line1</th>\n      <td>img1</td>\n      <td>../data/raw/PHP/phpDocumentor~TypeResolver/tes...</td>\n      <td>../data/raw/PHP/phpDocumentor~TypeResolver/tes...</td>\n      <td>Hack</td>\n      <td>RailsCasts</td>\n      <td>PHP</td>\n      <td>phpDocumentor~TypeResolver</td>\n      <td>tests~unit~IntegerRangeResolverTest.php</td>\n      <td>150.0</td>\n      <td>382</td>\n      <td>64</td>\n      <td>20.0</td>\n      <td>1415.0</td>\n      <td>9.269231</td>\n      <td>482.0</td>\n      <td>* @uses \\phpDocumentor\\Reflection\\Types\\C...</td>\n    </tr>\n    <tr>\n      <th>line2</th>\n      <td>img1</td>\n      <td>../data/raw/PHP/phpDocumentor~TypeResolver/tes...</td>\n      <td>../data/raw/PHP/phpDocumentor~TypeResolver/tes...</td>\n      <td>Hack</td>\n      <td>RailsCasts</td>\n      <td>PHP</td>\n      <td>phpDocumentor~TypeResolver</td>\n      <td>tests~unit~IntegerRangeResolverTest.php</td>\n      <td>151.0</td>\n      <td>382</td>\n      <td>84</td>\n      <td>20.0</td>\n      <td>1415.0</td>\n      <td>9.264151</td>\n      <td>491.0</td>\n      <td>* @uses \\phpDocumentor\\Reflection\\Types\\C...</td>\n    </tr>\n    <tr>\n      <th>line3</th>\n      <td>img1</td>\n      <td>../data/raw/PHP/phpDocumentor~TypeResolver/tes...</td>\n      <td>../data/raw/PHP/phpDocumentor~TypeResolver/tes...</td>\n      <td>Hack</td>\n      <td>RailsCasts</td>\n      <td>PHP</td>\n      <td>phpDocumentor~TypeResolver</td>\n      <td>tests~unit~IntegerRangeResolverTest.php</td>\n      <td>152.0</td>\n      <td>382</td>\n      <td>104</td>\n      <td>20.0</td>\n      <td>1415.0</td>\n      <td>9.272727</td>\n      <td>510.0</td>\n      <td>* @uses \\phpDocumentor\\Reflection\\Types\\C...</td>\n    </tr>\n    <tr>\n      <th>line4</th>\n      <td>img1</td>\n      <td>../data/raw/PHP/phpDocumentor~TypeResolver/tes...</td>\n      <td>../data/raw/PHP/phpDocumentor~TypeResolver/tes...</td>\n      <td>Hack</td>\n      <td>RailsCasts</td>\n      <td>PHP</td>\n      <td>phpDocumentor~TypeResolver</td>\n      <td>tests~unit~IntegerRangeResolverTest.php</td>\n      <td>153.0</td>\n      <td>382</td>\n      <td>124</td>\n      <td>20.0</td>\n      <td>1415.0</td>\n      <td>9.269231</td>\n      <td>482.0</td>\n      <td>* @uses \\phpDocumentor\\Reflection\\Types\\S...</td>\n    </tr>\n    <tr>\n      <th>line5</th>\n      <td>img1</td>\n      <td>../data/raw/PHP/phpDocumentor~TypeResolver/tes...</td>\n      <td>../data/raw/PHP/phpDocumentor~TypeResolver/tes...</td>\n      <td>Hack</td>\n      <td>RailsCasts</td>\n      <td>PHP</td>\n      <td>phpDocumentor~TypeResolver</td>\n      <td>tests~unit~IntegerRangeResolverTest.php</td>\n      <td>154.0</td>\n      <td>382</td>\n      <td>144</td>\n      <td>20.0</td>\n      <td>1415.0</td>\n      <td>9.333333</td>\n      <td>56.0</td>\n      <td>*</td>\n    </tr>\n  </tbody>\n</table>\n</div>"
     },
     "execution_count": 13,
     "metadata": {},
     "output_type": "execute_result"
    }
   ],
   "source": [
    "df_lines_cw_bw.head(5)"
   ],
   "metadata": {
    "collapsed": false,
    "pycharm": {
     "name": "#%%\n"
    }
   }
  },
  {
   "cell_type": "code",
   "execution_count": 14,
   "id": "5f5a0813",
   "metadata": {
    "pycharm": {
     "name": "#%%\n"
    }
   },
   "outputs": [
    {
     "data": {
      "text/plain": "'../data/raw/PHP/phpDocumentor~TypeResolver/tests~unit~IntegerRangeResolverTest.php/line_images_cw/line152.0_bw.png'"
     },
     "execution_count": 14,
     "metadata": {},
     "output_type": "execute_result"
    }
   ],
   "source": [
    "df_lines_cw_bw.head(5).iloc[2,2]"
   ]
  },
  {
   "cell_type": "code",
   "execution_count": 15,
   "id": "ec845038",
   "metadata": {
    "pycharm": {
     "name": "#%%\n"
    }
   },
   "outputs": [
    {
     "data": {
      "text/plain": "'../data/raw/PHP/phpDocumentor~TypeResolver/tests~unit~IntegerRangeResolverTest.php/line_images_cw/line152.0_bw.png'"
     },
     "execution_count": 15,
     "metadata": {},
     "output_type": "execute_result"
    }
   ],
   "source": [
    "df_lines_cw_bw.head(5).iloc[2,2]"
   ]
  }
 ],
 "metadata": {
  "kernelspec": {
   "display_name": "Python 3 (ipykernel)",
   "language": "python",
   "name": "python3"
  },
  "language_info": {
   "codemirror_mode": {
    "name": "ipython",
    "version": 3
   },
   "file_extension": ".py",
   "mimetype": "text/x-python",
   "name": "python",
   "nbconvert_exporter": "python",
   "pygments_lexer": "ipython3",
   "version": "3.9.13"
  },
  "vscode": {
   "interpreter": {
    "hash": "e8c1031928e3d5b5f3198551daa60294d6006460cd6cfc3c5cdbcd4893f26991"
   }
  }
 },
 "nbformat": 4,
 "nbformat_minor": 5
}